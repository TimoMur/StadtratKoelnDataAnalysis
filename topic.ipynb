{
 "cells": [
  {
   "cell_type": "code",
   "execution_count": 27,
   "metadata": {},
   "outputs": [
    {
     "name": "stdout",
     "output_type": "stream",
     "text": [
      "Requirement already satisfied: ipykernel in ./.venv/lib/python3.8/site-packages (6.29.3)\n",
      "Requirement already satisfied: appnope in ./.venv/lib/python3.8/site-packages (from ipykernel) (0.1.4)\n",
      "Requirement already satisfied: comm>=0.1.1 in ./.venv/lib/python3.8/site-packages (from ipykernel) (0.2.1)\n",
      "Requirement already satisfied: debugpy>=1.6.5 in ./.venv/lib/python3.8/site-packages (from ipykernel) (1.8.1)\n",
      "Requirement already satisfied: ipython>=7.23.1 in ./.venv/lib/python3.8/site-packages (from ipykernel) (8.12.3)\n",
      "Requirement already satisfied: jupyter-client>=6.1.12 in ./.venv/lib/python3.8/site-packages (from ipykernel) (8.6.0)\n",
      "Requirement already satisfied: jupyter-core!=5.0.*,>=4.12 in ./.venv/lib/python3.8/site-packages (from ipykernel) (5.7.1)\n",
      "Requirement already satisfied: matplotlib-inline>=0.1 in ./.venv/lib/python3.8/site-packages (from ipykernel) (0.1.6)\n",
      "Requirement already satisfied: nest-asyncio in ./.venv/lib/python3.8/site-packages (from ipykernel) (1.6.0)\n",
      "Requirement already satisfied: packaging in ./.venv/lib/python3.8/site-packages (from ipykernel) (24.0)\n",
      "Requirement already satisfied: psutil in ./.venv/lib/python3.8/site-packages (from ipykernel) (5.9.8)\n",
      "Requirement already satisfied: pyzmq>=24 in ./.venv/lib/python3.8/site-packages (from ipykernel) (25.1.2)\n",
      "Requirement already satisfied: tornado>=6.1 in ./.venv/lib/python3.8/site-packages (from ipykernel) (6.4)\n",
      "Requirement already satisfied: traitlets>=5.4.0 in ./.venv/lib/python3.8/site-packages (from ipykernel) (5.14.1)\n",
      "Requirement already satisfied: backcall in ./.venv/lib/python3.8/site-packages (from ipython>=7.23.1->ipykernel) (0.2.0)\n",
      "Requirement already satisfied: decorator in ./.venv/lib/python3.8/site-packages (from ipython>=7.23.1->ipykernel) (5.1.1)\n",
      "Requirement already satisfied: jedi>=0.16 in ./.venv/lib/python3.8/site-packages (from ipython>=7.23.1->ipykernel) (0.19.1)\n",
      "Requirement already satisfied: pickleshare in ./.venv/lib/python3.8/site-packages (from ipython>=7.23.1->ipykernel) (0.7.5)\n",
      "Requirement already satisfied: prompt-toolkit!=3.0.37,<3.1.0,>=3.0.30 in ./.venv/lib/python3.8/site-packages (from ipython>=7.23.1->ipykernel) (3.0.43)\n",
      "Requirement already satisfied: pygments>=2.4.0 in ./.venv/lib/python3.8/site-packages (from ipython>=7.23.1->ipykernel) (2.17.2)\n",
      "Requirement already satisfied: stack-data in ./.venv/lib/python3.8/site-packages (from ipython>=7.23.1->ipykernel) (0.6.3)\n",
      "Requirement already satisfied: typing-extensions in ./.venv/lib/python3.8/site-packages (from ipython>=7.23.1->ipykernel) (4.10.0)\n",
      "Requirement already satisfied: pexpect>4.3 in ./.venv/lib/python3.8/site-packages (from ipython>=7.23.1->ipykernel) (4.9.0)\n",
      "Requirement already satisfied: importlib-metadata>=4.8.3 in ./.venv/lib/python3.8/site-packages (from jupyter-client>=6.1.12->ipykernel) (7.0.2)\n",
      "Requirement already satisfied: python-dateutil>=2.8.2 in ./.venv/lib/python3.8/site-packages (from jupyter-client>=6.1.12->ipykernel) (2.9.0.post0)\n",
      "Requirement already satisfied: platformdirs>=2.5 in ./.venv/lib/python3.8/site-packages (from jupyter-core!=5.0.*,>=4.12->ipykernel) (4.2.0)\n",
      "Requirement already satisfied: zipp>=0.5 in ./.venv/lib/python3.8/site-packages (from importlib-metadata>=4.8.3->jupyter-client>=6.1.12->ipykernel) (3.17.0)\n",
      "Requirement already satisfied: parso<0.9.0,>=0.8.3 in ./.venv/lib/python3.8/site-packages (from jedi>=0.16->ipython>=7.23.1->ipykernel) (0.8.3)\n",
      "Requirement already satisfied: ptyprocess>=0.5 in ./.venv/lib/python3.8/site-packages (from pexpect>4.3->ipython>=7.23.1->ipykernel) (0.7.0)\n",
      "Requirement already satisfied: wcwidth in ./.venv/lib/python3.8/site-packages (from prompt-toolkit!=3.0.37,<3.1.0,>=3.0.30->ipython>=7.23.1->ipykernel) (0.2.13)\n",
      "Requirement already satisfied: six>=1.5 in ./.venv/lib/python3.8/site-packages (from python-dateutil>=2.8.2->jupyter-client>=6.1.12->ipykernel) (1.16.0)\n",
      "Requirement already satisfied: executing>=1.2.0 in ./.venv/lib/python3.8/site-packages (from stack-data->ipython>=7.23.1->ipykernel) (2.0.1)\n",
      "Requirement already satisfied: asttokens>=2.1.0 in ./.venv/lib/python3.8/site-packages (from stack-data->ipython>=7.23.1->ipykernel) (2.4.1)\n",
      "Requirement already satisfied: pure-eval in ./.venv/lib/python3.8/site-packages (from stack-data->ipython>=7.23.1->ipykernel) (0.2.2)\n",
      "Requirement already satisfied: nbformat in ./.venv/lib/python3.8/site-packages (5.9.2)\n",
      "Requirement already satisfied: fastjsonschema in ./.venv/lib/python3.8/site-packages (from nbformat) (2.19.1)\n",
      "Requirement already satisfied: jsonschema>=2.6 in ./.venv/lib/python3.8/site-packages (from nbformat) (4.21.1)\n",
      "Requirement already satisfied: jupyter-core in ./.venv/lib/python3.8/site-packages (from nbformat) (5.7.1)\n",
      "Requirement already satisfied: traitlets>=5.1 in ./.venv/lib/python3.8/site-packages (from nbformat) (5.14.1)\n",
      "Requirement already satisfied: attrs>=22.2.0 in ./.venv/lib/python3.8/site-packages (from jsonschema>=2.6->nbformat) (23.2.0)\n",
      "Requirement already satisfied: importlib-resources>=1.4.0 in ./.venv/lib/python3.8/site-packages (from jsonschema>=2.6->nbformat) (6.1.3)\n",
      "Requirement already satisfied: jsonschema-specifications>=2023.03.6 in ./.venv/lib/python3.8/site-packages (from jsonschema>=2.6->nbformat) (2023.12.1)\n",
      "Requirement already satisfied: pkgutil-resolve-name>=1.3.10 in ./.venv/lib/python3.8/site-packages (from jsonschema>=2.6->nbformat) (1.3.10)\n",
      "Requirement already satisfied: referencing>=0.28.4 in ./.venv/lib/python3.8/site-packages (from jsonschema>=2.6->nbformat) (0.33.0)\n",
      "Requirement already satisfied: rpds-py>=0.7.1 in ./.venv/lib/python3.8/site-packages (from jsonschema>=2.6->nbformat) (0.18.0)\n",
      "Requirement already satisfied: platformdirs>=2.5 in ./.venv/lib/python3.8/site-packages (from jupyter-core->nbformat) (4.2.0)\n",
      "Requirement already satisfied: zipp>=3.1.0 in ./.venv/lib/python3.8/site-packages (from importlib-resources>=1.4.0->jsonschema>=2.6->nbformat) (3.17.0)\n",
      "Requirement already satisfied: plotly in ./.venv/lib/python3.8/site-packages (5.19.0)\n",
      "Requirement already satisfied: tenacity>=6.2.0 in ./.venv/lib/python3.8/site-packages (from plotly) (8.2.3)\n",
      "Requirement already satisfied: packaging in ./.venv/lib/python3.8/site-packages (from plotly) (24.0)\n"
     ]
    }
   ],
   "source": [
    "! pip install ipykernel\n",
    "! pip install --upgrade nbformat\n",
    "! pip install plotly"
   ]
  },
  {
   "cell_type": "code",
   "execution_count": 28,
   "metadata": {},
   "outputs": [],
   "source": [
    "from bertopic import BERTopic\n",
    "from sklearn.datasets import fetch_20newsgroups\n",
    "from umap import UMAP\n",
    "from sklearn.feature_extraction.text import CountVectorizer\n",
    "\n",
    "# read pdfs (folder: Wortprotokolle) content to docs string list\n",
    "import os\n",
    "import fitz  # PyMuPDF\n",
    "import re\n",
    "from bertopic import BERTopic\n",
    "from sklearn.feature_extraction.text import CountVectorizer\n",
    "from nltk.corpus import stopwords\n",
    "import nltk"
   ]
  },
  {
   "cell_type": "code",
   "execution_count": 79,
   "metadata": {},
   "outputs": [
    {
     "name": "stderr",
     "output_type": "stream",
     "text": [
      "[nltk_data] Downloading package stopwords to\n",
      "[nltk_data]     /Users/timomurmann/nltk_data...\n",
      "[nltk_data]   Package stopwords is already up-to-date!\n"
     ]
    }
   ],
   "source": [
    "nltk.download('stopwords')\n",
    "\n",
    "german_stop_words = stopwords.words('german')\n",
    "# add stopwords from stopwords.txt\n",
    "with open('stopwords.txt', 'r') as file:\n",
    "    german_stop_words += file.read().splitlines()\n",
    "    \n",
    "german_stop_words += ['köln', 'schon', 'jahr', 'herr', 'frau', 'antrag', 'beifall', 'ja', 'top', 'seite', 'seiten', 'anlage', 'anlagen', 'drucksache', 'drucksachen', 'stadt', 'sitzung', 'ausschuss', 'ausschusses', 'ausschüsse']\n",
    "vectorizer_model = CountVectorizer(stop_words=german_stop_words)"
   ]
  },
  {
   "cell_type": "code",
   "execution_count": 76,
   "metadata": {},
   "outputs": [],
   "source": [
    "from bertopic.representation import ZeroShotClassification\n",
    "from bertopic import BERTopic\n",
    "\n",
    "# Create your representation model\n",
    "candidate_topics = [\"Wohnen\", \"Verkehr\", \"Sport\", \"Kultur\", \"Wirtschaft\", \"Gesundheit\", \"Umwelt\", \"Bildung\", \"Technologie\"]\n",
    "representation_model = ZeroShotClassification(candidate_topics, model=\"MoritzLaurer/mDeBERTa-v3-base-xnli-multilingual-nli-2mil7\")"
   ]
  },
  {
   "cell_type": "code",
   "execution_count": 68,
   "metadata": {},
   "outputs": [],
   "source": [
    "# get all pdfs in folder\n",
    "pdf_folder = \"Wortprotokolle\"\n",
    "pdf_files = [f for f in os.listdir(pdf_folder) if f.endswith(\".pdf\")]\n",
    "\n",
    "# read all pdfs\n",
    "docs = []\n",
    "\n",
    "for pdf_file in pdf_files:\n",
    "    # open pdf\n",
    "    pdf_path = os.path.join(pdf_folder, pdf_file)\n",
    "    doc = fitz.open(pdf_path)\n",
    "\n",
    "    # read all pages\n",
    "    for page in doc:\n",
    "        text = page.get_text()\n",
    "        docs.append(text)\n",
    "\n",
    "    doc.close()"
   ]
  },
  {
   "cell_type": "code",
   "execution_count": 69,
   "metadata": {},
   "outputs": [
    {
     "name": "stderr",
     "output_type": "stream",
     "text": [
      "2024-03-11 19:57:25,011 - BERTopic - Embedding - Transforming documents to embeddings.\n",
      "Batches: 100%|██████████| 59/59 [00:34<00:00,  1.71it/s]\n",
      "2024-03-11 19:58:02,884 - BERTopic - Embedding - Completed ✓\n",
      "2024-03-11 19:58:02,884 - BERTopic - Dimensionality - Fitting the dimensionality reduction algorithm\n",
      "2024-03-11 19:58:06,569 - BERTopic - Dimensionality - Completed ✓\n",
      "2024-03-11 19:58:06,570 - BERTopic - Cluster - Start clustering the reduced embeddings\n",
      "2024-03-11 19:58:06,605 - BERTopic - Cluster - Completed ✓\n",
      "2024-03-11 19:58:06,607 - BERTopic - Representation - Extracting topics from clusters using representation models.\n",
      "2024-03-11 19:58:27,193 - BERTopic - Representation - Completed ✓\n"
     ]
    }
   ],
   "source": [
    "topic_model = BERTopic(language=\"german\", verbose=True,\n",
    "                        embedding_model=\"all-mpnet-base-v2\",\n",
    "                       vectorizer_model=vectorizer_model, representation_model=representation_model)\n",
    "\n",
    "topic, prob = topic_model.fit_transform(docs)"
   ]
  },
  {
   "cell_type": "code",
   "execution_count": 71,
   "metadata": {},
   "outputs": [
    {
     "data": {
      "text/html": [
       "<div>\n",
       "<style scoped>\n",
       "    .dataframe tbody tr th:only-of-type {\n",
       "        vertical-align: middle;\n",
       "    }\n",
       "\n",
       "    .dataframe tbody tr th {\n",
       "        vertical-align: top;\n",
       "    }\n",
       "\n",
       "    .dataframe thead th {\n",
       "        text-align: right;\n",
       "    }\n",
       "</style>\n",
       "<table border=\"1\" class=\"dataframe\">\n",
       "  <thead>\n",
       "    <tr style=\"text-align: right;\">\n",
       "      <th></th>\n",
       "      <th>Topic</th>\n",
       "      <th>Count</th>\n",
       "      <th>Name</th>\n",
       "      <th>Representation</th>\n",
       "      <th>Representative_Docs</th>\n",
       "    </tr>\n",
       "  </thead>\n",
       "  <tbody>\n",
       "    <tr>\n",
       "      <th>0</th>\n",
       "      <td>-1</td>\n",
       "      <td>874</td>\n",
       "      <td>-1_oberbürgermeisterin_spd_reker_gibt</td>\n",
       "      <td>[oberbürgermeisterin, spd, reker, gibt, henrie...</td>\n",
       "      <td>[ \\n \\n  Rat der Stadt Köln \\n22. Sitzung vom ...</td>\n",
       "    </tr>\n",
       "    <tr>\n",
       "      <th>1</th>\n",
       "      <td>0</td>\n",
       "      <td>190</td>\n",
       "      <td>0_rat_oberbürgermeisterin_spd_90</td>\n",
       "      <td>[rat, oberbürgermeisterin, spd, 90, heute, müs...</td>\n",
       "      <td>[ \\n \\n  Rat der Stadt Köln \\n21. Sitzung vom ...</td>\n",
       "    </tr>\n",
       "    <tr>\n",
       "      <th>2</th>\n",
       "      <td>1</td>\n",
       "      <td>132</td>\n",
       "      <td>1_enthaltungen_gegenstimmen_tagesordnungspunkt...</td>\n",
       "      <td>[enthaltungen, gegenstimmen, tagesordnungspunk...</td>\n",
       "      <td>[ \\n \\n10. Sitzung vom 16. September 2021   Se...</td>\n",
       "    </tr>\n",
       "    <tr>\n",
       "      <th>3</th>\n",
       "      <td>2</td>\n",
       "      <td>90</td>\n",
       "      <td>2_menschen_afd_oberbürgermeisterin_spd</td>\n",
       "      <td>[menschen, afd, oberbürgermeisterin, spd, imme...</td>\n",
       "      <td>[Ó \\n \\n \\n \\n \\n \\n \\n 13. Sitzung vom 14. De...</td>\n",
       "    </tr>\n",
       "    <tr>\n",
       "      <th>4</th>\n",
       "      <td>3</td>\n",
       "      <td>53</td>\n",
       "      <td>3_schulen_kinder_schule_eltern</td>\n",
       "      <td>[schulen, kinder, schule, eltern, gesamtschule...</td>\n",
       "      <td>[ \\n \\n Rat der Stadt Köln \\n24. Sitzung vom 2...</td>\n",
       "    </tr>\n",
       "    <tr>\n",
       "      <th>5</th>\n",
       "      <td>4</td>\n",
       "      <td>44</td>\n",
       "      <td>4_fraktion_2021_enthaltungen_gibt</td>\n",
       "      <td>[fraktion, 2021, enthaltungen, gibt, abstimmen...</td>\n",
       "      <td>[Ó \\n \\n \\n \\n \\n \\n15. Sitzung vom 17. März 2...</td>\n",
       "    </tr>\n",
       "    <tr>\n",
       "      <th>6</th>\n",
       "      <td>5</td>\n",
       "      <td>38</td>\n",
       "      <td>5_oberbürgermeisterin_liebe_henriette_reker</td>\n",
       "      <td>[oberbürgermeisterin, liebe, henriette, reker,...</td>\n",
       "      <td>[Ó \\n \\n \\n \\n \\n \\n \\n16. Sitzung vom 5. Mai ...</td>\n",
       "    </tr>\n",
       "    <tr>\n",
       "      <th>7</th>\n",
       "      <td>6</td>\n",
       "      <td>36</td>\n",
       "      <td>6_Sport___</td>\n",
       "      <td>[Sport, , , , , , , , , ]</td>\n",
       "      <td>[ \\n \\n Rat der Stadt Köln \\n24. Sitzung vom 2...</td>\n",
       "    </tr>\n",
       "    <tr>\n",
       "      <th>8</th>\n",
       "      <td>7</td>\n",
       "      <td>30</td>\n",
       "      <td>7_uhr_rates_damen_heute</td>\n",
       "      <td>[uhr, rates, damen, heute, herren, tagesordnun...</td>\n",
       "      <td>[Ó \\n \\n \\n \\n \\n \\n \\n16. Sitzung vom 5. Mai ...</td>\n",
       "    </tr>\n",
       "    <tr>\n",
       "      <th>9</th>\n",
       "      <td>8</td>\n",
       "      <td>28</td>\n",
       "      <td>8_oberbürgermeisterin_dank_henriette_verwaltung</td>\n",
       "      <td>[oberbürgermeisterin, dank, henriette, verwalt...</td>\n",
       "      <td>[ \\n \\n10. Sitzung vom 16. September 2021   Se...</td>\n",
       "    </tr>\n",
       "    <tr>\n",
       "      <th>10</th>\n",
       "      <td>9</td>\n",
       "      <td>27</td>\n",
       "      <td>9_spd_90_grünen_oberbürgermeisterin</td>\n",
       "      <td>[spd, 90, grünen, oberbürgermeisterin, rat, ga...</td>\n",
       "      <td>[ \\n \\n Rat der Stadt Köln \\n29. Sitzung vom 7...</td>\n",
       "    </tr>\n",
       "    <tr>\n",
       "      <th>11</th>\n",
       "      <td>10</td>\n",
       "      <td>26</td>\n",
       "      <td>10_oberbürgermeisterin_afd_henriette_reker</td>\n",
       "      <td>[oberbürgermeisterin, afd, henriette, reker, s...</td>\n",
       "      <td>[Ó \\n \\n \\n \\n \\n \\n \\n16. Sitzung vom 5. Mai ...</td>\n",
       "    </tr>\n",
       "    <tr>\n",
       "      <th>12</th>\n",
       "      <td>11</td>\n",
       "      <td>26</td>\n",
       "      <td>11_Bildung___</td>\n",
       "      <td>[Bildung, , , , , , , , , ]</td>\n",
       "      <td>[ \\n \\n \\n \\n2. Sitzung vom 3. Dezember 2020  ...</td>\n",
       "    </tr>\n",
       "    <tr>\n",
       "      <th>13</th>\n",
       "      <td>12</td>\n",
       "      <td>25</td>\n",
       "      <td>12_linken_rheinenergie_oberbürgermeisterin_reker</td>\n",
       "      <td>[linken, rheinenergie, oberbürgermeisterin, re...</td>\n",
       "      <td>[Ó \\n \\n \\n \\n \\n \\n \\n16. Sitzung vom 5. Mai ...</td>\n",
       "    </tr>\n",
       "    <tr>\n",
       "      <th>14</th>\n",
       "      <td>13</td>\n",
       "      <td>24</td>\n",
       "      <td>13_geehrte_damen_liebe_ukraine</td>\n",
       "      <td>[geehrte, damen, liebe, ukraine, fdp, oberbürg...</td>\n",
       "      <td>[ \\n \\n 6. Sitzung vom 6. Mai 2021 \\nSeite 12 ...</td>\n",
       "    </tr>\n",
       "    <tr>\n",
       "      <th>15</th>\n",
       "      <td>14</td>\n",
       "      <td>24</td>\n",
       "      <td>14_grünen_oberbürgermeisterin_gesagt_bündnis</td>\n",
       "      <td>[grünen, oberbürgermeisterin, gesagt, bündnis,...</td>\n",
       "      <td>[ \\n \\n Rat der Stadt Köln \\n27. Sitzung vom 7...</td>\n",
       "    </tr>\n",
       "    <tr>\n",
       "      <th>16</th>\n",
       "      <td>15</td>\n",
       "      <td>23</td>\n",
       "      <td>15_klimaschutz_2035_müssen_klima</td>\n",
       "      <td>[klimaschutz, 2035, müssen, klima, klimaneutra...</td>\n",
       "      <td>[Ó \\n \\n \\n \\n \\n \\n15. Sitzung vom 17. März 2...</td>\n",
       "    </tr>\n",
       "    <tr>\n",
       "      <th>17</th>\n",
       "      <td>16</td>\n",
       "      <td>22</td>\n",
       "      <td>16_corona_verwaltung_gen_dank</td>\n",
       "      <td>[corona, verwaltung, gen, dank, vielen, euro, ...</td>\n",
       "      <td>[Ó \\n \\n \\n \\n \\n \\n \\n 13. Sitzung vom 14. De...</td>\n",
       "    </tr>\n",
       "    <tr>\n",
       "      <th>18</th>\n",
       "      <td>17</td>\n",
       "      <td>21</td>\n",
       "      <td>17_oberbürgermeisterin_spd_fdp_reker</td>\n",
       "      <td>[oberbürgermeisterin, spd, fdp, reker, henriet...</td>\n",
       "      <td>[ \\n \\n10. Sitzung vom 16. September 2021   Se...</td>\n",
       "    </tr>\n",
       "    <tr>\n",
       "      <th>19</th>\n",
       "      <td>18</td>\n",
       "      <td>21</td>\n",
       "      <td>18_euro_millionen_haushalt_zahlen</td>\n",
       "      <td>[euro, millionen, haushalt, zahlen, 2022, müss...</td>\n",
       "      <td>[ \\n \\n Rat der Stadt Köln \\n27. Sitzung vom 7...</td>\n",
       "    </tr>\n",
       "    <tr>\n",
       "      <th>20</th>\n",
       "      <td>19</td>\n",
       "      <td>20</td>\n",
       "      <td>19_tagesordnung_gibt_oberbürgermeisterin_fall</td>\n",
       "      <td>[tagesordnung, gibt, oberbürgermeisterin, fall...</td>\n",
       "      <td>[Ó \\n \\n \\n \\n \\n \\n3. Sitzung vom 10. Dezembe...</td>\n",
       "    </tr>\n",
       "    <tr>\n",
       "      <th>21</th>\n",
       "      <td>20</td>\n",
       "      <td>19</td>\n",
       "      <td>20_haus_müssen_sagen_spd</td>\n",
       "      <td>[haus, müssen, sagen, spd, be, chen, liebe, im...</td>\n",
       "      <td>[ \\n \\n 6. Sitzung vom 6. Mai 2021 \\nSeite 14 ...</td>\n",
       "    </tr>\n",
       "    <tr>\n",
       "      <th>22</th>\n",
       "      <td>21</td>\n",
       "      <td>17</td>\n",
       "      <td>21_gastronomie_gastronomen_außengastronomie_ge...</td>\n",
       "      <td>[gastronomie, gastronomen, außengastronomie, g...</td>\n",
       "      <td>[Ó \\n \\n \\n \\n \\n \\n14. Sitzung vom 3. Februar...</td>\n",
       "    </tr>\n",
       "    <tr>\n",
       "      <th>23</th>\n",
       "      <td>22</td>\n",
       "      <td>16</td>\n",
       "      <td>22_pv_klimaschutz_klima_energie</td>\n",
       "      <td>[pv, klimaschutz, klima, energie, ausbau, ganz...</td>\n",
       "      <td>[ \\n \\n10. Sitzung vom 16. September 2021   Se...</td>\n",
       "    </tr>\n",
       "    <tr>\n",
       "      <th>24</th>\n",
       "      <td>23</td>\n",
       "      <td>11</td>\n",
       "      <td>23_verfahren_weisenstein_linken_linke</td>\n",
       "      <td>[verfahren, weisenstein, linken, linke, gymnas...</td>\n",
       "      <td>[Ó \\n \\n \\n \\n \\n \\n \\n16. Sitzung vom 5. Mai ...</td>\n",
       "    </tr>\n",
       "    <tr>\n",
       "      <th>25</th>\n",
       "      <td>24</td>\n",
       "      <td>11</td>\n",
       "      <td>24_fraktionen_2020_stimmen_mitglieder</td>\n",
       "      <td>[fraktionen, 2020, stimmen, mitglieder, tageso...</td>\n",
       "      <td>[ \\n \\n \\n \\n2. Sitzung vom 3. Dezember 2020  ...</td>\n",
       "    </tr>\n",
       "    <tr>\n",
       "      <th>26</th>\n",
       "      <td>25</td>\n",
       "      <td>10</td>\n",
       "      <td>25_ganz_müll_menschen_90</td>\n",
       "      <td>[ganz, müll, menschen, 90, vielen, bündnis, da...</td>\n",
       "      <td>[ \\n \\n \\n 9. Sitzung vom 23. August 2021 \\nSe...</td>\n",
       "    </tr>\n",
       "  </tbody>\n",
       "</table>\n",
       "</div>"
      ],
      "text/plain": [
       "    Topic  Count                                               Name  \\\n",
       "0      -1    874              -1_oberbürgermeisterin_spd_reker_gibt   \n",
       "1       0    190                   0_rat_oberbürgermeisterin_spd_90   \n",
       "2       1    132  1_enthaltungen_gegenstimmen_tagesordnungspunkt...   \n",
       "3       2     90             2_menschen_afd_oberbürgermeisterin_spd   \n",
       "4       3     53                     3_schulen_kinder_schule_eltern   \n",
       "5       4     44                  4_fraktion_2021_enthaltungen_gibt   \n",
       "6       5     38        5_oberbürgermeisterin_liebe_henriette_reker   \n",
       "7       6     36                                         6_Sport___   \n",
       "8       7     30                            7_uhr_rates_damen_heute   \n",
       "9       8     28    8_oberbürgermeisterin_dank_henriette_verwaltung   \n",
       "10      9     27                9_spd_90_grünen_oberbürgermeisterin   \n",
       "11     10     26         10_oberbürgermeisterin_afd_henriette_reker   \n",
       "12     11     26                                      11_Bildung___   \n",
       "13     12     25   12_linken_rheinenergie_oberbürgermeisterin_reker   \n",
       "14     13     24                     13_geehrte_damen_liebe_ukraine   \n",
       "15     14     24       14_grünen_oberbürgermeisterin_gesagt_bündnis   \n",
       "16     15     23                   15_klimaschutz_2035_müssen_klima   \n",
       "17     16     22                      16_corona_verwaltung_gen_dank   \n",
       "18     17     21               17_oberbürgermeisterin_spd_fdp_reker   \n",
       "19     18     21                  18_euro_millionen_haushalt_zahlen   \n",
       "20     19     20      19_tagesordnung_gibt_oberbürgermeisterin_fall   \n",
       "21     20     19                           20_haus_müssen_sagen_spd   \n",
       "22     21     17  21_gastronomie_gastronomen_außengastronomie_ge...   \n",
       "23     22     16                    22_pv_klimaschutz_klima_energie   \n",
       "24     23     11              23_verfahren_weisenstein_linken_linke   \n",
       "25     24     11              24_fraktionen_2020_stimmen_mitglieder   \n",
       "26     25     10                           25_ganz_müll_menschen_90   \n",
       "\n",
       "                                       Representation  \\\n",
       "0   [oberbürgermeisterin, spd, reker, gibt, henrie...   \n",
       "1   [rat, oberbürgermeisterin, spd, 90, heute, müs...   \n",
       "2   [enthaltungen, gegenstimmen, tagesordnungspunk...   \n",
       "3   [menschen, afd, oberbürgermeisterin, spd, imme...   \n",
       "4   [schulen, kinder, schule, eltern, gesamtschule...   \n",
       "5   [fraktion, 2021, enthaltungen, gibt, abstimmen...   \n",
       "6   [oberbürgermeisterin, liebe, henriette, reker,...   \n",
       "7                           [Sport, , , , , , , , , ]   \n",
       "8   [uhr, rates, damen, heute, herren, tagesordnun...   \n",
       "9   [oberbürgermeisterin, dank, henriette, verwalt...   \n",
       "10  [spd, 90, grünen, oberbürgermeisterin, rat, ga...   \n",
       "11  [oberbürgermeisterin, afd, henriette, reker, s...   \n",
       "12                        [Bildung, , , , , , , , , ]   \n",
       "13  [linken, rheinenergie, oberbürgermeisterin, re...   \n",
       "14  [geehrte, damen, liebe, ukraine, fdp, oberbürg...   \n",
       "15  [grünen, oberbürgermeisterin, gesagt, bündnis,...   \n",
       "16  [klimaschutz, 2035, müssen, klima, klimaneutra...   \n",
       "17  [corona, verwaltung, gen, dank, vielen, euro, ...   \n",
       "18  [oberbürgermeisterin, spd, fdp, reker, henriet...   \n",
       "19  [euro, millionen, haushalt, zahlen, 2022, müss...   \n",
       "20  [tagesordnung, gibt, oberbürgermeisterin, fall...   \n",
       "21  [haus, müssen, sagen, spd, be, chen, liebe, im...   \n",
       "22  [gastronomie, gastronomen, außengastronomie, g...   \n",
       "23  [pv, klimaschutz, klima, energie, ausbau, ganz...   \n",
       "24  [verfahren, weisenstein, linken, linke, gymnas...   \n",
       "25  [fraktionen, 2020, stimmen, mitglieder, tageso...   \n",
       "26  [ganz, müll, menschen, 90, vielen, bündnis, da...   \n",
       "\n",
       "                                  Representative_Docs  \n",
       "0   [ \\n \\n  Rat der Stadt Köln \\n22. Sitzung vom ...  \n",
       "1   [ \\n \\n  Rat der Stadt Köln \\n21. Sitzung vom ...  \n",
       "2   [ \\n \\n10. Sitzung vom 16. September 2021   Se...  \n",
       "3   [Ó \\n \\n \\n \\n \\n \\n \\n 13. Sitzung vom 14. De...  \n",
       "4   [ \\n \\n Rat der Stadt Köln \\n24. Sitzung vom 2...  \n",
       "5   [Ó \\n \\n \\n \\n \\n \\n15. Sitzung vom 17. März 2...  \n",
       "6   [Ó \\n \\n \\n \\n \\n \\n \\n16. Sitzung vom 5. Mai ...  \n",
       "7   [ \\n \\n Rat der Stadt Köln \\n24. Sitzung vom 2...  \n",
       "8   [Ó \\n \\n \\n \\n \\n \\n \\n16. Sitzung vom 5. Mai ...  \n",
       "9   [ \\n \\n10. Sitzung vom 16. September 2021   Se...  \n",
       "10  [ \\n \\n Rat der Stadt Köln \\n29. Sitzung vom 7...  \n",
       "11  [Ó \\n \\n \\n \\n \\n \\n \\n16. Sitzung vom 5. Mai ...  \n",
       "12  [ \\n \\n \\n \\n2. Sitzung vom 3. Dezember 2020  ...  \n",
       "13  [Ó \\n \\n \\n \\n \\n \\n \\n16. Sitzung vom 5. Mai ...  \n",
       "14  [ \\n \\n 6. Sitzung vom 6. Mai 2021 \\nSeite 12 ...  \n",
       "15  [ \\n \\n Rat der Stadt Köln \\n27. Sitzung vom 7...  \n",
       "16  [Ó \\n \\n \\n \\n \\n \\n15. Sitzung vom 17. März 2...  \n",
       "17  [Ó \\n \\n \\n \\n \\n \\n \\n 13. Sitzung vom 14. De...  \n",
       "18  [ \\n \\n10. Sitzung vom 16. September 2021   Se...  \n",
       "19  [ \\n \\n Rat der Stadt Köln \\n27. Sitzung vom 7...  \n",
       "20  [Ó \\n \\n \\n \\n \\n \\n3. Sitzung vom 10. Dezembe...  \n",
       "21  [ \\n \\n 6. Sitzung vom 6. Mai 2021 \\nSeite 14 ...  \n",
       "22  [Ó \\n \\n \\n \\n \\n \\n14. Sitzung vom 3. Februar...  \n",
       "23  [ \\n \\n10. Sitzung vom 16. September 2021   Se...  \n",
       "24  [Ó \\n \\n \\n \\n \\n \\n \\n16. Sitzung vom 5. Mai ...  \n",
       "25  [ \\n \\n \\n \\n2. Sitzung vom 3. Dezember 2020  ...  \n",
       "26  [ \\n \\n \\n 9. Sitzung vom 23. August 2021 \\nSe...  "
      ]
     },
     "execution_count": 71,
     "metadata": {},
     "output_type": "execute_result"
    }
   ],
   "source": [
    "topic_model.get_topic_info()"
   ]
  },
  {
   "cell_type": "code",
   "execution_count": 72,
   "metadata": {},
   "outputs": [
    {
     "data": {
      "application/vnd.plotly.v1+json": {
       "config": {
        "plotlyServerURL": "https://plot.ly"
       },
       "data": [
        {
         "customdata": [
          [
           0,
           "rat | oberbürgermeisterin | spd | 90 | heute",
           190
          ],
          [
           1,
           "enthaltungen | gegenstimmen | tagesordnungspunkt | wortmeldungen | beschlossen",
           132
          ],
          [
           2,
           "menschen | afd | oberbürgermeisterin | spd | immer",
           90
          ],
          [
           3,
           "schulen | kinder | schule | eltern | gesamtschulen",
           53
          ],
          [
           4,
           "fraktion | 2021 | enthaltungen | gibt | abstimmen",
           44
          ],
          [
           5,
           "oberbürgermeisterin | liebe | henriette | reker | kollegen",
           38
          ],
          [
           6,
           "Sport |  |  |  | ",
           36
          ],
          [
           7,
           "uhr | rates | damen | heute | herren",
           30
          ],
          [
           8,
           "oberbürgermeisterin | dank | henriette | verwaltung | reker",
           28
          ],
          [
           9,
           "spd | 90 | grünen | oberbürgermeisterin | rat",
           27
          ],
          [
           10,
           "oberbürgermeisterin | afd | henriette | reker | spd",
           26
          ],
          [
           11,
           "Bildung |  |  |  | ",
           26
          ],
          [
           12,
           "linken | rheinenergie | oberbürgermeisterin | reker | spd",
           25
          ],
          [
           13,
           "geehrte | damen | liebe | ukraine | fdp",
           24
          ],
          [
           14,
           "grünen | oberbürgermeisterin | gesagt | bündnis | mal",
           24
          ],
          [
           15,
           "klimaschutz | 2035 | müssen | klima | klimaneutralität",
           23
          ],
          [
           16,
           "corona | verwaltung | gen | dank | vielen",
           22
          ],
          [
           17,
           "oberbürgermeisterin | spd | fdp | reker | henriette",
           21
          ],
          [
           18,
           "euro | millionen | haushalt | zahlen | 2022",
           21
          ],
          [
           19,
           "tagesordnung | gibt | oberbürgermeisterin | fall | reihenfolge",
           20
          ],
          [
           20,
           "haus | müssen | sagen | spd | be",
           19
          ],
          [
           21,
           "gastronomie | gastronomen | außengastronomie | gebühren | viertel",
           17
          ],
          [
           22,
           "pv | klimaschutz | klima | energie | ausbau",
           16
          ],
          [
           23,
           "verfahren | weisenstein | linken | linke | gymnasien",
           11
          ],
          [
           24,
           "fraktionen | 2020 | stimmen | mitglieder | tagesordnungspunkt",
           11
          ],
          [
           25,
           "ganz | müll | menschen | 90 | vielen",
           10
          ]
         ],
         "hovertemplate": "<b>Topic %{customdata[0]}</b><br>%{customdata[1]}<br>Size: %{customdata[2]}",
         "legendgroup": "",
         "marker": {
          "color": "#B0BEC5",
          "line": {
           "color": "DarkSlateGrey",
           "width": 2
          },
          "size": [
           190,
           132,
           90,
           53,
           44,
           38,
           36,
           30,
           28,
           27,
           26,
           26,
           25,
           24,
           24,
           23,
           22,
           21,
           21,
           20,
           19,
           17,
           16,
           11,
           11,
           10
          ],
          "sizemode": "area",
          "sizeref": 0.11875,
          "symbol": "circle"
         },
         "mode": "markers",
         "name": "",
         "orientation": "v",
         "showlegend": false,
         "type": "scatter",
         "x": [
          -5.586339473724365,
          -3.9715495109558105,
          -4.214409351348877,
          -3.682231903076172,
          35.46311569213867,
          7.834842205047607,
          -3.9340672492980957,
          7.271224498748779,
          8.621504783630371,
          -3.7090494632720947,
          35.289981842041016,
          6.076655864715576,
          5.069420337677002,
          7.575786590576172,
          -5.788843631744385,
          -4.4470415115356445,
          5.506761074066162,
          8.880241394042969,
          -2.77578067779541,
          35.551422119140625,
          8.540435791015625,
          8.032540321350098,
          5.362513065338135,
          -3.119997024536133,
          5.820338726043701,
          -2.9644837379455566
         ],
         "xaxis": "x",
         "y": [
          7.614196300506592,
          6.82604455947876,
          5.620728015899658,
          6.585422515869141,
          -12.292634010314941,
          -3.3296563625335693,
          6.32002592086792,
          -3.700293779373169,
          -13.301519393920898,
          6.058773517608643,
          -12.465758323669434,
          0.584492564201355,
          1.5888385772705078,
          -3.513598680496216,
          7.795897483825684,
          5.356538772583008,
          1.1539942026138306,
          -13.042338371276855,
          6.593522071838379,
          -12.204337120056152,
          -13.382416725158691,
          -3.1664915084838867,
          1.2979106903076172,
          6.520008087158203,
          0.840499222278595,
          6.875768184661865
         ],
         "yaxis": "y"
        }
       ],
       "layout": {
        "annotations": [
         {
          "showarrow": false,
          "text": "D1",
          "x": -6.6571701765060425,
          "y": -3.2122485637664795,
          "yshift": 10
         },
         {
          "showarrow": false,
          "text": "D2",
          "x": 17.11348263025284,
          "xshift": 10,
          "y": 8.965282106399536
         }
        ],
        "height": 650,
        "hoverlabel": {
         "bgcolor": "white",
         "font": {
          "family": "Rockwell",
          "size": 16
         }
        },
        "legend": {
         "itemsizing": "constant",
         "tracegroupgap": 0
        },
        "margin": {
         "t": 60
        },
        "shapes": [
         {
          "line": {
           "color": "#CFD8DC",
           "width": 2
          },
          "type": "line",
          "x0": 17.11348263025284,
          "x1": 17.11348263025284,
          "y0": -15.389779233932495,
          "y1": 8.965282106399536
         },
         {
          "line": {
           "color": "#9E9E9E",
           "width": 2
          },
          "type": "line",
          "x0": -6.6571701765060425,
          "x1": 40.88413543701172,
          "y0": -3.2122485637664795,
          "y1": -3.2122485637664795
         }
        ],
        "sliders": [
         {
          "active": 0,
          "pad": {
           "t": 50
          },
          "steps": [
           {
            "args": [
             {
              "marker.color": [
               [
                "red",
                "#B0BEC5",
                "#B0BEC5",
                "#B0BEC5",
                "#B0BEC5",
                "#B0BEC5",
                "#B0BEC5",
                "#B0BEC5",
                "#B0BEC5",
                "#B0BEC5",
                "#B0BEC5",
                "#B0BEC5",
                "#B0BEC5",
                "#B0BEC5",
                "#B0BEC5",
                "#B0BEC5",
                "#B0BEC5",
                "#B0BEC5",
                "#B0BEC5",
                "#B0BEC5",
                "#B0BEC5",
                "#B0BEC5",
                "#B0BEC5",
                "#B0BEC5",
                "#B0BEC5",
                "#B0BEC5"
               ]
              ]
             }
            ],
            "label": "Topic 0",
            "method": "update"
           },
           {
            "args": [
             {
              "marker.color": [
               [
                "#B0BEC5",
                "red",
                "#B0BEC5",
                "#B0BEC5",
                "#B0BEC5",
                "#B0BEC5",
                "#B0BEC5",
                "#B0BEC5",
                "#B0BEC5",
                "#B0BEC5",
                "#B0BEC5",
                "#B0BEC5",
                "#B0BEC5",
                "#B0BEC5",
                "#B0BEC5",
                "#B0BEC5",
                "#B0BEC5",
                "#B0BEC5",
                "#B0BEC5",
                "#B0BEC5",
                "#B0BEC5",
                "#B0BEC5",
                "#B0BEC5",
                "#B0BEC5",
                "#B0BEC5",
                "#B0BEC5"
               ]
              ]
             }
            ],
            "label": "Topic 1",
            "method": "update"
           },
           {
            "args": [
             {
              "marker.color": [
               [
                "#B0BEC5",
                "#B0BEC5",
                "red",
                "#B0BEC5",
                "#B0BEC5",
                "#B0BEC5",
                "#B0BEC5",
                "#B0BEC5",
                "#B0BEC5",
                "#B0BEC5",
                "#B0BEC5",
                "#B0BEC5",
                "#B0BEC5",
                "#B0BEC5",
                "#B0BEC5",
                "#B0BEC5",
                "#B0BEC5",
                "#B0BEC5",
                "#B0BEC5",
                "#B0BEC5",
                "#B0BEC5",
                "#B0BEC5",
                "#B0BEC5",
                "#B0BEC5",
                "#B0BEC5",
                "#B0BEC5"
               ]
              ]
             }
            ],
            "label": "Topic 2",
            "method": "update"
           },
           {
            "args": [
             {
              "marker.color": [
               [
                "#B0BEC5",
                "#B0BEC5",
                "#B0BEC5",
                "red",
                "#B0BEC5",
                "#B0BEC5",
                "#B0BEC5",
                "#B0BEC5",
                "#B0BEC5",
                "#B0BEC5",
                "#B0BEC5",
                "#B0BEC5",
                "#B0BEC5",
                "#B0BEC5",
                "#B0BEC5",
                "#B0BEC5",
                "#B0BEC5",
                "#B0BEC5",
                "#B0BEC5",
                "#B0BEC5",
                "#B0BEC5",
                "#B0BEC5",
                "#B0BEC5",
                "#B0BEC5",
                "#B0BEC5",
                "#B0BEC5"
               ]
              ]
             }
            ],
            "label": "Topic 3",
            "method": "update"
           },
           {
            "args": [
             {
              "marker.color": [
               [
                "#B0BEC5",
                "#B0BEC5",
                "#B0BEC5",
                "#B0BEC5",
                "red",
                "#B0BEC5",
                "#B0BEC5",
                "#B0BEC5",
                "#B0BEC5",
                "#B0BEC5",
                "#B0BEC5",
                "#B0BEC5",
                "#B0BEC5",
                "#B0BEC5",
                "#B0BEC5",
                "#B0BEC5",
                "#B0BEC5",
                "#B0BEC5",
                "#B0BEC5",
                "#B0BEC5",
                "#B0BEC5",
                "#B0BEC5",
                "#B0BEC5",
                "#B0BEC5",
                "#B0BEC5",
                "#B0BEC5"
               ]
              ]
             }
            ],
            "label": "Topic 4",
            "method": "update"
           },
           {
            "args": [
             {
              "marker.color": [
               [
                "#B0BEC5",
                "#B0BEC5",
                "#B0BEC5",
                "#B0BEC5",
                "#B0BEC5",
                "red",
                "#B0BEC5",
                "#B0BEC5",
                "#B0BEC5",
                "#B0BEC5",
                "#B0BEC5",
                "#B0BEC5",
                "#B0BEC5",
                "#B0BEC5",
                "#B0BEC5",
                "#B0BEC5",
                "#B0BEC5",
                "#B0BEC5",
                "#B0BEC5",
                "#B0BEC5",
                "#B0BEC5",
                "#B0BEC5",
                "#B0BEC5",
                "#B0BEC5",
                "#B0BEC5",
                "#B0BEC5"
               ]
              ]
             }
            ],
            "label": "Topic 5",
            "method": "update"
           },
           {
            "args": [
             {
              "marker.color": [
               [
                "#B0BEC5",
                "#B0BEC5",
                "#B0BEC5",
                "#B0BEC5",
                "#B0BEC5",
                "#B0BEC5",
                "red",
                "#B0BEC5",
                "#B0BEC5",
                "#B0BEC5",
                "#B0BEC5",
                "#B0BEC5",
                "#B0BEC5",
                "#B0BEC5",
                "#B0BEC5",
                "#B0BEC5",
                "#B0BEC5",
                "#B0BEC5",
                "#B0BEC5",
                "#B0BEC5",
                "#B0BEC5",
                "#B0BEC5",
                "#B0BEC5",
                "#B0BEC5",
                "#B0BEC5",
                "#B0BEC5"
               ]
              ]
             }
            ],
            "label": "Topic 6",
            "method": "update"
           },
           {
            "args": [
             {
              "marker.color": [
               [
                "#B0BEC5",
                "#B0BEC5",
                "#B0BEC5",
                "#B0BEC5",
                "#B0BEC5",
                "#B0BEC5",
                "#B0BEC5",
                "red",
                "#B0BEC5",
                "#B0BEC5",
                "#B0BEC5",
                "#B0BEC5",
                "#B0BEC5",
                "#B0BEC5",
                "#B0BEC5",
                "#B0BEC5",
                "#B0BEC5",
                "#B0BEC5",
                "#B0BEC5",
                "#B0BEC5",
                "#B0BEC5",
                "#B0BEC5",
                "#B0BEC5",
                "#B0BEC5",
                "#B0BEC5",
                "#B0BEC5"
               ]
              ]
             }
            ],
            "label": "Topic 7",
            "method": "update"
           },
           {
            "args": [
             {
              "marker.color": [
               [
                "#B0BEC5",
                "#B0BEC5",
                "#B0BEC5",
                "#B0BEC5",
                "#B0BEC5",
                "#B0BEC5",
                "#B0BEC5",
                "#B0BEC5",
                "red",
                "#B0BEC5",
                "#B0BEC5",
                "#B0BEC5",
                "#B0BEC5",
                "#B0BEC5",
                "#B0BEC5",
                "#B0BEC5",
                "#B0BEC5",
                "#B0BEC5",
                "#B0BEC5",
                "#B0BEC5",
                "#B0BEC5",
                "#B0BEC5",
                "#B0BEC5",
                "#B0BEC5",
                "#B0BEC5",
                "#B0BEC5"
               ]
              ]
             }
            ],
            "label": "Topic 8",
            "method": "update"
           },
           {
            "args": [
             {
              "marker.color": [
               [
                "#B0BEC5",
                "#B0BEC5",
                "#B0BEC5",
                "#B0BEC5",
                "#B0BEC5",
                "#B0BEC5",
                "#B0BEC5",
                "#B0BEC5",
                "#B0BEC5",
                "red",
                "#B0BEC5",
                "#B0BEC5",
                "#B0BEC5",
                "#B0BEC5",
                "#B0BEC5",
                "#B0BEC5",
                "#B0BEC5",
                "#B0BEC5",
                "#B0BEC5",
                "#B0BEC5",
                "#B0BEC5",
                "#B0BEC5",
                "#B0BEC5",
                "#B0BEC5",
                "#B0BEC5",
                "#B0BEC5"
               ]
              ]
             }
            ],
            "label": "Topic 9",
            "method": "update"
           },
           {
            "args": [
             {
              "marker.color": [
               [
                "#B0BEC5",
                "#B0BEC5",
                "#B0BEC5",
                "#B0BEC5",
                "#B0BEC5",
                "#B0BEC5",
                "#B0BEC5",
                "#B0BEC5",
                "#B0BEC5",
                "#B0BEC5",
                "red",
                "#B0BEC5",
                "#B0BEC5",
                "#B0BEC5",
                "#B0BEC5",
                "#B0BEC5",
                "#B0BEC5",
                "#B0BEC5",
                "#B0BEC5",
                "#B0BEC5",
                "#B0BEC5",
                "#B0BEC5",
                "#B0BEC5",
                "#B0BEC5",
                "#B0BEC5",
                "#B0BEC5"
               ]
              ]
             }
            ],
            "label": "Topic 10",
            "method": "update"
           },
           {
            "args": [
             {
              "marker.color": [
               [
                "#B0BEC5",
                "#B0BEC5",
                "#B0BEC5",
                "#B0BEC5",
                "#B0BEC5",
                "#B0BEC5",
                "#B0BEC5",
                "#B0BEC5",
                "#B0BEC5",
                "#B0BEC5",
                "#B0BEC5",
                "red",
                "#B0BEC5",
                "#B0BEC5",
                "#B0BEC5",
                "#B0BEC5",
                "#B0BEC5",
                "#B0BEC5",
                "#B0BEC5",
                "#B0BEC5",
                "#B0BEC5",
                "#B0BEC5",
                "#B0BEC5",
                "#B0BEC5",
                "#B0BEC5",
                "#B0BEC5"
               ]
              ]
             }
            ],
            "label": "Topic 11",
            "method": "update"
           },
           {
            "args": [
             {
              "marker.color": [
               [
                "#B0BEC5",
                "#B0BEC5",
                "#B0BEC5",
                "#B0BEC5",
                "#B0BEC5",
                "#B0BEC5",
                "#B0BEC5",
                "#B0BEC5",
                "#B0BEC5",
                "#B0BEC5",
                "#B0BEC5",
                "#B0BEC5",
                "red",
                "#B0BEC5",
                "#B0BEC5",
                "#B0BEC5",
                "#B0BEC5",
                "#B0BEC5",
                "#B0BEC5",
                "#B0BEC5",
                "#B0BEC5",
                "#B0BEC5",
                "#B0BEC5",
                "#B0BEC5",
                "#B0BEC5",
                "#B0BEC5"
               ]
              ]
             }
            ],
            "label": "Topic 12",
            "method": "update"
           },
           {
            "args": [
             {
              "marker.color": [
               [
                "#B0BEC5",
                "#B0BEC5",
                "#B0BEC5",
                "#B0BEC5",
                "#B0BEC5",
                "#B0BEC5",
                "#B0BEC5",
                "#B0BEC5",
                "#B0BEC5",
                "#B0BEC5",
                "#B0BEC5",
                "#B0BEC5",
                "#B0BEC5",
                "red",
                "#B0BEC5",
                "#B0BEC5",
                "#B0BEC5",
                "#B0BEC5",
                "#B0BEC5",
                "#B0BEC5",
                "#B0BEC5",
                "#B0BEC5",
                "#B0BEC5",
                "#B0BEC5",
                "#B0BEC5",
                "#B0BEC5"
               ]
              ]
             }
            ],
            "label": "Topic 13",
            "method": "update"
           },
           {
            "args": [
             {
              "marker.color": [
               [
                "#B0BEC5",
                "#B0BEC5",
                "#B0BEC5",
                "#B0BEC5",
                "#B0BEC5",
                "#B0BEC5",
                "#B0BEC5",
                "#B0BEC5",
                "#B0BEC5",
                "#B0BEC5",
                "#B0BEC5",
                "#B0BEC5",
                "#B0BEC5",
                "#B0BEC5",
                "red",
                "#B0BEC5",
                "#B0BEC5",
                "#B0BEC5",
                "#B0BEC5",
                "#B0BEC5",
                "#B0BEC5",
                "#B0BEC5",
                "#B0BEC5",
                "#B0BEC5",
                "#B0BEC5",
                "#B0BEC5"
               ]
              ]
             }
            ],
            "label": "Topic 14",
            "method": "update"
           },
           {
            "args": [
             {
              "marker.color": [
               [
                "#B0BEC5",
                "#B0BEC5",
                "#B0BEC5",
                "#B0BEC5",
                "#B0BEC5",
                "#B0BEC5",
                "#B0BEC5",
                "#B0BEC5",
                "#B0BEC5",
                "#B0BEC5",
                "#B0BEC5",
                "#B0BEC5",
                "#B0BEC5",
                "#B0BEC5",
                "#B0BEC5",
                "red",
                "#B0BEC5",
                "#B0BEC5",
                "#B0BEC5",
                "#B0BEC5",
                "#B0BEC5",
                "#B0BEC5",
                "#B0BEC5",
                "#B0BEC5",
                "#B0BEC5",
                "#B0BEC5"
               ]
              ]
             }
            ],
            "label": "Topic 15",
            "method": "update"
           },
           {
            "args": [
             {
              "marker.color": [
               [
                "#B0BEC5",
                "#B0BEC5",
                "#B0BEC5",
                "#B0BEC5",
                "#B0BEC5",
                "#B0BEC5",
                "#B0BEC5",
                "#B0BEC5",
                "#B0BEC5",
                "#B0BEC5",
                "#B0BEC5",
                "#B0BEC5",
                "#B0BEC5",
                "#B0BEC5",
                "#B0BEC5",
                "#B0BEC5",
                "red",
                "#B0BEC5",
                "#B0BEC5",
                "#B0BEC5",
                "#B0BEC5",
                "#B0BEC5",
                "#B0BEC5",
                "#B0BEC5",
                "#B0BEC5",
                "#B0BEC5"
               ]
              ]
             }
            ],
            "label": "Topic 16",
            "method": "update"
           },
           {
            "args": [
             {
              "marker.color": [
               [
                "#B0BEC5",
                "#B0BEC5",
                "#B0BEC5",
                "#B0BEC5",
                "#B0BEC5",
                "#B0BEC5",
                "#B0BEC5",
                "#B0BEC5",
                "#B0BEC5",
                "#B0BEC5",
                "#B0BEC5",
                "#B0BEC5",
                "#B0BEC5",
                "#B0BEC5",
                "#B0BEC5",
                "#B0BEC5",
                "#B0BEC5",
                "red",
                "#B0BEC5",
                "#B0BEC5",
                "#B0BEC5",
                "#B0BEC5",
                "#B0BEC5",
                "#B0BEC5",
                "#B0BEC5",
                "#B0BEC5"
               ]
              ]
             }
            ],
            "label": "Topic 17",
            "method": "update"
           },
           {
            "args": [
             {
              "marker.color": [
               [
                "#B0BEC5",
                "#B0BEC5",
                "#B0BEC5",
                "#B0BEC5",
                "#B0BEC5",
                "#B0BEC5",
                "#B0BEC5",
                "#B0BEC5",
                "#B0BEC5",
                "#B0BEC5",
                "#B0BEC5",
                "#B0BEC5",
                "#B0BEC5",
                "#B0BEC5",
                "#B0BEC5",
                "#B0BEC5",
                "#B0BEC5",
                "#B0BEC5",
                "red",
                "#B0BEC5",
                "#B0BEC5",
                "#B0BEC5",
                "#B0BEC5",
                "#B0BEC5",
                "#B0BEC5",
                "#B0BEC5"
               ]
              ]
             }
            ],
            "label": "Topic 18",
            "method": "update"
           },
           {
            "args": [
             {
              "marker.color": [
               [
                "#B0BEC5",
                "#B0BEC5",
                "#B0BEC5",
                "#B0BEC5",
                "#B0BEC5",
                "#B0BEC5",
                "#B0BEC5",
                "#B0BEC5",
                "#B0BEC5",
                "#B0BEC5",
                "#B0BEC5",
                "#B0BEC5",
                "#B0BEC5",
                "#B0BEC5",
                "#B0BEC5",
                "#B0BEC5",
                "#B0BEC5",
                "#B0BEC5",
                "#B0BEC5",
                "red",
                "#B0BEC5",
                "#B0BEC5",
                "#B0BEC5",
                "#B0BEC5",
                "#B0BEC5",
                "#B0BEC5"
               ]
              ]
             }
            ],
            "label": "Topic 19",
            "method": "update"
           },
           {
            "args": [
             {
              "marker.color": [
               [
                "#B0BEC5",
                "#B0BEC5",
                "#B0BEC5",
                "#B0BEC5",
                "#B0BEC5",
                "#B0BEC5",
                "#B0BEC5",
                "#B0BEC5",
                "#B0BEC5",
                "#B0BEC5",
                "#B0BEC5",
                "#B0BEC5",
                "#B0BEC5",
                "#B0BEC5",
                "#B0BEC5",
                "#B0BEC5",
                "#B0BEC5",
                "#B0BEC5",
                "#B0BEC5",
                "#B0BEC5",
                "red",
                "#B0BEC5",
                "#B0BEC5",
                "#B0BEC5",
                "#B0BEC5",
                "#B0BEC5"
               ]
              ]
             }
            ],
            "label": "Topic 20",
            "method": "update"
           },
           {
            "args": [
             {
              "marker.color": [
               [
                "#B0BEC5",
                "#B0BEC5",
                "#B0BEC5",
                "#B0BEC5",
                "#B0BEC5",
                "#B0BEC5",
                "#B0BEC5",
                "#B0BEC5",
                "#B0BEC5",
                "#B0BEC5",
                "#B0BEC5",
                "#B0BEC5",
                "#B0BEC5",
                "#B0BEC5",
                "#B0BEC5",
                "#B0BEC5",
                "#B0BEC5",
                "#B0BEC5",
                "#B0BEC5",
                "#B0BEC5",
                "#B0BEC5",
                "red",
                "#B0BEC5",
                "#B0BEC5",
                "#B0BEC5",
                "#B0BEC5"
               ]
              ]
             }
            ],
            "label": "Topic 21",
            "method": "update"
           },
           {
            "args": [
             {
              "marker.color": [
               [
                "#B0BEC5",
                "#B0BEC5",
                "#B0BEC5",
                "#B0BEC5",
                "#B0BEC5",
                "#B0BEC5",
                "#B0BEC5",
                "#B0BEC5",
                "#B0BEC5",
                "#B0BEC5",
                "#B0BEC5",
                "#B0BEC5",
                "#B0BEC5",
                "#B0BEC5",
                "#B0BEC5",
                "#B0BEC5",
                "#B0BEC5",
                "#B0BEC5",
                "#B0BEC5",
                "#B0BEC5",
                "#B0BEC5",
                "#B0BEC5",
                "red",
                "#B0BEC5",
                "#B0BEC5",
                "#B0BEC5"
               ]
              ]
             }
            ],
            "label": "Topic 22",
            "method": "update"
           },
           {
            "args": [
             {
              "marker.color": [
               [
                "#B0BEC5",
                "#B0BEC5",
                "#B0BEC5",
                "#B0BEC5",
                "#B0BEC5",
                "#B0BEC5",
                "#B0BEC5",
                "#B0BEC5",
                "#B0BEC5",
                "#B0BEC5",
                "#B0BEC5",
                "#B0BEC5",
                "#B0BEC5",
                "#B0BEC5",
                "#B0BEC5",
                "#B0BEC5",
                "#B0BEC5",
                "#B0BEC5",
                "#B0BEC5",
                "#B0BEC5",
                "#B0BEC5",
                "#B0BEC5",
                "#B0BEC5",
                "red",
                "#B0BEC5",
                "#B0BEC5"
               ]
              ]
             }
            ],
            "label": "Topic 23",
            "method": "update"
           },
           {
            "args": [
             {
              "marker.color": [
               [
                "#B0BEC5",
                "#B0BEC5",
                "#B0BEC5",
                "#B0BEC5",
                "#B0BEC5",
                "#B0BEC5",
                "#B0BEC5",
                "#B0BEC5",
                "#B0BEC5",
                "#B0BEC5",
                "#B0BEC5",
                "#B0BEC5",
                "#B0BEC5",
                "#B0BEC5",
                "#B0BEC5",
                "#B0BEC5",
                "#B0BEC5",
                "#B0BEC5",
                "#B0BEC5",
                "#B0BEC5",
                "#B0BEC5",
                "#B0BEC5",
                "#B0BEC5",
                "#B0BEC5",
                "red",
                "#B0BEC5"
               ]
              ]
             }
            ],
            "label": "Topic 24",
            "method": "update"
           },
           {
            "args": [
             {
              "marker.color": [
               [
                "#B0BEC5",
                "#B0BEC5",
                "#B0BEC5",
                "#B0BEC5",
                "#B0BEC5",
                "#B0BEC5",
                "#B0BEC5",
                "#B0BEC5",
                "#B0BEC5",
                "#B0BEC5",
                "#B0BEC5",
                "#B0BEC5",
                "#B0BEC5",
                "#B0BEC5",
                "#B0BEC5",
                "#B0BEC5",
                "#B0BEC5",
                "#B0BEC5",
                "#B0BEC5",
                "#B0BEC5",
                "#B0BEC5",
                "#B0BEC5",
                "#B0BEC5",
                "#B0BEC5",
                "#B0BEC5",
                "red"
               ]
              ]
             }
            ],
            "label": "Topic 25",
            "method": "update"
           }
          ]
         }
        ],
        "template": {
         "data": {
          "bar": [
           {
            "error_x": {
             "color": "rgb(36,36,36)"
            },
            "error_y": {
             "color": "rgb(36,36,36)"
            },
            "marker": {
             "line": {
              "color": "white",
              "width": 0.5
             },
             "pattern": {
              "fillmode": "overlay",
              "size": 10,
              "solidity": 0.2
             }
            },
            "type": "bar"
           }
          ],
          "barpolar": [
           {
            "marker": {
             "line": {
              "color": "white",
              "width": 0.5
             },
             "pattern": {
              "fillmode": "overlay",
              "size": 10,
              "solidity": 0.2
             }
            },
            "type": "barpolar"
           }
          ],
          "carpet": [
           {
            "aaxis": {
             "endlinecolor": "rgb(36,36,36)",
             "gridcolor": "white",
             "linecolor": "white",
             "minorgridcolor": "white",
             "startlinecolor": "rgb(36,36,36)"
            },
            "baxis": {
             "endlinecolor": "rgb(36,36,36)",
             "gridcolor": "white",
             "linecolor": "white",
             "minorgridcolor": "white",
             "startlinecolor": "rgb(36,36,36)"
            },
            "type": "carpet"
           }
          ],
          "choropleth": [
           {
            "colorbar": {
             "outlinewidth": 1,
             "tickcolor": "rgb(36,36,36)",
             "ticks": "outside"
            },
            "type": "choropleth"
           }
          ],
          "contour": [
           {
            "colorbar": {
             "outlinewidth": 1,
             "tickcolor": "rgb(36,36,36)",
             "ticks": "outside"
            },
            "colorscale": [
             [
              0,
              "#440154"
             ],
             [
              0.1111111111111111,
              "#482878"
             ],
             [
              0.2222222222222222,
              "#3e4989"
             ],
             [
              0.3333333333333333,
              "#31688e"
             ],
             [
              0.4444444444444444,
              "#26828e"
             ],
             [
              0.5555555555555556,
              "#1f9e89"
             ],
             [
              0.6666666666666666,
              "#35b779"
             ],
             [
              0.7777777777777778,
              "#6ece58"
             ],
             [
              0.8888888888888888,
              "#b5de2b"
             ],
             [
              1,
              "#fde725"
             ]
            ],
            "type": "contour"
           }
          ],
          "contourcarpet": [
           {
            "colorbar": {
             "outlinewidth": 1,
             "tickcolor": "rgb(36,36,36)",
             "ticks": "outside"
            },
            "type": "contourcarpet"
           }
          ],
          "heatmap": [
           {
            "colorbar": {
             "outlinewidth": 1,
             "tickcolor": "rgb(36,36,36)",
             "ticks": "outside"
            },
            "colorscale": [
             [
              0,
              "#440154"
             ],
             [
              0.1111111111111111,
              "#482878"
             ],
             [
              0.2222222222222222,
              "#3e4989"
             ],
             [
              0.3333333333333333,
              "#31688e"
             ],
             [
              0.4444444444444444,
              "#26828e"
             ],
             [
              0.5555555555555556,
              "#1f9e89"
             ],
             [
              0.6666666666666666,
              "#35b779"
             ],
             [
              0.7777777777777778,
              "#6ece58"
             ],
             [
              0.8888888888888888,
              "#b5de2b"
             ],
             [
              1,
              "#fde725"
             ]
            ],
            "type": "heatmap"
           }
          ],
          "heatmapgl": [
           {
            "colorbar": {
             "outlinewidth": 1,
             "tickcolor": "rgb(36,36,36)",
             "ticks": "outside"
            },
            "colorscale": [
             [
              0,
              "#440154"
             ],
             [
              0.1111111111111111,
              "#482878"
             ],
             [
              0.2222222222222222,
              "#3e4989"
             ],
             [
              0.3333333333333333,
              "#31688e"
             ],
             [
              0.4444444444444444,
              "#26828e"
             ],
             [
              0.5555555555555556,
              "#1f9e89"
             ],
             [
              0.6666666666666666,
              "#35b779"
             ],
             [
              0.7777777777777778,
              "#6ece58"
             ],
             [
              0.8888888888888888,
              "#b5de2b"
             ],
             [
              1,
              "#fde725"
             ]
            ],
            "type": "heatmapgl"
           }
          ],
          "histogram": [
           {
            "marker": {
             "line": {
              "color": "white",
              "width": 0.6
             }
            },
            "type": "histogram"
           }
          ],
          "histogram2d": [
           {
            "colorbar": {
             "outlinewidth": 1,
             "tickcolor": "rgb(36,36,36)",
             "ticks": "outside"
            },
            "colorscale": [
             [
              0,
              "#440154"
             ],
             [
              0.1111111111111111,
              "#482878"
             ],
             [
              0.2222222222222222,
              "#3e4989"
             ],
             [
              0.3333333333333333,
              "#31688e"
             ],
             [
              0.4444444444444444,
              "#26828e"
             ],
             [
              0.5555555555555556,
              "#1f9e89"
             ],
             [
              0.6666666666666666,
              "#35b779"
             ],
             [
              0.7777777777777778,
              "#6ece58"
             ],
             [
              0.8888888888888888,
              "#b5de2b"
             ],
             [
              1,
              "#fde725"
             ]
            ],
            "type": "histogram2d"
           }
          ],
          "histogram2dcontour": [
           {
            "colorbar": {
             "outlinewidth": 1,
             "tickcolor": "rgb(36,36,36)",
             "ticks": "outside"
            },
            "colorscale": [
             [
              0,
              "#440154"
             ],
             [
              0.1111111111111111,
              "#482878"
             ],
             [
              0.2222222222222222,
              "#3e4989"
             ],
             [
              0.3333333333333333,
              "#31688e"
             ],
             [
              0.4444444444444444,
              "#26828e"
             ],
             [
              0.5555555555555556,
              "#1f9e89"
             ],
             [
              0.6666666666666666,
              "#35b779"
             ],
             [
              0.7777777777777778,
              "#6ece58"
             ],
             [
              0.8888888888888888,
              "#b5de2b"
             ],
             [
              1,
              "#fde725"
             ]
            ],
            "type": "histogram2dcontour"
           }
          ],
          "mesh3d": [
           {
            "colorbar": {
             "outlinewidth": 1,
             "tickcolor": "rgb(36,36,36)",
             "ticks": "outside"
            },
            "type": "mesh3d"
           }
          ],
          "parcoords": [
           {
            "line": {
             "colorbar": {
              "outlinewidth": 1,
              "tickcolor": "rgb(36,36,36)",
              "ticks": "outside"
             }
            },
            "type": "parcoords"
           }
          ],
          "pie": [
           {
            "automargin": true,
            "type": "pie"
           }
          ],
          "scatter": [
           {
            "fillpattern": {
             "fillmode": "overlay",
             "size": 10,
             "solidity": 0.2
            },
            "type": "scatter"
           }
          ],
          "scatter3d": [
           {
            "line": {
             "colorbar": {
              "outlinewidth": 1,
              "tickcolor": "rgb(36,36,36)",
              "ticks": "outside"
             }
            },
            "marker": {
             "colorbar": {
              "outlinewidth": 1,
              "tickcolor": "rgb(36,36,36)",
              "ticks": "outside"
             }
            },
            "type": "scatter3d"
           }
          ],
          "scattercarpet": [
           {
            "marker": {
             "colorbar": {
              "outlinewidth": 1,
              "tickcolor": "rgb(36,36,36)",
              "ticks": "outside"
             }
            },
            "type": "scattercarpet"
           }
          ],
          "scattergeo": [
           {
            "marker": {
             "colorbar": {
              "outlinewidth": 1,
              "tickcolor": "rgb(36,36,36)",
              "ticks": "outside"
             }
            },
            "type": "scattergeo"
           }
          ],
          "scattergl": [
           {
            "marker": {
             "colorbar": {
              "outlinewidth": 1,
              "tickcolor": "rgb(36,36,36)",
              "ticks": "outside"
             }
            },
            "type": "scattergl"
           }
          ],
          "scattermapbox": [
           {
            "marker": {
             "colorbar": {
              "outlinewidth": 1,
              "tickcolor": "rgb(36,36,36)",
              "ticks": "outside"
             }
            },
            "type": "scattermapbox"
           }
          ],
          "scatterpolar": [
           {
            "marker": {
             "colorbar": {
              "outlinewidth": 1,
              "tickcolor": "rgb(36,36,36)",
              "ticks": "outside"
             }
            },
            "type": "scatterpolar"
           }
          ],
          "scatterpolargl": [
           {
            "marker": {
             "colorbar": {
              "outlinewidth": 1,
              "tickcolor": "rgb(36,36,36)",
              "ticks": "outside"
             }
            },
            "type": "scatterpolargl"
           }
          ],
          "scatterternary": [
           {
            "marker": {
             "colorbar": {
              "outlinewidth": 1,
              "tickcolor": "rgb(36,36,36)",
              "ticks": "outside"
             }
            },
            "type": "scatterternary"
           }
          ],
          "surface": [
           {
            "colorbar": {
             "outlinewidth": 1,
             "tickcolor": "rgb(36,36,36)",
             "ticks": "outside"
            },
            "colorscale": [
             [
              0,
              "#440154"
             ],
             [
              0.1111111111111111,
              "#482878"
             ],
             [
              0.2222222222222222,
              "#3e4989"
             ],
             [
              0.3333333333333333,
              "#31688e"
             ],
             [
              0.4444444444444444,
              "#26828e"
             ],
             [
              0.5555555555555556,
              "#1f9e89"
             ],
             [
              0.6666666666666666,
              "#35b779"
             ],
             [
              0.7777777777777778,
              "#6ece58"
             ],
             [
              0.8888888888888888,
              "#b5de2b"
             ],
             [
              1,
              "#fde725"
             ]
            ],
            "type": "surface"
           }
          ],
          "table": [
           {
            "cells": {
             "fill": {
              "color": "rgb(237,237,237)"
             },
             "line": {
              "color": "white"
             }
            },
            "header": {
             "fill": {
              "color": "rgb(217,217,217)"
             },
             "line": {
              "color": "white"
             }
            },
            "type": "table"
           }
          ]
         },
         "layout": {
          "annotationdefaults": {
           "arrowhead": 0,
           "arrowwidth": 1
          },
          "autotypenumbers": "strict",
          "coloraxis": {
           "colorbar": {
            "outlinewidth": 1,
            "tickcolor": "rgb(36,36,36)",
            "ticks": "outside"
           }
          },
          "colorscale": {
           "diverging": [
            [
             0,
             "rgb(103,0,31)"
            ],
            [
             0.1,
             "rgb(178,24,43)"
            ],
            [
             0.2,
             "rgb(214,96,77)"
            ],
            [
             0.3,
             "rgb(244,165,130)"
            ],
            [
             0.4,
             "rgb(253,219,199)"
            ],
            [
             0.5,
             "rgb(247,247,247)"
            ],
            [
             0.6,
             "rgb(209,229,240)"
            ],
            [
             0.7,
             "rgb(146,197,222)"
            ],
            [
             0.8,
             "rgb(67,147,195)"
            ],
            [
             0.9,
             "rgb(33,102,172)"
            ],
            [
             1,
             "rgb(5,48,97)"
            ]
           ],
           "sequential": [
            [
             0,
             "#440154"
            ],
            [
             0.1111111111111111,
             "#482878"
            ],
            [
             0.2222222222222222,
             "#3e4989"
            ],
            [
             0.3333333333333333,
             "#31688e"
            ],
            [
             0.4444444444444444,
             "#26828e"
            ],
            [
             0.5555555555555556,
             "#1f9e89"
            ],
            [
             0.6666666666666666,
             "#35b779"
            ],
            [
             0.7777777777777778,
             "#6ece58"
            ],
            [
             0.8888888888888888,
             "#b5de2b"
            ],
            [
             1,
             "#fde725"
            ]
           ],
           "sequentialminus": [
            [
             0,
             "#440154"
            ],
            [
             0.1111111111111111,
             "#482878"
            ],
            [
             0.2222222222222222,
             "#3e4989"
            ],
            [
             0.3333333333333333,
             "#31688e"
            ],
            [
             0.4444444444444444,
             "#26828e"
            ],
            [
             0.5555555555555556,
             "#1f9e89"
            ],
            [
             0.6666666666666666,
             "#35b779"
            ],
            [
             0.7777777777777778,
             "#6ece58"
            ],
            [
             0.8888888888888888,
             "#b5de2b"
            ],
            [
             1,
             "#fde725"
            ]
           ]
          },
          "colorway": [
           "#1F77B4",
           "#FF7F0E",
           "#2CA02C",
           "#D62728",
           "#9467BD",
           "#8C564B",
           "#E377C2",
           "#7F7F7F",
           "#BCBD22",
           "#17BECF"
          ],
          "font": {
           "color": "rgb(36,36,36)"
          },
          "geo": {
           "bgcolor": "white",
           "lakecolor": "white",
           "landcolor": "white",
           "showlakes": true,
           "showland": true,
           "subunitcolor": "white"
          },
          "hoverlabel": {
           "align": "left"
          },
          "hovermode": "closest",
          "mapbox": {
           "style": "light"
          },
          "paper_bgcolor": "white",
          "plot_bgcolor": "white",
          "polar": {
           "angularaxis": {
            "gridcolor": "rgb(232,232,232)",
            "linecolor": "rgb(36,36,36)",
            "showgrid": false,
            "showline": true,
            "ticks": "outside"
           },
           "bgcolor": "white",
           "radialaxis": {
            "gridcolor": "rgb(232,232,232)",
            "linecolor": "rgb(36,36,36)",
            "showgrid": false,
            "showline": true,
            "ticks": "outside"
           }
          },
          "scene": {
           "xaxis": {
            "backgroundcolor": "white",
            "gridcolor": "rgb(232,232,232)",
            "gridwidth": 2,
            "linecolor": "rgb(36,36,36)",
            "showbackground": true,
            "showgrid": false,
            "showline": true,
            "ticks": "outside",
            "zeroline": false,
            "zerolinecolor": "rgb(36,36,36)"
           },
           "yaxis": {
            "backgroundcolor": "white",
            "gridcolor": "rgb(232,232,232)",
            "gridwidth": 2,
            "linecolor": "rgb(36,36,36)",
            "showbackground": true,
            "showgrid": false,
            "showline": true,
            "ticks": "outside",
            "zeroline": false,
            "zerolinecolor": "rgb(36,36,36)"
           },
           "zaxis": {
            "backgroundcolor": "white",
            "gridcolor": "rgb(232,232,232)",
            "gridwidth": 2,
            "linecolor": "rgb(36,36,36)",
            "showbackground": true,
            "showgrid": false,
            "showline": true,
            "ticks": "outside",
            "zeroline": false,
            "zerolinecolor": "rgb(36,36,36)"
           }
          },
          "shapedefaults": {
           "fillcolor": "black",
           "line": {
            "width": 0
           },
           "opacity": 0.3
          },
          "ternary": {
           "aaxis": {
            "gridcolor": "rgb(232,232,232)",
            "linecolor": "rgb(36,36,36)",
            "showgrid": false,
            "showline": true,
            "ticks": "outside"
           },
           "baxis": {
            "gridcolor": "rgb(232,232,232)",
            "linecolor": "rgb(36,36,36)",
            "showgrid": false,
            "showline": true,
            "ticks": "outside"
           },
           "bgcolor": "white",
           "caxis": {
            "gridcolor": "rgb(232,232,232)",
            "linecolor": "rgb(36,36,36)",
            "showgrid": false,
            "showline": true,
            "ticks": "outside"
           }
          },
          "title": {
           "x": 0.05
          },
          "xaxis": {
           "automargin": true,
           "gridcolor": "rgb(232,232,232)",
           "linecolor": "rgb(36,36,36)",
           "showgrid": false,
           "showline": true,
           "ticks": "outside",
           "title": {
            "standoff": 15
           },
           "zeroline": false,
           "zerolinecolor": "rgb(36,36,36)"
          },
          "yaxis": {
           "automargin": true,
           "gridcolor": "rgb(232,232,232)",
           "linecolor": "rgb(36,36,36)",
           "showgrid": false,
           "showline": true,
           "ticks": "outside",
           "title": {
            "standoff": 15
           },
           "zeroline": false,
           "zerolinecolor": "rgb(36,36,36)"
          }
         }
        },
        "title": {
         "font": {
          "color": "Black",
          "size": 22
         },
         "text": "<b>Intertopic Distance Map</b>",
         "x": 0.5,
         "xanchor": "center",
         "y": 0.95,
         "yanchor": "top"
        },
        "width": 650,
        "xaxis": {
         "anchor": "y",
         "domain": [
          0,
          1
         ],
         "range": [
          -6.6571701765060425,
          40.88413543701172
         ],
         "title": {
          "text": ""
         },
         "visible": false
        },
        "yaxis": {
         "anchor": "x",
         "domain": [
          0,
          1
         ],
         "range": [
          -15.389779233932495,
          8.965282106399536
         ],
         "title": {
          "text": ""
         },
         "visible": false
        }
       }
      }
     },
     "metadata": {},
     "output_type": "display_data"
    }
   ],
   "source": [
    "topic_model.visualize_topics()"
   ]
  },
  {
   "cell_type": "code",
   "execution_count": 73,
   "metadata": {},
   "outputs": [
    {
     "data": {
      "application/vnd.plotly.v1+json": {
       "config": {
        "plotlyServerURL": "https://plot.ly"
       },
       "data": [
        {
         "marker": {
          "color": "#D55E00"
         },
         "orientation": "h",
         "type": "bar",
         "x": [
          0.0104549841493839,
          0.010510563021012297,
          0.0109611338337182,
          0.011031788778668474,
          0.014838084560561916
         ],
         "xaxis": "x",
         "y": [
          "heute  ",
          "90  ",
          "spd  ",
          "oberbürgermeisterin  ",
          "rat  "
         ],
         "yaxis": "y"
        },
        {
         "marker": {
          "color": "#0072B2"
         },
         "orientation": "h",
         "type": "bar",
         "x": [
          0.04389902471089728,
          0.044503340185015804,
          0.046270161462744826,
          0.05071120988903517,
          0.05171663578922986
         ],
         "xaxis": "x2",
         "y": [
          "beschlossen  ",
          "wortmeldungen  ",
          "tagesordnungspunkt  ",
          "gegenstimmen  ",
          "enthaltungen  "
         ],
         "yaxis": "y2"
        },
        {
         "marker": {
          "color": "#CC79A7"
         },
         "orientation": "h",
         "type": "bar",
         "x": [
          0.01029398630937464,
          0.010397254052855923,
          0.011622976086910613,
          0.013896515943735038,
          0.016622684614938175
         ],
         "xaxis": "x3",
         "y": [
          "immer  ",
          "spd  ",
          "oberbürgermeisterin  ",
          "afd  ",
          "menschen  "
         ],
         "yaxis": "y3"
        },
        {
         "marker": {
          "color": "#E69F00"
         },
         "orientation": "h",
         "type": "bar",
         "x": [
          0.01701126340042497,
          0.018760934917517024,
          0.021480038370678387,
          0.022557226985848666,
          0.02503233502810187
         ],
         "xaxis": "x4",
         "y": [
          "gesamtschulen  ",
          "eltern  ",
          "schule  ",
          "kinder  ",
          "schulen  "
         ],
         "yaxis": "y4"
        },
        {
         "marker": {
          "color": "#56B4E9"
         },
         "orientation": "h",
         "type": "bar",
         "x": [
          0.02201904076066094,
          0.02364659522541264,
          0.029941513215376435,
          0.030543259569154144,
          0.04206638005167943
         ],
         "xaxis": "x5",
         "y": [
          "abstimmen  ",
          "gibt  ",
          "enthaltungen  ",
          "2021  ",
          "fraktion  "
         ],
         "yaxis": "y5"
        },
        {
         "marker": {
          "color": "#009E73"
         },
         "orientation": "h",
         "type": "bar",
         "x": [
          0.0143116744311155,
          0.014483758110240122,
          0.014588477058705227,
          0.01697339329149098,
          0.019876821399604006
         ],
         "xaxis": "x6",
         "y": [
          "kollegen  ",
          "reker  ",
          "henriette  ",
          "liebe  ",
          "oberbürgermeisterin  "
         ],
         "yaxis": "y6"
        },
        {
         "marker": {
          "color": "#F0E442"
         },
         "orientation": "h",
         "type": "bar",
         "x": [
          0,
          0,
          0,
          0,
          0.944355309009552
         ],
         "xaxis": "x7",
         "y": [
          "  ",
          "  ",
          "  ",
          "  ",
          "Sport  "
         ],
         "yaxis": "y7"
        },
        {
         "marker": {
          "color": "#D55E00"
         },
         "orientation": "h",
         "type": "bar",
         "x": [
          0.021603151841699697,
          0.021758680689949714,
          0.022840564224337268,
          0.02459846564554172,
          0.026188202860815697
         ],
         "xaxis": "x8",
         "y": [
          "herren  ",
          "heute  ",
          "damen  ",
          "rates  ",
          "uhr  "
         ],
         "yaxis": "y8"
        }
       ],
       "layout": {
        "annotations": [
         {
          "font": {
           "size": 16
          },
          "showarrow": false,
          "text": "Topic 0",
          "x": 0.0875,
          "xanchor": "center",
          "xref": "paper",
          "y": 1,
          "yanchor": "bottom",
          "yref": "paper"
         },
         {
          "font": {
           "size": 16
          },
          "showarrow": false,
          "text": "Topic 1",
          "x": 0.36250000000000004,
          "xanchor": "center",
          "xref": "paper",
          "y": 1,
          "yanchor": "bottom",
          "yref": "paper"
         },
         {
          "font": {
           "size": 16
          },
          "showarrow": false,
          "text": "Topic 2",
          "x": 0.6375000000000001,
          "xanchor": "center",
          "xref": "paper",
          "y": 1,
          "yanchor": "bottom",
          "yref": "paper"
         },
         {
          "font": {
           "size": 16
          },
          "showarrow": false,
          "text": "Topic 3",
          "x": 0.9125,
          "xanchor": "center",
          "xref": "paper",
          "y": 1,
          "yanchor": "bottom",
          "yref": "paper"
         },
         {
          "font": {
           "size": 16
          },
          "showarrow": false,
          "text": "Topic 4",
          "x": 0.0875,
          "xanchor": "center",
          "xref": "paper",
          "y": 0.4,
          "yanchor": "bottom",
          "yref": "paper"
         },
         {
          "font": {
           "size": 16
          },
          "showarrow": false,
          "text": "Topic 5",
          "x": 0.36250000000000004,
          "xanchor": "center",
          "xref": "paper",
          "y": 0.4,
          "yanchor": "bottom",
          "yref": "paper"
         },
         {
          "font": {
           "size": 16
          },
          "showarrow": false,
          "text": "Topic 6",
          "x": 0.6375000000000001,
          "xanchor": "center",
          "xref": "paper",
          "y": 0.4,
          "yanchor": "bottom",
          "yref": "paper"
         },
         {
          "font": {
           "size": 16
          },
          "showarrow": false,
          "text": "Topic 7",
          "x": 0.9125,
          "xanchor": "center",
          "xref": "paper",
          "y": 0.4,
          "yanchor": "bottom",
          "yref": "paper"
         }
        ],
        "height": 500,
        "hoverlabel": {
         "bgcolor": "white",
         "font": {
          "family": "Rockwell",
          "size": 16
         }
        },
        "showlegend": false,
        "template": {
         "data": {
          "bar": [
           {
            "error_x": {
             "color": "#2a3f5f"
            },
            "error_y": {
             "color": "#2a3f5f"
            },
            "marker": {
             "line": {
              "color": "white",
              "width": 0.5
             },
             "pattern": {
              "fillmode": "overlay",
              "size": 10,
              "solidity": 0.2
             }
            },
            "type": "bar"
           }
          ],
          "barpolar": [
           {
            "marker": {
             "line": {
              "color": "white",
              "width": 0.5
             },
             "pattern": {
              "fillmode": "overlay",
              "size": 10,
              "solidity": 0.2
             }
            },
            "type": "barpolar"
           }
          ],
          "carpet": [
           {
            "aaxis": {
             "endlinecolor": "#2a3f5f",
             "gridcolor": "#C8D4E3",
             "linecolor": "#C8D4E3",
             "minorgridcolor": "#C8D4E3",
             "startlinecolor": "#2a3f5f"
            },
            "baxis": {
             "endlinecolor": "#2a3f5f",
             "gridcolor": "#C8D4E3",
             "linecolor": "#C8D4E3",
             "minorgridcolor": "#C8D4E3",
             "startlinecolor": "#2a3f5f"
            },
            "type": "carpet"
           }
          ],
          "choropleth": [
           {
            "colorbar": {
             "outlinewidth": 0,
             "ticks": ""
            },
            "type": "choropleth"
           }
          ],
          "contour": [
           {
            "colorbar": {
             "outlinewidth": 0,
             "ticks": ""
            },
            "colorscale": [
             [
              0,
              "#0d0887"
             ],
             [
              0.1111111111111111,
              "#46039f"
             ],
             [
              0.2222222222222222,
              "#7201a8"
             ],
             [
              0.3333333333333333,
              "#9c179e"
             ],
             [
              0.4444444444444444,
              "#bd3786"
             ],
             [
              0.5555555555555556,
              "#d8576b"
             ],
             [
              0.6666666666666666,
              "#ed7953"
             ],
             [
              0.7777777777777778,
              "#fb9f3a"
             ],
             [
              0.8888888888888888,
              "#fdca26"
             ],
             [
              1,
              "#f0f921"
             ]
            ],
            "type": "contour"
           }
          ],
          "contourcarpet": [
           {
            "colorbar": {
             "outlinewidth": 0,
             "ticks": ""
            },
            "type": "contourcarpet"
           }
          ],
          "heatmap": [
           {
            "colorbar": {
             "outlinewidth": 0,
             "ticks": ""
            },
            "colorscale": [
             [
              0,
              "#0d0887"
             ],
             [
              0.1111111111111111,
              "#46039f"
             ],
             [
              0.2222222222222222,
              "#7201a8"
             ],
             [
              0.3333333333333333,
              "#9c179e"
             ],
             [
              0.4444444444444444,
              "#bd3786"
             ],
             [
              0.5555555555555556,
              "#d8576b"
             ],
             [
              0.6666666666666666,
              "#ed7953"
             ],
             [
              0.7777777777777778,
              "#fb9f3a"
             ],
             [
              0.8888888888888888,
              "#fdca26"
             ],
             [
              1,
              "#f0f921"
             ]
            ],
            "type": "heatmap"
           }
          ],
          "heatmapgl": [
           {
            "colorbar": {
             "outlinewidth": 0,
             "ticks": ""
            },
            "colorscale": [
             [
              0,
              "#0d0887"
             ],
             [
              0.1111111111111111,
              "#46039f"
             ],
             [
              0.2222222222222222,
              "#7201a8"
             ],
             [
              0.3333333333333333,
              "#9c179e"
             ],
             [
              0.4444444444444444,
              "#bd3786"
             ],
             [
              0.5555555555555556,
              "#d8576b"
             ],
             [
              0.6666666666666666,
              "#ed7953"
             ],
             [
              0.7777777777777778,
              "#fb9f3a"
             ],
             [
              0.8888888888888888,
              "#fdca26"
             ],
             [
              1,
              "#f0f921"
             ]
            ],
            "type": "heatmapgl"
           }
          ],
          "histogram": [
           {
            "marker": {
             "pattern": {
              "fillmode": "overlay",
              "size": 10,
              "solidity": 0.2
             }
            },
            "type": "histogram"
           }
          ],
          "histogram2d": [
           {
            "colorbar": {
             "outlinewidth": 0,
             "ticks": ""
            },
            "colorscale": [
             [
              0,
              "#0d0887"
             ],
             [
              0.1111111111111111,
              "#46039f"
             ],
             [
              0.2222222222222222,
              "#7201a8"
             ],
             [
              0.3333333333333333,
              "#9c179e"
             ],
             [
              0.4444444444444444,
              "#bd3786"
             ],
             [
              0.5555555555555556,
              "#d8576b"
             ],
             [
              0.6666666666666666,
              "#ed7953"
             ],
             [
              0.7777777777777778,
              "#fb9f3a"
             ],
             [
              0.8888888888888888,
              "#fdca26"
             ],
             [
              1,
              "#f0f921"
             ]
            ],
            "type": "histogram2d"
           }
          ],
          "histogram2dcontour": [
           {
            "colorbar": {
             "outlinewidth": 0,
             "ticks": ""
            },
            "colorscale": [
             [
              0,
              "#0d0887"
             ],
             [
              0.1111111111111111,
              "#46039f"
             ],
             [
              0.2222222222222222,
              "#7201a8"
             ],
             [
              0.3333333333333333,
              "#9c179e"
             ],
             [
              0.4444444444444444,
              "#bd3786"
             ],
             [
              0.5555555555555556,
              "#d8576b"
             ],
             [
              0.6666666666666666,
              "#ed7953"
             ],
             [
              0.7777777777777778,
              "#fb9f3a"
             ],
             [
              0.8888888888888888,
              "#fdca26"
             ],
             [
              1,
              "#f0f921"
             ]
            ],
            "type": "histogram2dcontour"
           }
          ],
          "mesh3d": [
           {
            "colorbar": {
             "outlinewidth": 0,
             "ticks": ""
            },
            "type": "mesh3d"
           }
          ],
          "parcoords": [
           {
            "line": {
             "colorbar": {
              "outlinewidth": 0,
              "ticks": ""
             }
            },
            "type": "parcoords"
           }
          ],
          "pie": [
           {
            "automargin": true,
            "type": "pie"
           }
          ],
          "scatter": [
           {
            "fillpattern": {
             "fillmode": "overlay",
             "size": 10,
             "solidity": 0.2
            },
            "type": "scatter"
           }
          ],
          "scatter3d": [
           {
            "line": {
             "colorbar": {
              "outlinewidth": 0,
              "ticks": ""
             }
            },
            "marker": {
             "colorbar": {
              "outlinewidth": 0,
              "ticks": ""
             }
            },
            "type": "scatter3d"
           }
          ],
          "scattercarpet": [
           {
            "marker": {
             "colorbar": {
              "outlinewidth": 0,
              "ticks": ""
             }
            },
            "type": "scattercarpet"
           }
          ],
          "scattergeo": [
           {
            "marker": {
             "colorbar": {
              "outlinewidth": 0,
              "ticks": ""
             }
            },
            "type": "scattergeo"
           }
          ],
          "scattergl": [
           {
            "marker": {
             "colorbar": {
              "outlinewidth": 0,
              "ticks": ""
             }
            },
            "type": "scattergl"
           }
          ],
          "scattermapbox": [
           {
            "marker": {
             "colorbar": {
              "outlinewidth": 0,
              "ticks": ""
             }
            },
            "type": "scattermapbox"
           }
          ],
          "scatterpolar": [
           {
            "marker": {
             "colorbar": {
              "outlinewidth": 0,
              "ticks": ""
             }
            },
            "type": "scatterpolar"
           }
          ],
          "scatterpolargl": [
           {
            "marker": {
             "colorbar": {
              "outlinewidth": 0,
              "ticks": ""
             }
            },
            "type": "scatterpolargl"
           }
          ],
          "scatterternary": [
           {
            "marker": {
             "colorbar": {
              "outlinewidth": 0,
              "ticks": ""
             }
            },
            "type": "scatterternary"
           }
          ],
          "surface": [
           {
            "colorbar": {
             "outlinewidth": 0,
             "ticks": ""
            },
            "colorscale": [
             [
              0,
              "#0d0887"
             ],
             [
              0.1111111111111111,
              "#46039f"
             ],
             [
              0.2222222222222222,
              "#7201a8"
             ],
             [
              0.3333333333333333,
              "#9c179e"
             ],
             [
              0.4444444444444444,
              "#bd3786"
             ],
             [
              0.5555555555555556,
              "#d8576b"
             ],
             [
              0.6666666666666666,
              "#ed7953"
             ],
             [
              0.7777777777777778,
              "#fb9f3a"
             ],
             [
              0.8888888888888888,
              "#fdca26"
             ],
             [
              1,
              "#f0f921"
             ]
            ],
            "type": "surface"
           }
          ],
          "table": [
           {
            "cells": {
             "fill": {
              "color": "#EBF0F8"
             },
             "line": {
              "color": "white"
             }
            },
            "header": {
             "fill": {
              "color": "#C8D4E3"
             },
             "line": {
              "color": "white"
             }
            },
            "type": "table"
           }
          ]
         },
         "layout": {
          "annotationdefaults": {
           "arrowcolor": "#2a3f5f",
           "arrowhead": 0,
           "arrowwidth": 1
          },
          "autotypenumbers": "strict",
          "coloraxis": {
           "colorbar": {
            "outlinewidth": 0,
            "ticks": ""
           }
          },
          "colorscale": {
           "diverging": [
            [
             0,
             "#8e0152"
            ],
            [
             0.1,
             "#c51b7d"
            ],
            [
             0.2,
             "#de77ae"
            ],
            [
             0.3,
             "#f1b6da"
            ],
            [
             0.4,
             "#fde0ef"
            ],
            [
             0.5,
             "#f7f7f7"
            ],
            [
             0.6,
             "#e6f5d0"
            ],
            [
             0.7,
             "#b8e186"
            ],
            [
             0.8,
             "#7fbc41"
            ],
            [
             0.9,
             "#4d9221"
            ],
            [
             1,
             "#276419"
            ]
           ],
           "sequential": [
            [
             0,
             "#0d0887"
            ],
            [
             0.1111111111111111,
             "#46039f"
            ],
            [
             0.2222222222222222,
             "#7201a8"
            ],
            [
             0.3333333333333333,
             "#9c179e"
            ],
            [
             0.4444444444444444,
             "#bd3786"
            ],
            [
             0.5555555555555556,
             "#d8576b"
            ],
            [
             0.6666666666666666,
             "#ed7953"
            ],
            [
             0.7777777777777778,
             "#fb9f3a"
            ],
            [
             0.8888888888888888,
             "#fdca26"
            ],
            [
             1,
             "#f0f921"
            ]
           ],
           "sequentialminus": [
            [
             0,
             "#0d0887"
            ],
            [
             0.1111111111111111,
             "#46039f"
            ],
            [
             0.2222222222222222,
             "#7201a8"
            ],
            [
             0.3333333333333333,
             "#9c179e"
            ],
            [
             0.4444444444444444,
             "#bd3786"
            ],
            [
             0.5555555555555556,
             "#d8576b"
            ],
            [
             0.6666666666666666,
             "#ed7953"
            ],
            [
             0.7777777777777778,
             "#fb9f3a"
            ],
            [
             0.8888888888888888,
             "#fdca26"
            ],
            [
             1,
             "#f0f921"
            ]
           ]
          },
          "colorway": [
           "#636efa",
           "#EF553B",
           "#00cc96",
           "#ab63fa",
           "#FFA15A",
           "#19d3f3",
           "#FF6692",
           "#B6E880",
           "#FF97FF",
           "#FECB52"
          ],
          "font": {
           "color": "#2a3f5f"
          },
          "geo": {
           "bgcolor": "white",
           "lakecolor": "white",
           "landcolor": "white",
           "showlakes": true,
           "showland": true,
           "subunitcolor": "#C8D4E3"
          },
          "hoverlabel": {
           "align": "left"
          },
          "hovermode": "closest",
          "mapbox": {
           "style": "light"
          },
          "paper_bgcolor": "white",
          "plot_bgcolor": "white",
          "polar": {
           "angularaxis": {
            "gridcolor": "#EBF0F8",
            "linecolor": "#EBF0F8",
            "ticks": ""
           },
           "bgcolor": "white",
           "radialaxis": {
            "gridcolor": "#EBF0F8",
            "linecolor": "#EBF0F8",
            "ticks": ""
           }
          },
          "scene": {
           "xaxis": {
            "backgroundcolor": "white",
            "gridcolor": "#DFE8F3",
            "gridwidth": 2,
            "linecolor": "#EBF0F8",
            "showbackground": true,
            "ticks": "",
            "zerolinecolor": "#EBF0F8"
           },
           "yaxis": {
            "backgroundcolor": "white",
            "gridcolor": "#DFE8F3",
            "gridwidth": 2,
            "linecolor": "#EBF0F8",
            "showbackground": true,
            "ticks": "",
            "zerolinecolor": "#EBF0F8"
           },
           "zaxis": {
            "backgroundcolor": "white",
            "gridcolor": "#DFE8F3",
            "gridwidth": 2,
            "linecolor": "#EBF0F8",
            "showbackground": true,
            "ticks": "",
            "zerolinecolor": "#EBF0F8"
           }
          },
          "shapedefaults": {
           "line": {
            "color": "#2a3f5f"
           }
          },
          "ternary": {
           "aaxis": {
            "gridcolor": "#DFE8F3",
            "linecolor": "#A2B1C6",
            "ticks": ""
           },
           "baxis": {
            "gridcolor": "#DFE8F3",
            "linecolor": "#A2B1C6",
            "ticks": ""
           },
           "bgcolor": "white",
           "caxis": {
            "gridcolor": "#DFE8F3",
            "linecolor": "#A2B1C6",
            "ticks": ""
           }
          },
          "title": {
           "x": 0.05
          },
          "xaxis": {
           "automargin": true,
           "gridcolor": "#EBF0F8",
           "linecolor": "#EBF0F8",
           "ticks": "",
           "title": {
            "standoff": 15
           },
           "zerolinecolor": "#EBF0F8",
           "zerolinewidth": 2
          },
          "yaxis": {
           "automargin": true,
           "gridcolor": "#EBF0F8",
           "linecolor": "#EBF0F8",
           "ticks": "",
           "title": {
            "standoff": 15
           },
           "zerolinecolor": "#EBF0F8",
           "zerolinewidth": 2
          }
         }
        },
        "title": {
         "font": {
          "color": "Black",
          "size": 22
         },
         "text": "Topic Word Scores",
         "x": 0.5,
         "xanchor": "center",
         "yanchor": "top"
        },
        "width": 1000,
        "xaxis": {
         "anchor": "y",
         "domain": [
          0,
          0.175
         ],
         "showgrid": true
        },
        "xaxis2": {
         "anchor": "y2",
         "domain": [
          0.275,
          0.45
         ],
         "showgrid": true
        },
        "xaxis3": {
         "anchor": "y3",
         "domain": [
          0.55,
          0.7250000000000001
         ],
         "showgrid": true
        },
        "xaxis4": {
         "anchor": "y4",
         "domain": [
          0.825,
          1
         ],
         "showgrid": true
        },
        "xaxis5": {
         "anchor": "y5",
         "domain": [
          0,
          0.175
         ],
         "showgrid": true
        },
        "xaxis6": {
         "anchor": "y6",
         "domain": [
          0.275,
          0.45
         ],
         "showgrid": true
        },
        "xaxis7": {
         "anchor": "y7",
         "domain": [
          0.55,
          0.7250000000000001
         ],
         "showgrid": true
        },
        "xaxis8": {
         "anchor": "y8",
         "domain": [
          0.825,
          1
         ],
         "showgrid": true
        },
        "yaxis": {
         "anchor": "x",
         "domain": [
          0.6000000000000001,
          1
         ],
         "showgrid": true
        },
        "yaxis2": {
         "anchor": "x2",
         "domain": [
          0.6000000000000001,
          1
         ],
         "showgrid": true
        },
        "yaxis3": {
         "anchor": "x3",
         "domain": [
          0.6000000000000001,
          1
         ],
         "showgrid": true
        },
        "yaxis4": {
         "anchor": "x4",
         "domain": [
          0.6000000000000001,
          1
         ],
         "showgrid": true
        },
        "yaxis5": {
         "anchor": "x5",
         "domain": [
          0,
          0.4
         ],
         "showgrid": true
        },
        "yaxis6": {
         "anchor": "x6",
         "domain": [
          0,
          0.4
         ],
         "showgrid": true
        },
        "yaxis7": {
         "anchor": "x7",
         "domain": [
          0,
          0.4
         ],
         "showgrid": true
        },
        "yaxis8": {
         "anchor": "x8",
         "domain": [
          0,
          0.4
         ],
         "showgrid": true
        }
       }
      }
     },
     "metadata": {},
     "output_type": "display_data"
    }
   ],
   "source": [
    "topic_model.visualize_barchart()\n"
   ]
  },
  {
   "cell_type": "code",
   "execution_count": 74,
   "metadata": {},
   "outputs": [
    {
     "data": {
      "application/vnd.plotly.v1+json": {
       "config": {
        "plotlyServerURL": "https://plot.ly"
       },
       "data": [
        {
         "coloraxis": "coloraxis",
         "hovertemplate": "x: %{x}<br>y: %{y}<br>Similarity Score: %{z}<extra></extra>",
         "name": "0",
         "type": "heatmap",
         "x": [
          "0_rat_oberbürgermeisterin_spd",
          "1_enthaltungen_gegenstimmen...",
          "2_menschen_afd_oberbürgerme...",
          "3_schulen_kinder_schule",
          "4_fraktion_2021_enthaltungen",
          "5_oberbürgermeisterin_liebe...",
          "6_Sport__",
          "7_uhr_rates_damen",
          "8_oberbürgermeisterin_dank_...",
          "9_spd_90_grünen",
          "10_oberbürgermeisterin_afd_...",
          "11_Bildung__",
          "12_linken_rheinenergie_ober...",
          "13_geehrte_damen_liebe",
          "14_grünen_oberbürgermeister...",
          "15_klimaschutz_2035_müssen",
          "16_corona_verwaltung_gen",
          "17_oberbürgermeisterin_spd_...",
          "18_euro_millionen_haushalt",
          "19_tagesordnung_gibt_oberbü...",
          "20_haus_müssen_sagen",
          "21_gastronomie_gastronomen_...",
          "22_pv_klimaschutz_klima",
          "23_verfahren_weisenstein_li...",
          "24_fraktionen_2020_stimmen",
          "25_ganz_müll_menschen"
         ],
         "xaxis": "x",
         "y": [
          "0_rat_oberbürgermeisterin_spd",
          "1_enthaltungen_gegenstimmen...",
          "2_menschen_afd_oberbürgerme...",
          "3_schulen_kinder_schule",
          "4_fraktion_2021_enthaltungen",
          "5_oberbürgermeisterin_liebe...",
          "6_Sport__",
          "7_uhr_rates_damen",
          "8_oberbürgermeisterin_dank_...",
          "9_spd_90_grünen",
          "10_oberbürgermeisterin_afd_...",
          "11_Bildung__",
          "12_linken_rheinenergie_ober...",
          "13_geehrte_damen_liebe",
          "14_grünen_oberbürgermeister...",
          "15_klimaschutz_2035_müssen",
          "16_corona_verwaltung_gen",
          "17_oberbürgermeisterin_spd_...",
          "18_euro_millionen_haushalt",
          "19_tagesordnung_gibt_oberbü...",
          "20_haus_müssen_sagen",
          "21_gastronomie_gastronomen_...",
          "22_pv_klimaschutz_klima",
          "23_verfahren_weisenstein_li...",
          "24_fraktionen_2020_stimmen",
          "25_ganz_müll_menschen"
         ],
         "yaxis": "y",
         "z": [
          [
           1,
           0.8229918479919434,
           0.8735791444778442,
           0.840789794921875,
           0.6975135803222656,
           0.8018401265144348,
           0.8615367412567139,
           0.8005094528198242,
           0.839555561542511,
           0.9479010105133057,
           0.6906775236129761,
           0.7561915516853333,
           0.7629463076591492,
           0.741084098815918,
           0.9457406997680664,
           0.7842990756034851,
           0.766517162322998,
           0.705014169216156,
           0.8137206435203552,
           0.7045444250106812,
           0.7334651947021484,
           0.7358505129814148,
           0.6969236135482788,
           0.8256515860557556,
           0.7319280505180359,
           0.8139252662658691
          ],
          [
           0.8229918479919434,
           0.9999996423721313,
           0.8503896594047546,
           0.8070933818817139,
           0.8583239912986755,
           0.8256562352180481,
           0.8029085993766785,
           0.8073991537094116,
           0.8337787389755249,
           0.8663746118545532,
           0.793842077255249,
           0.8343698978424072,
           0.8119715452194214,
           0.7701630592346191,
           0.8502916097640991,
           0.7993133068084717,
           0.8183270692825317,
           0.779131293296814,
           0.8330287337303162,
           0.8578472137451172,
           0.7907490730285645,
           0.7637844681739807,
           0.7450367212295532,
           0.8380528688430786,
           0.8436257243156433,
           0.8526741862297058
          ],
          [
           0.8735791444778442,
           0.8503896594047546,
           0.9999999403953552,
           0.8388069868087769,
           0.78184574842453,
           0.8478820323944092,
           0.825257420539856,
           0.7829775810241699,
           0.8678615093231201,
           0.9069951176643372,
           0.7865450382232666,
           0.787112832069397,
           0.8827754259109497,
           0.8337440490722656,
           0.883899450302124,
           0.8650188446044922,
           0.8319302797317505,
           0.7753515839576721,
           0.8413030505180359,
           0.7761485576629639,
           0.8072593212127686,
           0.7486202716827393,
           0.7520676851272583,
           0.8567904233932495,
           0.770038902759552,
           0.8928518295288086
          ],
          [
           0.840789794921875,
           0.8070933818817139,
           0.8388069868087769,
           0.9999996423721313,
           0.7381682991981506,
           0.8406840562820435,
           0.8289244174957275,
           0.7758065462112427,
           0.8308036923408508,
           0.8929101824760437,
           0.7530190944671631,
           0.7571985721588135,
           0.8273023962974548,
           0.7953389883041382,
           0.8507890701293945,
           0.8047424554824829,
           0.8208631277084351,
           0.7657209038734436,
           0.8137458562850952,
           0.7276779413223267,
           0.796417772769928,
           0.7491437792778015,
           0.6999335289001465,
           0.8516100645065308,
           0.7780280113220215,
           0.8379718065261841
          ],
          [
           0.6975135803222656,
           0.8583239912986755,
           0.78184574842453,
           0.7381682991981506,
           1,
           0.8460121154785156,
           0.707752525806427,
           0.7981531620025635,
           0.8277307152748108,
           0.8012206554412842,
           0.9319323301315308,
           0.8505638241767883,
           0.8619117736816406,
           0.8253520131111145,
           0.7368539571762085,
           0.7531465291976929,
           0.820655345916748,
           0.8480095863342285,
           0.7634373903274536,
           0.8977648019790649,
           0.8305466771125793,
           0.7554063200950623,
           0.671457827091217,
           0.8305749893188477,
           0.8689048290252686,
           0.8000727295875549
          ],
          [
           0.8018401265144348,
           0.8256562352180481,
           0.8478820323944092,
           0.8406840562820435,
           0.8460121154785156,
           0.9999997615814209,
           0.8074763417243958,
           0.8479949831962585,
           0.8989081978797913,
           0.8720262050628662,
           0.8888250589370728,
           0.8115483522415161,
           0.8657228350639343,
           0.9120290279388428,
           0.852491021156311,
           0.8360269069671631,
           0.8399635553359985,
           0.9106515645980835,
           0.8200046420097351,
           0.83347088098526,
           0.8533480167388916,
           0.8326042890548706,
           0.7029650807380676,
           0.8648982048034668,
           0.8210288286209106,
           0.8492172360420227
          ],
          [
           0.8615367412567139,
           0.8029085993766785,
           0.825257420539856,
           0.8289244174957275,
           0.707752525806427,
           0.8074763417243958,
           1.0000004768371582,
           0.7764298915863037,
           0.808090090751648,
           0.8722374439239502,
           0.7182418704032898,
           0.7375844120979309,
           0.7518561482429504,
           0.7544327974319458,
           0.8658231496810913,
           0.7441129684448242,
           0.7648354768753052,
           0.7332496643066406,
           0.7985565662384033,
           0.7174610495567322,
           0.7434141039848328,
           0.7096163630485535,
           0.6750739812850952,
           0.8051879405975342,
           0.7295469045639038,
           0.8183201551437378
          ],
          [
           0.8005094528198242,
           0.8073991537094116,
           0.7829775810241699,
           0.7758065462112427,
           0.7981531620025635,
           0.8479949831962585,
           0.7764298915863037,
           0.9999997615814209,
           0.842422604560852,
           0.8438818454742432,
           0.8095130920410156,
           0.8078612685203552,
           0.8094903826713562,
           0.8527756929397583,
           0.806393563747406,
           0.7578731775283813,
           0.8141276836395264,
           0.8130314350128174,
           0.7967973351478577,
           0.7970007658004761,
           0.8009603023529053,
           0.781676173210144,
           0.6802995800971985,
           0.8332551717758179,
           0.825770378112793,
           0.7743313312530518
          ],
          [
           0.839555561542511,
           0.8337787389755249,
           0.8678615093231201,
           0.8308036923408508,
           0.8277307152748108,
           0.8989081978797913,
           0.808090090751648,
           0.842422604560852,
           1.000000238418579,
           0.9057636857032776,
           0.8760684728622437,
           0.8084151148796082,
           0.8310971260070801,
           0.867020845413208,
           0.9068300724029541,
           0.8165177702903748,
           0.8480272889137268,
           0.929452121257782,
           0.8033795356750488,
           0.8027170300483704,
           0.9076002836227417,
           0.8098030090332031,
           0.6958932876586914,
           0.8909052014350891,
           0.8115947246551514,
           0.872404158115387
          ],
          [
           0.9479010105133057,
           0.8663746118545532,
           0.9069951176643372,
           0.8929101824760437,
           0.8012206554412842,
           0.8720262050628662,
           0.8722374439239502,
           0.8438818454742432,
           0.9057636857032776,
           1,
           0.8220022320747375,
           0.8012115359306335,
           0.8634542226791382,
           0.8241028785705566,
           0.9351166486740112,
           0.8229078650474548,
           0.8588294982910156,
           0.8125778436660767,
           0.8467854261398315,
           0.7903257012367249,
           0.8437256813049316,
           0.7930333614349365,
           0.7299738526344299,
           0.9088552594184875,
           0.8218327760696411,
           0.8872318863868713
          ],
          [
           0.6906775236129761,
           0.793842077255249,
           0.7865450382232666,
           0.7530190944671631,
           0.9319323301315308,
           0.8888250589370728,
           0.7182418704032898,
           0.8095130920410156,
           0.8760684728622437,
           0.8220022320747375,
           1.0000004768371582,
           0.8144004344940186,
           0.8874064087867737,
           0.8778590559959412,
           0.7465605735778809,
           0.7576174139976501,
           0.8517452478408813,
           0.906385064125061,
           0.7536863684654236,
           0.8687730431556702,
           0.8796126246452332,
           0.778677225112915,
           0.6473243832588196,
           0.8632194995880127,
           0.8623666167259216,
           0.8291082382202148
          ],
          [
           0.7561915516853333,
           0.8343698978424072,
           0.787112832069397,
           0.7571985721588135,
           0.8505638241767883,
           0.8115483522415161,
           0.7375844120979309,
           0.8078612685203552,
           0.8084151148796082,
           0.8012115359306335,
           0.8144004344940186,
           1,
           0.8178471326828003,
           0.7786202430725098,
           0.7608997821807861,
           0.7498672008514404,
           0.8165334463119507,
           0.8023900985717773,
           0.7673267126083374,
           0.8314354419708252,
           0.7703461647033691,
           0.7141239643096924,
           0.6658855676651001,
           0.8175404071807861,
           0.8556316494941711,
           0.7878763675689697
          ],
          [
           0.7629463076591492,
           0.8119715452194214,
           0.8827754259109497,
           0.8273023962974548,
           0.8619117736816406,
           0.8657228350639343,
           0.7518561482429504,
           0.8094903826713562,
           0.8310971260070801,
           0.8634542226791382,
           0.8874064087867737,
           0.8178471326828003,
           0.9999997615814209,
           0.8712823390960693,
           0.7676379680633545,
           0.8225427269935608,
           0.8991109132766724,
           0.8101829290390015,
           0.8407678604125977,
           0.8280081748962402,
           0.877356767654419,
           0.7862895131111145,
           0.7336894273757935,
           0.8938055634498596,
           0.8755197525024414,
           0.8754037022590637
          ],
          [
           0.741084098815918,
           0.7701630592346191,
           0.8337440490722656,
           0.7953389883041382,
           0.8253520131111145,
           0.9120290279388428,
           0.7544327974319458,
           0.8527756929397583,
           0.867020845413208,
           0.8241028785705566,
           0.8778590559959412,
           0.7786202430725098,
           0.8712823390960693,
           1.000000238418579,
           0.7927541136741638,
           0.7807916402816772,
           0.8104738593101501,
           0.8673856258392334,
           0.7594559788703918,
           0.8058006167411804,
           0.8368515372276306,
           0.8036050796508789,
           0.6685988903045654,
           0.8246331214904785,
           0.8057667016983032,
           0.7938104271888733
          ],
          [
           0.9457406997680664,
           0.8502916097640991,
           0.883899450302124,
           0.8507890701293945,
           0.7368539571762085,
           0.852491021156311,
           0.8658231496810913,
           0.806393563747406,
           0.9068300724029541,
           0.9351166486740112,
           0.7465605735778809,
           0.7608997821807861,
           0.7676379680633545,
           0.7927541136741638,
           1.000000238418579,
           0.7997338175773621,
           0.7850304841995239,
           0.8003702163696289,
           0.8002070188522339,
           0.7427908182144165,
           0.7905012965202332,
           0.7652318477630615,
           0.7047974467277527,
           0.8502159118652344,
           0.7311977744102478,
           0.8552374839782715
          ],
          [
           0.7842990756034851,
           0.7993133068084717,
           0.8650188446044922,
           0.8047424554824829,
           0.7531465291976929,
           0.8360269069671631,
           0.7441129684448242,
           0.7578731775283813,
           0.8165177702903748,
           0.8229078650474548,
           0.7576174139976501,
           0.7498672008514404,
           0.8225427269935608,
           0.7807916402816772,
           0.7997338175773621,
           1.000000238418579,
           0.810386061668396,
           0.7673914432525635,
           0.7828531265258789,
           0.7482461333274841,
           0.7895469665527344,
           0.7110406160354614,
           0.7651441097259521,
           0.814546525478363,
           0.749687671661377,
           0.8072488903999329
          ],
          [
           0.766517162322998,
           0.8183270692825317,
           0.8319302797317505,
           0.8208631277084351,
           0.820655345916748,
           0.8399635553359985,
           0.7648354768753052,
           0.8141276836395264,
           0.8480272889137268,
           0.8588294982910156,
           0.8517452478408813,
           0.8165334463119507,
           0.8991109132766724,
           0.8104738593101501,
           0.7850304841995239,
           0.810386061668396,
           1,
           0.8231756091117859,
           0.8444386124610901,
           0.8234525918960571,
           0.8972436189651489,
           0.7985496520996094,
           0.7751591205596924,
           0.8952887058258057,
           0.8800860643386841,
           0.8756387829780579
          ],
          [
           0.705014169216156,
           0.779131293296814,
           0.7753515839576721,
           0.7657209038734436,
           0.8480095863342285,
           0.9106515645980835,
           0.7332496643066406,
           0.8130314350128174,
           0.929452121257782,
           0.8125778436660767,
           0.906385064125061,
           0.8023900985717773,
           0.8101829290390015,
           0.8673856258392334,
           0.8003702163696289,
           0.7673914432525635,
           0.8231756091117859,
           0.9999999403953552,
           0.7524763345718384,
           0.8040022253990173,
           0.8981506824493408,
           0.7801532745361328,
           0.6488228440284729,
           0.8422027230262756,
           0.8218951225280762,
           0.8019573092460632
          ],
          [
           0.8137206435203552,
           0.8330287337303162,
           0.8413030505180359,
           0.8137458562850952,
           0.7634373903274536,
           0.8200046420097351,
           0.7985565662384033,
           0.7967973351478577,
           0.8033795356750488,
           0.8467854261398315,
           0.7536863684654236,
           0.7673267126083374,
           0.8407678604125977,
           0.7594559788703918,
           0.8002070188522339,
           0.7828531265258789,
           0.8444386124610901,
           0.7524763345718384,
           1,
           0.7370932102203369,
           0.7946940660476685,
           0.7640239000320435,
           0.7746981382369995,
           0.8622422218322754,
           0.7987246513366699,
           0.8424791693687439
          ],
          [
           0.7045444250106812,
           0.8578472137451172,
           0.7761485576629639,
           0.7276779413223267,
           0.8977648019790649,
           0.83347088098526,
           0.7174610495567322,
           0.7970007658004761,
           0.8027170300483704,
           0.7903257012367249,
           0.8687730431556702,
           0.8314354419708252,
           0.8280081748962402,
           0.8058006167411804,
           0.7427908182144165,
           0.7482461333274841,
           0.8234525918960571,
           0.8040022253990173,
           0.7370932102203369,
           0.9999999403953552,
           0.7978124618530273,
           0.740115225315094,
           0.6603621244430542,
           0.8033846020698547,
           0.8520116209983826,
           0.7867594957351685
          ],
          [
           0.7334651947021484,
           0.7907490730285645,
           0.8072593212127686,
           0.796417772769928,
           0.8305466771125793,
           0.8533480167388916,
           0.7434141039848328,
           0.8009603023529053,
           0.9076002836227417,
           0.8437256813049316,
           0.8796126246452332,
           0.7703461647033691,
           0.877356767654419,
           0.8368515372276306,
           0.7905012965202332,
           0.7895469665527344,
           0.8972436189651489,
           0.8981506824493408,
           0.7946940660476685,
           0.7978124618530273,
           0.9999995231628418,
           0.8170366287231445,
           0.7185513973236084,
           0.8738782405853271,
           0.8322762846946716,
           0.8404902219772339
          ],
          [
           0.7358505129814148,
           0.7637844681739807,
           0.7486202716827393,
           0.7491437792778015,
           0.7554063200950623,
           0.8326042890548706,
           0.7096163630485535,
           0.781676173210144,
           0.8098030090332031,
           0.7930333614349365,
           0.778677225112915,
           0.7141239643096924,
           0.7862895131111145,
           0.8036050796508789,
           0.7652318477630615,
           0.7110406160354614,
           0.7985496520996094,
           0.7801532745361328,
           0.7640239000320435,
           0.740115225315094,
           0.8170366287231445,
           0.9999998807907104,
           0.7267732620239258,
           0.7793862819671631,
           0.7662926912307739,
           0.7760672569274902
          ],
          [
           0.6969236135482788,
           0.7450367212295532,
           0.7520676851272583,
           0.6999335289001465,
           0.671457827091217,
           0.7029650807380676,
           0.6750739812850952,
           0.6802995800971985,
           0.6958932876586914,
           0.7299738526344299,
           0.6473243832588196,
           0.6658855676651001,
           0.7336894273757935,
           0.6685988903045654,
           0.7047974467277527,
           0.7651441097259521,
           0.7751591205596924,
           0.6488228440284729,
           0.7746981382369995,
           0.6603621244430542,
           0.7185513973236084,
           0.7267732620239258,
           0.9999997615814209,
           0.7411342859268188,
           0.6818834543228149,
           0.7412850856781006
          ],
          [
           0.8256515860557556,
           0.8380528688430786,
           0.8567904233932495,
           0.8516100645065308,
           0.8305749893188477,
           0.8648982048034668,
           0.8051879405975342,
           0.8332551717758179,
           0.8909052014350891,
           0.9088552594184875,
           0.8632194995880127,
           0.8175404071807861,
           0.8938055634498596,
           0.8246331214904785,
           0.8502159118652344,
           0.814546525478363,
           0.8952887058258057,
           0.8422027230262756,
           0.8622422218322754,
           0.8033846020698547,
           0.8738782405853271,
           0.7793862819671631,
           0.7411342859268188,
           1.0000003576278687,
           0.8658640384674072,
           0.8985987901687622
          ],
          [
           0.7319280505180359,
           0.8436257243156433,
           0.770038902759552,
           0.7780280113220215,
           0.8689048290252686,
           0.8210288286209106,
           0.7295469045639038,
           0.825770378112793,
           0.8115947246551514,
           0.8218327760696411,
           0.8623666167259216,
           0.8556316494941711,
           0.8755197525024414,
           0.8057667016983032,
           0.7311977744102478,
           0.749687671661377,
           0.8800860643386841,
           0.8218951225280762,
           0.7987246513366699,
           0.8520116209983826,
           0.8322762846946716,
           0.7662926912307739,
           0.6818834543228149,
           0.8658640384674072,
           1.000000238418579,
           0.8183419704437256
          ],
          [
           0.8139252662658691,
           0.8526741862297058,
           0.8928518295288086,
           0.8379718065261841,
           0.8000727295875549,
           0.8492172360420227,
           0.8183201551437378,
           0.7743313312530518,
           0.872404158115387,
           0.8872318863868713,
           0.8291082382202148,
           0.7878763675689697,
           0.8754037022590637,
           0.7938104271888733,
           0.8552374839782715,
           0.8072488903999329,
           0.8756387829780579,
           0.8019573092460632,
           0.8424791693687439,
           0.7867594957351685,
           0.8404902219772339,
           0.7760672569274902,
           0.7412850856781006,
           0.8985987901687622,
           0.8183419704437256,
           1
          ]
         ]
        }
       ],
       "layout": {
        "coloraxis": {
         "colorbar": {
          "title": {
           "text": "Similarity Score"
          }
         },
         "colorscale": [
          [
           0,
           "rgb(247,252,240)"
          ],
          [
           0.125,
           "rgb(224,243,219)"
          ],
          [
           0.25,
           "rgb(204,235,197)"
          ],
          [
           0.375,
           "rgb(168,221,181)"
          ],
          [
           0.5,
           "rgb(123,204,196)"
          ],
          [
           0.625,
           "rgb(78,179,211)"
          ],
          [
           0.75,
           "rgb(43,140,190)"
          ],
          [
           0.875,
           "rgb(8,104,172)"
          ],
          [
           1,
           "rgb(8,64,129)"
          ]
         ]
        },
        "height": 800,
        "hoverlabel": {
         "bgcolor": "white",
         "font": {
          "family": "Rockwell",
          "size": 16
         }
        },
        "legend": {
         "title": {
          "text": "Trend"
         }
        },
        "margin": {
         "t": 60
        },
        "showlegend": true,
        "template": {
         "data": {
          "bar": [
           {
            "error_x": {
             "color": "#2a3f5f"
            },
            "error_y": {
             "color": "#2a3f5f"
            },
            "marker": {
             "line": {
              "color": "#E5ECF6",
              "width": 0.5
             },
             "pattern": {
              "fillmode": "overlay",
              "size": 10,
              "solidity": 0.2
             }
            },
            "type": "bar"
           }
          ],
          "barpolar": [
           {
            "marker": {
             "line": {
              "color": "#E5ECF6",
              "width": 0.5
             },
             "pattern": {
              "fillmode": "overlay",
              "size": 10,
              "solidity": 0.2
             }
            },
            "type": "barpolar"
           }
          ],
          "carpet": [
           {
            "aaxis": {
             "endlinecolor": "#2a3f5f",
             "gridcolor": "white",
             "linecolor": "white",
             "minorgridcolor": "white",
             "startlinecolor": "#2a3f5f"
            },
            "baxis": {
             "endlinecolor": "#2a3f5f",
             "gridcolor": "white",
             "linecolor": "white",
             "minorgridcolor": "white",
             "startlinecolor": "#2a3f5f"
            },
            "type": "carpet"
           }
          ],
          "choropleth": [
           {
            "colorbar": {
             "outlinewidth": 0,
             "ticks": ""
            },
            "type": "choropleth"
           }
          ],
          "contour": [
           {
            "colorbar": {
             "outlinewidth": 0,
             "ticks": ""
            },
            "colorscale": [
             [
              0,
              "#0d0887"
             ],
             [
              0.1111111111111111,
              "#46039f"
             ],
             [
              0.2222222222222222,
              "#7201a8"
             ],
             [
              0.3333333333333333,
              "#9c179e"
             ],
             [
              0.4444444444444444,
              "#bd3786"
             ],
             [
              0.5555555555555556,
              "#d8576b"
             ],
             [
              0.6666666666666666,
              "#ed7953"
             ],
             [
              0.7777777777777778,
              "#fb9f3a"
             ],
             [
              0.8888888888888888,
              "#fdca26"
             ],
             [
              1,
              "#f0f921"
             ]
            ],
            "type": "contour"
           }
          ],
          "contourcarpet": [
           {
            "colorbar": {
             "outlinewidth": 0,
             "ticks": ""
            },
            "type": "contourcarpet"
           }
          ],
          "heatmap": [
           {
            "colorbar": {
             "outlinewidth": 0,
             "ticks": ""
            },
            "colorscale": [
             [
              0,
              "#0d0887"
             ],
             [
              0.1111111111111111,
              "#46039f"
             ],
             [
              0.2222222222222222,
              "#7201a8"
             ],
             [
              0.3333333333333333,
              "#9c179e"
             ],
             [
              0.4444444444444444,
              "#bd3786"
             ],
             [
              0.5555555555555556,
              "#d8576b"
             ],
             [
              0.6666666666666666,
              "#ed7953"
             ],
             [
              0.7777777777777778,
              "#fb9f3a"
             ],
             [
              0.8888888888888888,
              "#fdca26"
             ],
             [
              1,
              "#f0f921"
             ]
            ],
            "type": "heatmap"
           }
          ],
          "heatmapgl": [
           {
            "colorbar": {
             "outlinewidth": 0,
             "ticks": ""
            },
            "colorscale": [
             [
              0,
              "#0d0887"
             ],
             [
              0.1111111111111111,
              "#46039f"
             ],
             [
              0.2222222222222222,
              "#7201a8"
             ],
             [
              0.3333333333333333,
              "#9c179e"
             ],
             [
              0.4444444444444444,
              "#bd3786"
             ],
             [
              0.5555555555555556,
              "#d8576b"
             ],
             [
              0.6666666666666666,
              "#ed7953"
             ],
             [
              0.7777777777777778,
              "#fb9f3a"
             ],
             [
              0.8888888888888888,
              "#fdca26"
             ],
             [
              1,
              "#f0f921"
             ]
            ],
            "type": "heatmapgl"
           }
          ],
          "histogram": [
           {
            "marker": {
             "pattern": {
              "fillmode": "overlay",
              "size": 10,
              "solidity": 0.2
             }
            },
            "type": "histogram"
           }
          ],
          "histogram2d": [
           {
            "colorbar": {
             "outlinewidth": 0,
             "ticks": ""
            },
            "colorscale": [
             [
              0,
              "#0d0887"
             ],
             [
              0.1111111111111111,
              "#46039f"
             ],
             [
              0.2222222222222222,
              "#7201a8"
             ],
             [
              0.3333333333333333,
              "#9c179e"
             ],
             [
              0.4444444444444444,
              "#bd3786"
             ],
             [
              0.5555555555555556,
              "#d8576b"
             ],
             [
              0.6666666666666666,
              "#ed7953"
             ],
             [
              0.7777777777777778,
              "#fb9f3a"
             ],
             [
              0.8888888888888888,
              "#fdca26"
             ],
             [
              1,
              "#f0f921"
             ]
            ],
            "type": "histogram2d"
           }
          ],
          "histogram2dcontour": [
           {
            "colorbar": {
             "outlinewidth": 0,
             "ticks": ""
            },
            "colorscale": [
             [
              0,
              "#0d0887"
             ],
             [
              0.1111111111111111,
              "#46039f"
             ],
             [
              0.2222222222222222,
              "#7201a8"
             ],
             [
              0.3333333333333333,
              "#9c179e"
             ],
             [
              0.4444444444444444,
              "#bd3786"
             ],
             [
              0.5555555555555556,
              "#d8576b"
             ],
             [
              0.6666666666666666,
              "#ed7953"
             ],
             [
              0.7777777777777778,
              "#fb9f3a"
             ],
             [
              0.8888888888888888,
              "#fdca26"
             ],
             [
              1,
              "#f0f921"
             ]
            ],
            "type": "histogram2dcontour"
           }
          ],
          "mesh3d": [
           {
            "colorbar": {
             "outlinewidth": 0,
             "ticks": ""
            },
            "type": "mesh3d"
           }
          ],
          "parcoords": [
           {
            "line": {
             "colorbar": {
              "outlinewidth": 0,
              "ticks": ""
             }
            },
            "type": "parcoords"
           }
          ],
          "pie": [
           {
            "automargin": true,
            "type": "pie"
           }
          ],
          "scatter": [
           {
            "fillpattern": {
             "fillmode": "overlay",
             "size": 10,
             "solidity": 0.2
            },
            "type": "scatter"
           }
          ],
          "scatter3d": [
           {
            "line": {
             "colorbar": {
              "outlinewidth": 0,
              "ticks": ""
             }
            },
            "marker": {
             "colorbar": {
              "outlinewidth": 0,
              "ticks": ""
             }
            },
            "type": "scatter3d"
           }
          ],
          "scattercarpet": [
           {
            "marker": {
             "colorbar": {
              "outlinewidth": 0,
              "ticks": ""
             }
            },
            "type": "scattercarpet"
           }
          ],
          "scattergeo": [
           {
            "marker": {
             "colorbar": {
              "outlinewidth": 0,
              "ticks": ""
             }
            },
            "type": "scattergeo"
           }
          ],
          "scattergl": [
           {
            "marker": {
             "colorbar": {
              "outlinewidth": 0,
              "ticks": ""
             }
            },
            "type": "scattergl"
           }
          ],
          "scattermapbox": [
           {
            "marker": {
             "colorbar": {
              "outlinewidth": 0,
              "ticks": ""
             }
            },
            "type": "scattermapbox"
           }
          ],
          "scatterpolar": [
           {
            "marker": {
             "colorbar": {
              "outlinewidth": 0,
              "ticks": ""
             }
            },
            "type": "scatterpolar"
           }
          ],
          "scatterpolargl": [
           {
            "marker": {
             "colorbar": {
              "outlinewidth": 0,
              "ticks": ""
             }
            },
            "type": "scatterpolargl"
           }
          ],
          "scatterternary": [
           {
            "marker": {
             "colorbar": {
              "outlinewidth": 0,
              "ticks": ""
             }
            },
            "type": "scatterternary"
           }
          ],
          "surface": [
           {
            "colorbar": {
             "outlinewidth": 0,
             "ticks": ""
            },
            "colorscale": [
             [
              0,
              "#0d0887"
             ],
             [
              0.1111111111111111,
              "#46039f"
             ],
             [
              0.2222222222222222,
              "#7201a8"
             ],
             [
              0.3333333333333333,
              "#9c179e"
             ],
             [
              0.4444444444444444,
              "#bd3786"
             ],
             [
              0.5555555555555556,
              "#d8576b"
             ],
             [
              0.6666666666666666,
              "#ed7953"
             ],
             [
              0.7777777777777778,
              "#fb9f3a"
             ],
             [
              0.8888888888888888,
              "#fdca26"
             ],
             [
              1,
              "#f0f921"
             ]
            ],
            "type": "surface"
           }
          ],
          "table": [
           {
            "cells": {
             "fill": {
              "color": "#EBF0F8"
             },
             "line": {
              "color": "white"
             }
            },
            "header": {
             "fill": {
              "color": "#C8D4E3"
             },
             "line": {
              "color": "white"
             }
            },
            "type": "table"
           }
          ]
         },
         "layout": {
          "annotationdefaults": {
           "arrowcolor": "#2a3f5f",
           "arrowhead": 0,
           "arrowwidth": 1
          },
          "autotypenumbers": "strict",
          "coloraxis": {
           "colorbar": {
            "outlinewidth": 0,
            "ticks": ""
           }
          },
          "colorscale": {
           "diverging": [
            [
             0,
             "#8e0152"
            ],
            [
             0.1,
             "#c51b7d"
            ],
            [
             0.2,
             "#de77ae"
            ],
            [
             0.3,
             "#f1b6da"
            ],
            [
             0.4,
             "#fde0ef"
            ],
            [
             0.5,
             "#f7f7f7"
            ],
            [
             0.6,
             "#e6f5d0"
            ],
            [
             0.7,
             "#b8e186"
            ],
            [
             0.8,
             "#7fbc41"
            ],
            [
             0.9,
             "#4d9221"
            ],
            [
             1,
             "#276419"
            ]
           ],
           "sequential": [
            [
             0,
             "#0d0887"
            ],
            [
             0.1111111111111111,
             "#46039f"
            ],
            [
             0.2222222222222222,
             "#7201a8"
            ],
            [
             0.3333333333333333,
             "#9c179e"
            ],
            [
             0.4444444444444444,
             "#bd3786"
            ],
            [
             0.5555555555555556,
             "#d8576b"
            ],
            [
             0.6666666666666666,
             "#ed7953"
            ],
            [
             0.7777777777777778,
             "#fb9f3a"
            ],
            [
             0.8888888888888888,
             "#fdca26"
            ],
            [
             1,
             "#f0f921"
            ]
           ],
           "sequentialminus": [
            [
             0,
             "#0d0887"
            ],
            [
             0.1111111111111111,
             "#46039f"
            ],
            [
             0.2222222222222222,
             "#7201a8"
            ],
            [
             0.3333333333333333,
             "#9c179e"
            ],
            [
             0.4444444444444444,
             "#bd3786"
            ],
            [
             0.5555555555555556,
             "#d8576b"
            ],
            [
             0.6666666666666666,
             "#ed7953"
            ],
            [
             0.7777777777777778,
             "#fb9f3a"
            ],
            [
             0.8888888888888888,
             "#fdca26"
            ],
            [
             1,
             "#f0f921"
            ]
           ]
          },
          "colorway": [
           "#636efa",
           "#EF553B",
           "#00cc96",
           "#ab63fa",
           "#FFA15A",
           "#19d3f3",
           "#FF6692",
           "#B6E880",
           "#FF97FF",
           "#FECB52"
          ],
          "font": {
           "color": "#2a3f5f"
          },
          "geo": {
           "bgcolor": "white",
           "lakecolor": "white",
           "landcolor": "#E5ECF6",
           "showlakes": true,
           "showland": true,
           "subunitcolor": "white"
          },
          "hoverlabel": {
           "align": "left"
          },
          "hovermode": "closest",
          "mapbox": {
           "style": "light"
          },
          "paper_bgcolor": "white",
          "plot_bgcolor": "#E5ECF6",
          "polar": {
           "angularaxis": {
            "gridcolor": "white",
            "linecolor": "white",
            "ticks": ""
           },
           "bgcolor": "#E5ECF6",
           "radialaxis": {
            "gridcolor": "white",
            "linecolor": "white",
            "ticks": ""
           }
          },
          "scene": {
           "xaxis": {
            "backgroundcolor": "#E5ECF6",
            "gridcolor": "white",
            "gridwidth": 2,
            "linecolor": "white",
            "showbackground": true,
            "ticks": "",
            "zerolinecolor": "white"
           },
           "yaxis": {
            "backgroundcolor": "#E5ECF6",
            "gridcolor": "white",
            "gridwidth": 2,
            "linecolor": "white",
            "showbackground": true,
            "ticks": "",
            "zerolinecolor": "white"
           },
           "zaxis": {
            "backgroundcolor": "#E5ECF6",
            "gridcolor": "white",
            "gridwidth": 2,
            "linecolor": "white",
            "showbackground": true,
            "ticks": "",
            "zerolinecolor": "white"
           }
          },
          "shapedefaults": {
           "line": {
            "color": "#2a3f5f"
           }
          },
          "ternary": {
           "aaxis": {
            "gridcolor": "white",
            "linecolor": "white",
            "ticks": ""
           },
           "baxis": {
            "gridcolor": "white",
            "linecolor": "white",
            "ticks": ""
           },
           "bgcolor": "#E5ECF6",
           "caxis": {
            "gridcolor": "white",
            "linecolor": "white",
            "ticks": ""
           }
          },
          "title": {
           "x": 0.05
          },
          "xaxis": {
           "automargin": true,
           "gridcolor": "white",
           "linecolor": "white",
           "ticks": "",
           "title": {
            "standoff": 15
           },
           "zerolinecolor": "white",
           "zerolinewidth": 2
          },
          "yaxis": {
           "automargin": true,
           "gridcolor": "white",
           "linecolor": "white",
           "ticks": "",
           "title": {
            "standoff": 15
           },
           "zerolinecolor": "white",
           "zerolinewidth": 2
          }
         }
        },
        "title": {
         "font": {
          "color": "Black",
          "size": 22
         },
         "text": "<b>Similarity Matrix</b>",
         "x": 0.55,
         "xanchor": "center",
         "y": 0.95,
         "yanchor": "top"
        },
        "width": 800,
        "xaxis": {
         "anchor": "y",
         "constrain": "domain",
         "domain": [
          0,
          1
         ],
         "scaleanchor": "y"
        },
        "yaxis": {
         "anchor": "x",
         "autorange": "reversed",
         "constrain": "domain",
         "domain": [
          0,
          1
         ]
        }
       }
      }
     },
     "metadata": {},
     "output_type": "display_data"
    }
   ],
   "source": [
    "topic_model.visualize_heatmap()"
   ]
  },
  {
   "cell_type": "code",
   "execution_count": 75,
   "metadata": {},
   "outputs": [
    {
     "data": {
      "application/vnd.plotly.v1+json": {
       "config": {
        "plotlyServerURL": "https://plot.ly"
       },
       "data": [
        {
         "hovertext": "<b>Topic -1</b>:oberbürgermeisterin_spd_reker_gibt",
         "line": {
          "color": "black",
          "width": 1.5
         },
         "mode": "lines+lines",
         "name": "",
         "opacity": 0.1,
         "type": "scatter",
         "x": [
          1,
          2,
          3,
          4,
          5,
          6,
          7,
          8,
          9,
          10
         ],
         "y": [
          -1.8490861496352258,
          -1.9038776492739922,
          -1.9349333007841134,
          -1.9451861682022487,
          -1.9545786296353471,
          -1.9952583182612549,
          -2.003943766012635,
          -2.0060890267766975,
          -2.0155335623038906,
          -2.017854588704553
         ]
        },
        {
         "hovertext": "<b>Topic 0</b>:rat_oberbürgermeisterin_spd_90_heut",
         "line": {
          "color": "black",
          "width": 1.5
         },
         "mode": "lines+lines",
         "name": "",
         "opacity": 0.1,
         "type": "scatter",
         "x": [
          1,
          2,
          3,
          4,
          5,
          6,
          7,
          8,
          9,
          10
         ],
         "y": [
          -1.8286221582529845,
          -1.9573540620186567,
          -1.9601445195507217,
          -1.978374019426593,
          -1.9806766212719742,
          -1.9809885563844798,
          -1.9811834462898459,
          -1.9878940210419558,
          -2.0114701819699192,
          -2.021247902041708
         ]
        },
        {
         "hovertext": "<b>Topic 1</b>:enthaltungen_gegenstimmen_tagesordn",
         "line": {
          "color": "black",
          "width": 1.5
         },
         "mode": "lines+lines",
         "name": "",
         "opacity": 0.1,
         "type": "scatter",
         "x": [
          1,
          2,
          3,
          4,
          5,
          6,
          7,
          8,
          9,
          10
         ],
         "y": [
          -1.286369734095084,
          -1.2948960277510133,
          -1.334698984998552,
          -1.3516073919520692,
          -1.3575451282175737,
          -1.4184708310661582,
          -1.5014412491970053,
          -1.511727128768988,
          -1.5468424466255073,
          -1.5609493840520001
         ]
        },
        {
         "hovertext": "<b>Topic 2</b>:menschen_afd_oberbürgermeisterin_sp",
         "line": {
          "color": "black",
          "width": 1.5
         },
         "mode": "lines+lines",
         "name": "",
         "opacity": 0.1,
         "type": "scatter",
         "x": [
          1,
          2,
          3,
          4,
          5,
          6,
          7,
          8,
          9,
          10
         ],
         "y": [
          -1.779298834986366,
          -1.8570940699670146,
          -1.9346826557120032,
          -1.9830813440816477,
          -1.9874164136812447,
          -1.9890486014469375,
          -2.001593757388101,
          -2.0066724779007785,
          -2.013514455053663,
          -2.015952414145703
         ]
        },
        {
         "hovertext": "<b>Topic 3</b>:schulen_kinder_schule_eltern_gesamt",
         "line": {
          "color": "black",
          "width": 1.5
         },
         "mode": "lines+lines",
         "name": "",
         "opacity": 0.1,
         "type": "scatter",
         "x": [
          1,
          2,
          3,
          4,
          5,
          6,
          7,
          8,
          9,
          10
         ],
         "y": [
          -1.601498637306644,
          -1.6467142902722578,
          -1.6679649471736455,
          -1.7267455231317073,
          -1.7692634308049857,
          -1.799693822536967,
          -1.8308873543872772,
          -1.8551332453231588,
          -1.8727153129349938,
          -1.8891799825343225
         ]
        },
        {
         "hovertext": "<b>Topic 4</b>:fraktion_2021_enthaltungen_gibt_abs",
         "line": {
          "color": "black",
          "width": 1.5
         },
         "mode": "lines+lines",
         "name": "",
         "opacity": 0.1,
         "type": "scatter",
         "x": [
          1,
          2,
          3,
          4,
          5,
          6,
          7,
          8,
          9,
          10
         ],
         "y": [
          -1.3760648588225952,
          -1.515084617005943,
          -1.523726254611504,
          -1.6262313826751935,
          -1.6572016045934168,
          -1.6593884322685502,
          -1.6690241278161602,
          -1.6799371545672037,
          -1.6894735711247728,
          -1.7003665422581704
         ]
        },
        {
         "hovertext": "<b>Topic 5</b>:oberbürgermeisterin_liebe_henriette",
         "line": {
          "color": "black",
          "width": 1.5
         },
         "mode": "lines+lines",
         "name": "",
         "opacity": 0.1,
         "type": "scatter",
         "x": [
          1,
          2,
          3,
          4,
          5,
          6,
          7,
          8,
          9,
          10
         ],
         "y": [
          -1.7016530645555787,
          -1.7702313255991393,
          -1.8359900432348932,
          -1.839118736842126,
          -1.8443095518690122,
          -1.8445423239199352,
          -1.8604471914780418,
          -1.9004589186701237,
          -1.9385748351675467,
          -1.9397036638571117
         ]
        },
        {
         "hovertext": "<b>Topic 6</b>:Sport_________",
         "line": {
          "color": "black",
          "width": 1.5
         },
         "mode": "lines+lines",
         "name": "",
         "opacity": 0.1,
         "type": "scatter",
         "x": [
          1,
          2,
          3,
          4,
          5,
          6,
          7,
          8,
          9,
          10
         ],
         "y": [
          -0.024864573806139236,
          -2.0109929032008127,
          -2.0109929032008127,
          -2.0109929032008127,
          -2.0109929032008127,
          -2.0109929032008127,
          -2.0109929032008127,
          -2.0109929032008127,
          -2.0109929032008127,
          -2.0109929032008127
         ]
        },
        {
         "hovertext": "<b>Topic 7</b>:uhr_rates_damen_heute_herren_tageso",
         "line": {
          "color": "black",
          "width": 1.5
         },
         "mode": "lines+lines",
         "name": "",
         "opacity": 0.1,
         "type": "scatter",
         "x": [
          1,
          2,
          3,
          4,
          5,
          6,
          7,
          8,
          9,
          10
         ],
         "y": [
          -1.5818943035759299,
          -1.6090919816143678,
          -1.6412931720334736,
          -1.6623674410715155,
          -1.6654828818305953,
          -1.6708111977495446,
          -1.6849594748647079,
          -1.687721875935528,
          -1.7484076539431233,
          -1.7505583627944836
         ]
        },
        {
         "hovertext": "<b>Topic 8</b>:oberbürgermeisterin_dank_henriette_",
         "line": {
          "color": "black",
          "width": 1.5
         },
         "mode": "lines+lines",
         "name": "",
         "opacity": 0.1,
         "type": "scatter",
         "x": [
          1,
          2,
          3,
          4,
          5,
          6,
          7,
          8,
          9,
          10
         ],
         "y": [
          -1.803200426966961,
          -1.8891216754439095,
          -1.9092054549942425,
          -1.9113063044350902,
          -1.9236151590111643,
          -1.9256248608810411,
          -1.9484890078901766,
          -1.9527881132948477,
          -1.9587140440285842,
          -1.9724502186568553
         ]
        },
        {
         "hovertext": "<b>Topic 9</b>:spd_90_grünen_oberbürgermeisterin_r",
         "line": {
          "color": "black",
          "width": 1.5
         },
         "mode": "lines+lines",
         "name": "",
         "opacity": 0.1,
         "type": "scatter",
         "x": [
          1,
          2,
          3,
          4,
          5,
          6,
          7,
          8,
          9,
          10
         ],
         "y": [
          -1.8583974426728358,
          -1.8712339006431546,
          -1.8917096593432092,
          -1.896883873875992,
          -1.898025924394132,
          -1.924211090192769,
          -1.9357497081971125,
          -1.9519521400396438,
          -1.9582763934264846,
          -1.9638484489443147
         ]
        },
        {
         "hovertext": "<b>Topic 10</b>:oberbürgermeisterin_afd_henriette_",
         "line": {
          "color": "black",
          "width": 1.5
         },
         "mode": "lines+lines",
         "name": "",
         "opacity": 0.1,
         "type": "scatter",
         "x": [
          1,
          2,
          3,
          4,
          5,
          6,
          7,
          8,
          9,
          10
         ],
         "y": [
          -1.606004913809596,
          -1.651331235845911,
          -1.6634524432208706,
          -1.671871783548605,
          -1.7101859861751714,
          -1.7388519112717964,
          -1.7619359715220206,
          -1.799845322689072,
          -1.8274838589388702,
          -1.8862149614471349
         ]
        },
        {
         "hovertext": "<b>Topic 11</b>:Bildung_________",
         "line": {
          "color": "black",
          "width": 1.5
         },
         "mode": "lines+lines",
         "name": "",
         "opacity": 0.1,
         "type": "scatter",
         "x": [
          1,
          2,
          3,
          4,
          5,
          6,
          7,
          8,
          9,
          10
         ],
         "y": [
          -0.06519399873197179,
          -2.0109929032008127,
          -2.0109929032008127,
          -2.0109929032008127,
          -2.0109929032008127,
          -2.0109929032008127,
          -2.0109929032008127,
          -2.0109929032008127,
          -2.0109929032008127,
          -2.0109929032008127
         ]
        },
        {
         "hovertext": "<b>Topic 12</b>:linken_rheinenergie_oberbürgermeis",
         "line": {
          "color": "black",
          "width": 1.5
         },
         "mode": "lines+lines",
         "name": "",
         "opacity": 0.1,
         "type": "scatter",
         "x": [
          1,
          2,
          3,
          4,
          5,
          6,
          7,
          8,
          9,
          10
         ],
         "y": [
          -1.7535287567076276,
          -1.8393221093066736,
          -1.858224346222914,
          -1.8989060889634324,
          -1.9105453290409604,
          -1.929078517599251,
          -1.939346116316841,
          -1.9773809408680363,
          -1.9873952529561585,
          -1.9942308735611805
         ]
        },
        {
         "hovertext": "<b>Topic 13</b>:geehrte_damen_liebe_ukraine_fdp_ob",
         "line": {
          "color": "black",
          "width": 1.5
         },
         "mode": "lines+lines",
         "name": "",
         "opacity": 0.1,
         "type": "scatter",
         "x": [
          1,
          2,
          3,
          4,
          5,
          6,
          7,
          8,
          9,
          10
         ],
         "y": [
          -1.7030163550241202,
          -1.8522121663524227,
          -1.8765416159525905,
          -1.8931078495025364,
          -1.8935687305700424,
          -1.8973385157251295,
          -1.9206528654527277,
          -1.9406405051507296,
          -1.95900456173408,
          -1.9809316392134217
         ]
        },
        {
         "hovertext": "<b>Topic 14</b>:grünen_oberbürgermeisterin_gesagt_",
         "line": {
          "color": "black",
          "width": 1.5
         },
         "mode": "lines+lines",
         "name": "",
         "opacity": 0.1,
         "type": "scatter",
         "x": [
          1,
          2,
          3,
          4,
          5,
          6,
          7,
          8,
          9,
          10
         ],
         "y": [
          -1.8601381841829485,
          -1.861806148991371,
          -1.8629318333515408,
          -1.8645055282729004,
          -1.881429720100085,
          -1.8896364004447324,
          -1.897025558081919,
          -1.9149178331704713,
          -1.923122877768511,
          -1.9414809515266893
         ]
        },
        {
         "hovertext": "<b>Topic 15</b>:klimaschutz_2035_müssen_klima_klim",
         "line": {
          "color": "black",
          "width": 1.5
         },
         "mode": "lines+lines",
         "name": "",
         "opacity": 0.1,
         "type": "scatter",
         "x": [
          1,
          2,
          3,
          4,
          5,
          6,
          7,
          8,
          9,
          10
         ],
         "y": [
          -1.6612000751793847,
          -1.7466739024206548,
          -1.8026434023211353,
          -1.8371897738539322,
          -1.8565484997576875,
          -1.8899899296542773,
          -1.904440928679331,
          -1.914737051845862,
          -1.9529826343796148,
          -1.955483610734625
         ]
        },
        {
         "hovertext": "<b>Topic 16</b>:corona_verwaltung_gen_dank_vielen_",
         "line": {
          "color": "black",
          "width": 1.5
         },
         "mode": "lines+lines",
         "name": "",
         "opacity": 0.1,
         "type": "scatter",
         "x": [
          1,
          2,
          3,
          4,
          5,
          6,
          7,
          8,
          9,
          10
         ],
         "y": [
          -1.5832268681852961,
          -1.7618538696961303,
          -1.865645440868034,
          -1.8660727155715238,
          -1.9016939715007306,
          -1.9761906701653331,
          -1.9797489908273072,
          -1.9876186957419806,
          -2.002161036739395,
          -2.0109929032008127
         ]
        },
        {
         "hovertext": "<b>Topic 17</b>:oberbürgermeisterin_spd_fdp_reker_",
         "line": {
          "color": "black",
          "width": 1.5
         },
         "mode": "lines+lines",
         "name": "",
         "opacity": 0.1,
         "type": "scatter",
         "x": [
          1,
          2,
          3,
          4,
          5,
          6,
          7,
          8,
          9,
          10
         ],
         "y": [
          -1.8055717240523965,
          -1.810119925074442,
          -1.8383888145717686,
          -1.846253466792915,
          -1.8764258954287336,
          -1.8839521040570506,
          -1.898496294606231,
          -1.900508517465116,
          -1.9097836027368542,
          -1.9191161196063302
         ]
        },
        {
         "hovertext": "<b>Topic 18</b>:euro_millionen_haushalt_zahlen_202",
         "line": {
          "color": "black",
          "width": 1.5
         },
         "mode": "lines+lines",
         "name": "",
         "opacity": 0.1,
         "type": "scatter",
         "x": [
          1,
          2,
          3,
          4,
          5,
          6,
          7,
          8,
          9,
          10
         ],
         "y": [
          -1.3385807575286741,
          -1.5113767853402964,
          -1.5832602583404571,
          -1.848167293280074,
          -1.8552690493286739,
          -1.8645517855935274,
          -1.8686948981378797,
          -1.8974755117018733,
          -1.9036684308984726,
          -1.9267655054974835
         ]
        },
        {
         "hovertext": "<b>Topic 19</b>:tagesordnung_gibt_oberbürgermeiste",
         "line": {
          "color": "black",
          "width": 1.5
         },
         "mode": "lines+lines",
         "name": "",
         "opacity": 0.1,
         "type": "scatter",
         "x": [
          1,
          2,
          3,
          4,
          5,
          6,
          7,
          8,
          9,
          10
         ],
         "y": [
          -1.224358762796334,
          -1.4837277801101298,
          -1.6394988909763086,
          -1.649004535196782,
          -1.6643599704080245,
          -1.6936066081734953,
          -1.6988901062965651,
          -1.7219169969319505,
          -1.7325587807961487,
          -1.7333145565213142
         ]
        },
        {
         "hovertext": "<b>Topic 20</b>:haus_müssen_sagen_spd_be_chen_lieb",
         "line": {
          "color": "black",
          "width": 1.5
         },
         "mode": "lines+lines",
         "name": "",
         "opacity": 0.1,
         "type": "scatter",
         "x": [
          1,
          2,
          3,
          4,
          5,
          6,
          7,
          8,
          9,
          10
         ],
         "y": [
          -1.9163989167494775,
          -1.9194199234768978,
          -1.9272458668556818,
          -1.9347465311465426,
          -1.9403544417361602,
          -1.962358447606653,
          -1.9736253616470978,
          -1.9761408676238525,
          -1.9911522537416473,
          -1.9951719001597732
         ]
        },
        {
         "hovertext": "<b>Topic 21</b>:gastronomie_gastronomen_außengastr",
         "line": {
          "color": "black",
          "width": 1.5
         },
         "mode": "lines+lines",
         "name": "",
         "opacity": 0.1,
         "type": "scatter",
         "x": [
          1,
          2,
          3,
          4,
          5,
          6,
          7,
          8,
          9,
          10
         ],
         "y": [
          -1.3937551346003911,
          -1.566865953019057,
          -1.6912180505740142,
          -1.7175234120849563,
          -1.7394576692231576,
          -1.7590308407323214,
          -1.8281598995242954,
          -1.8822106446877063,
          -1.8895092136869558,
          -1.9044819636550687
         ]
        },
        {
         "hovertext": "<b>Topic 22</b>:pv_klimaschutz_klima_energie_ausba",
         "line": {
          "color": "black",
          "width": 1.5
         },
         "mode": "lines+lines",
         "name": "",
         "opacity": 0.1,
         "type": "scatter",
         "x": [
          1,
          2,
          3,
          4,
          5,
          6,
          7,
          8,
          9,
          10
         ],
         "y": [
          -1.621449096511632,
          -1.7916204791014008,
          -1.8178478574426162,
          -1.8472337421418714,
          -1.8568147062861737,
          -1.861237578380052,
          -1.8699957253947566,
          -1.8779746833765594,
          -1.9198271644669227,
          -1.937535696415765
         ]
        },
        {
         "hovertext": "<b>Topic 23</b>:verfahren_weisenstein_linken_linke",
         "line": {
          "color": "black",
          "width": 1.5
         },
         "mode": "lines+lines",
         "name": "",
         "opacity": 0.1,
         "type": "scatter",
         "x": [
          1,
          2,
          3,
          4,
          5,
          6,
          7,
          8,
          9,
          10
         ],
         "y": [
          -1.7559771252205856,
          -1.8085367415386215,
          -1.8160857310081122,
          -1.8493993801947206,
          -1.8534127550260528,
          -1.8656132937722694,
          -1.8915510951674857,
          -1.9084952278829934,
          -1.9098341402823549,
          -1.9143586319931876
         ]
        },
        {
         "hovertext": "<b>Topic 24</b>:fraktionen_2020_stimmen_mitglieder",
         "line": {
          "color": "black",
          "width": 1.5
         },
         "mode": "lines+lines",
         "name": "",
         "opacity": 0.1,
         "type": "scatter",
         "x": [
          1,
          2,
          3,
          4,
          5,
          6,
          7,
          8,
          9,
          10
         ],
         "y": [
          -1.6590075159821684,
          -1.664525696726581,
          -1.7395696966325886,
          -1.7406901899645788,
          -1.7436270587988296,
          -1.8080806708721042,
          -1.8200498601461355,
          -1.8234538554956945,
          -1.8379874571423986,
          -1.8431821386523977
         ]
        },
        {
         "hovertext": "<b>Topic 25</b>:ganz_müll_menschen_90_vielen_bündn",
         "line": {
          "color": "black",
          "width": 1.5
         },
         "mode": "lines+lines",
         "name": "",
         "opacity": 0.1,
         "type": "scatter",
         "x": [
          1,
          2,
          3,
          4,
          5,
          6,
          7,
          8,
          9,
          10
         ],
         "y": [
          -1.7865397105850052,
          -1.8281709100436665,
          -1.8347686006056176,
          -1.835020161794168,
          -1.8355063790150212,
          -1.843835819150024,
          -1.8555086733955644,
          -1.8783342414463082,
          -1.8789770163437456,
          -1.890669106295335
         ]
        }
       ],
       "layout": {
        "height": 500,
        "hoverlabel": {
         "bgcolor": "white",
         "font": {
          "family": "Rockwell",
          "size": 16
         }
        },
        "showlegend": false,
        "template": {
         "data": {
          "bar": [
           {
            "error_x": {
             "color": "#2a3f5f"
            },
            "error_y": {
             "color": "#2a3f5f"
            },
            "marker": {
             "line": {
              "color": "white",
              "width": 0.5
             },
             "pattern": {
              "fillmode": "overlay",
              "size": 10,
              "solidity": 0.2
             }
            },
            "type": "bar"
           }
          ],
          "barpolar": [
           {
            "marker": {
             "line": {
              "color": "white",
              "width": 0.5
             },
             "pattern": {
              "fillmode": "overlay",
              "size": 10,
              "solidity": 0.2
             }
            },
            "type": "barpolar"
           }
          ],
          "carpet": [
           {
            "aaxis": {
             "endlinecolor": "#2a3f5f",
             "gridcolor": "#C8D4E3",
             "linecolor": "#C8D4E3",
             "minorgridcolor": "#C8D4E3",
             "startlinecolor": "#2a3f5f"
            },
            "baxis": {
             "endlinecolor": "#2a3f5f",
             "gridcolor": "#C8D4E3",
             "linecolor": "#C8D4E3",
             "minorgridcolor": "#C8D4E3",
             "startlinecolor": "#2a3f5f"
            },
            "type": "carpet"
           }
          ],
          "choropleth": [
           {
            "colorbar": {
             "outlinewidth": 0,
             "ticks": ""
            },
            "type": "choropleth"
           }
          ],
          "contour": [
           {
            "colorbar": {
             "outlinewidth": 0,
             "ticks": ""
            },
            "colorscale": [
             [
              0,
              "#0d0887"
             ],
             [
              0.1111111111111111,
              "#46039f"
             ],
             [
              0.2222222222222222,
              "#7201a8"
             ],
             [
              0.3333333333333333,
              "#9c179e"
             ],
             [
              0.4444444444444444,
              "#bd3786"
             ],
             [
              0.5555555555555556,
              "#d8576b"
             ],
             [
              0.6666666666666666,
              "#ed7953"
             ],
             [
              0.7777777777777778,
              "#fb9f3a"
             ],
             [
              0.8888888888888888,
              "#fdca26"
             ],
             [
              1,
              "#f0f921"
             ]
            ],
            "type": "contour"
           }
          ],
          "contourcarpet": [
           {
            "colorbar": {
             "outlinewidth": 0,
             "ticks": ""
            },
            "type": "contourcarpet"
           }
          ],
          "heatmap": [
           {
            "colorbar": {
             "outlinewidth": 0,
             "ticks": ""
            },
            "colorscale": [
             [
              0,
              "#0d0887"
             ],
             [
              0.1111111111111111,
              "#46039f"
             ],
             [
              0.2222222222222222,
              "#7201a8"
             ],
             [
              0.3333333333333333,
              "#9c179e"
             ],
             [
              0.4444444444444444,
              "#bd3786"
             ],
             [
              0.5555555555555556,
              "#d8576b"
             ],
             [
              0.6666666666666666,
              "#ed7953"
             ],
             [
              0.7777777777777778,
              "#fb9f3a"
             ],
             [
              0.8888888888888888,
              "#fdca26"
             ],
             [
              1,
              "#f0f921"
             ]
            ],
            "type": "heatmap"
           }
          ],
          "heatmapgl": [
           {
            "colorbar": {
             "outlinewidth": 0,
             "ticks": ""
            },
            "colorscale": [
             [
              0,
              "#0d0887"
             ],
             [
              0.1111111111111111,
              "#46039f"
             ],
             [
              0.2222222222222222,
              "#7201a8"
             ],
             [
              0.3333333333333333,
              "#9c179e"
             ],
             [
              0.4444444444444444,
              "#bd3786"
             ],
             [
              0.5555555555555556,
              "#d8576b"
             ],
             [
              0.6666666666666666,
              "#ed7953"
             ],
             [
              0.7777777777777778,
              "#fb9f3a"
             ],
             [
              0.8888888888888888,
              "#fdca26"
             ],
             [
              1,
              "#f0f921"
             ]
            ],
            "type": "heatmapgl"
           }
          ],
          "histogram": [
           {
            "marker": {
             "pattern": {
              "fillmode": "overlay",
              "size": 10,
              "solidity": 0.2
             }
            },
            "type": "histogram"
           }
          ],
          "histogram2d": [
           {
            "colorbar": {
             "outlinewidth": 0,
             "ticks": ""
            },
            "colorscale": [
             [
              0,
              "#0d0887"
             ],
             [
              0.1111111111111111,
              "#46039f"
             ],
             [
              0.2222222222222222,
              "#7201a8"
             ],
             [
              0.3333333333333333,
              "#9c179e"
             ],
             [
              0.4444444444444444,
              "#bd3786"
             ],
             [
              0.5555555555555556,
              "#d8576b"
             ],
             [
              0.6666666666666666,
              "#ed7953"
             ],
             [
              0.7777777777777778,
              "#fb9f3a"
             ],
             [
              0.8888888888888888,
              "#fdca26"
             ],
             [
              1,
              "#f0f921"
             ]
            ],
            "type": "histogram2d"
           }
          ],
          "histogram2dcontour": [
           {
            "colorbar": {
             "outlinewidth": 0,
             "ticks": ""
            },
            "colorscale": [
             [
              0,
              "#0d0887"
             ],
             [
              0.1111111111111111,
              "#46039f"
             ],
             [
              0.2222222222222222,
              "#7201a8"
             ],
             [
              0.3333333333333333,
              "#9c179e"
             ],
             [
              0.4444444444444444,
              "#bd3786"
             ],
             [
              0.5555555555555556,
              "#d8576b"
             ],
             [
              0.6666666666666666,
              "#ed7953"
             ],
             [
              0.7777777777777778,
              "#fb9f3a"
             ],
             [
              0.8888888888888888,
              "#fdca26"
             ],
             [
              1,
              "#f0f921"
             ]
            ],
            "type": "histogram2dcontour"
           }
          ],
          "mesh3d": [
           {
            "colorbar": {
             "outlinewidth": 0,
             "ticks": ""
            },
            "type": "mesh3d"
           }
          ],
          "parcoords": [
           {
            "line": {
             "colorbar": {
              "outlinewidth": 0,
              "ticks": ""
             }
            },
            "type": "parcoords"
           }
          ],
          "pie": [
           {
            "automargin": true,
            "type": "pie"
           }
          ],
          "scatter": [
           {
            "fillpattern": {
             "fillmode": "overlay",
             "size": 10,
             "solidity": 0.2
            },
            "type": "scatter"
           }
          ],
          "scatter3d": [
           {
            "line": {
             "colorbar": {
              "outlinewidth": 0,
              "ticks": ""
             }
            },
            "marker": {
             "colorbar": {
              "outlinewidth": 0,
              "ticks": ""
             }
            },
            "type": "scatter3d"
           }
          ],
          "scattercarpet": [
           {
            "marker": {
             "colorbar": {
              "outlinewidth": 0,
              "ticks": ""
             }
            },
            "type": "scattercarpet"
           }
          ],
          "scattergeo": [
           {
            "marker": {
             "colorbar": {
              "outlinewidth": 0,
              "ticks": ""
             }
            },
            "type": "scattergeo"
           }
          ],
          "scattergl": [
           {
            "marker": {
             "colorbar": {
              "outlinewidth": 0,
              "ticks": ""
             }
            },
            "type": "scattergl"
           }
          ],
          "scattermapbox": [
           {
            "marker": {
             "colorbar": {
              "outlinewidth": 0,
              "ticks": ""
             }
            },
            "type": "scattermapbox"
           }
          ],
          "scatterpolar": [
           {
            "marker": {
             "colorbar": {
              "outlinewidth": 0,
              "ticks": ""
             }
            },
            "type": "scatterpolar"
           }
          ],
          "scatterpolargl": [
           {
            "marker": {
             "colorbar": {
              "outlinewidth": 0,
              "ticks": ""
             }
            },
            "type": "scatterpolargl"
           }
          ],
          "scatterternary": [
           {
            "marker": {
             "colorbar": {
              "outlinewidth": 0,
              "ticks": ""
             }
            },
            "type": "scatterternary"
           }
          ],
          "surface": [
           {
            "colorbar": {
             "outlinewidth": 0,
             "ticks": ""
            },
            "colorscale": [
             [
              0,
              "#0d0887"
             ],
             [
              0.1111111111111111,
              "#46039f"
             ],
             [
              0.2222222222222222,
              "#7201a8"
             ],
             [
              0.3333333333333333,
              "#9c179e"
             ],
             [
              0.4444444444444444,
              "#bd3786"
             ],
             [
              0.5555555555555556,
              "#d8576b"
             ],
             [
              0.6666666666666666,
              "#ed7953"
             ],
             [
              0.7777777777777778,
              "#fb9f3a"
             ],
             [
              0.8888888888888888,
              "#fdca26"
             ],
             [
              1,
              "#f0f921"
             ]
            ],
            "type": "surface"
           }
          ],
          "table": [
           {
            "cells": {
             "fill": {
              "color": "#EBF0F8"
             },
             "line": {
              "color": "white"
             }
            },
            "header": {
             "fill": {
              "color": "#C8D4E3"
             },
             "line": {
              "color": "white"
             }
            },
            "type": "table"
           }
          ]
         },
         "layout": {
          "annotationdefaults": {
           "arrowcolor": "#2a3f5f",
           "arrowhead": 0,
           "arrowwidth": 1
          },
          "autotypenumbers": "strict",
          "coloraxis": {
           "colorbar": {
            "outlinewidth": 0,
            "ticks": ""
           }
          },
          "colorscale": {
           "diverging": [
            [
             0,
             "#8e0152"
            ],
            [
             0.1,
             "#c51b7d"
            ],
            [
             0.2,
             "#de77ae"
            ],
            [
             0.3,
             "#f1b6da"
            ],
            [
             0.4,
             "#fde0ef"
            ],
            [
             0.5,
             "#f7f7f7"
            ],
            [
             0.6,
             "#e6f5d0"
            ],
            [
             0.7,
             "#b8e186"
            ],
            [
             0.8,
             "#7fbc41"
            ],
            [
             0.9,
             "#4d9221"
            ],
            [
             1,
             "#276419"
            ]
           ],
           "sequential": [
            [
             0,
             "#0d0887"
            ],
            [
             0.1111111111111111,
             "#46039f"
            ],
            [
             0.2222222222222222,
             "#7201a8"
            ],
            [
             0.3333333333333333,
             "#9c179e"
            ],
            [
             0.4444444444444444,
             "#bd3786"
            ],
            [
             0.5555555555555556,
             "#d8576b"
            ],
            [
             0.6666666666666666,
             "#ed7953"
            ],
            [
             0.7777777777777778,
             "#fb9f3a"
            ],
            [
             0.8888888888888888,
             "#fdca26"
            ],
            [
             1,
             "#f0f921"
            ]
           ],
           "sequentialminus": [
            [
             0,
             "#0d0887"
            ],
            [
             0.1111111111111111,
             "#46039f"
            ],
            [
             0.2222222222222222,
             "#7201a8"
            ],
            [
             0.3333333333333333,
             "#9c179e"
            ],
            [
             0.4444444444444444,
             "#bd3786"
            ],
            [
             0.5555555555555556,
             "#d8576b"
            ],
            [
             0.6666666666666666,
             "#ed7953"
            ],
            [
             0.7777777777777778,
             "#fb9f3a"
            ],
            [
             0.8888888888888888,
             "#fdca26"
            ],
            [
             1,
             "#f0f921"
            ]
           ]
          },
          "colorway": [
           "#636efa",
           "#EF553B",
           "#00cc96",
           "#ab63fa",
           "#FFA15A",
           "#19d3f3",
           "#FF6692",
           "#B6E880",
           "#FF97FF",
           "#FECB52"
          ],
          "font": {
           "color": "#2a3f5f"
          },
          "geo": {
           "bgcolor": "white",
           "lakecolor": "white",
           "landcolor": "white",
           "showlakes": true,
           "showland": true,
           "subunitcolor": "#C8D4E3"
          },
          "hoverlabel": {
           "align": "left"
          },
          "hovermode": "closest",
          "mapbox": {
           "style": "light"
          },
          "paper_bgcolor": "white",
          "plot_bgcolor": "white",
          "polar": {
           "angularaxis": {
            "gridcolor": "#EBF0F8",
            "linecolor": "#EBF0F8",
            "ticks": ""
           },
           "bgcolor": "white",
           "radialaxis": {
            "gridcolor": "#EBF0F8",
            "linecolor": "#EBF0F8",
            "ticks": ""
           }
          },
          "scene": {
           "xaxis": {
            "backgroundcolor": "white",
            "gridcolor": "#DFE8F3",
            "gridwidth": 2,
            "linecolor": "#EBF0F8",
            "showbackground": true,
            "ticks": "",
            "zerolinecolor": "#EBF0F8"
           },
           "yaxis": {
            "backgroundcolor": "white",
            "gridcolor": "#DFE8F3",
            "gridwidth": 2,
            "linecolor": "#EBF0F8",
            "showbackground": true,
            "ticks": "",
            "zerolinecolor": "#EBF0F8"
           },
           "zaxis": {
            "backgroundcolor": "white",
            "gridcolor": "#DFE8F3",
            "gridwidth": 2,
            "linecolor": "#EBF0F8",
            "showbackground": true,
            "ticks": "",
            "zerolinecolor": "#EBF0F8"
           }
          },
          "shapedefaults": {
           "line": {
            "color": "#2a3f5f"
           }
          },
          "ternary": {
           "aaxis": {
            "gridcolor": "#DFE8F3",
            "linecolor": "#A2B1C6",
            "ticks": ""
           },
           "baxis": {
            "gridcolor": "#DFE8F3",
            "linecolor": "#A2B1C6",
            "ticks": ""
           },
           "bgcolor": "white",
           "caxis": {
            "gridcolor": "#DFE8F3",
            "linecolor": "#A2B1C6",
            "ticks": ""
           }
          },
          "title": {
           "x": 0.05
          },
          "xaxis": {
           "automargin": true,
           "gridcolor": "#EBF0F8",
           "linecolor": "#EBF0F8",
           "ticks": "",
           "title": {
            "standoff": 15
           },
           "zerolinecolor": "#EBF0F8",
           "zerolinewidth": 2
          },
          "yaxis": {
           "automargin": true,
           "gridcolor": "#EBF0F8",
           "linecolor": "#EBF0F8",
           "ticks": "",
           "title": {
            "standoff": 15
           },
           "zerolinecolor": "#EBF0F8",
           "zerolinewidth": 2
          }
         }
        },
        "title": {
         "font": {
          "color": "Black",
          "size": 22
         },
         "text": "<b>Term score decline per Topic</b>",
         "x": 0.5,
         "xanchor": "center",
         "y": 0.9,
         "yanchor": "top"
        },
        "width": 800,
        "xaxis": {
         "dtick": 2,
         "range": [
          0,
          10
         ],
         "tick0": 1,
         "title": {
          "text": "Term Rank"
         }
        },
        "yaxis": {
         "title": {
          "text": "c-TF-IDF score (log scale)"
         }
        }
       }
      }
     },
     "metadata": {},
     "output_type": "display_data"
    }
   ],
   "source": [
    "topic_model.visualize_term_rank(log_scale=True)"
   ]
  }
 ],
 "metadata": {
  "kernelspec": {
   "display_name": ".venv",
   "language": "python",
   "name": "python3"
  },
  "language_info": {
   "codemirror_mode": {
    "name": "ipython",
    "version": 3
   },
   "file_extension": ".py",
   "mimetype": "text/x-python",
   "name": "python",
   "nbconvert_exporter": "python",
   "pygments_lexer": "ipython3",
   "version": "3.8.17"
  }
 },
 "nbformat": 4,
 "nbformat_minor": 2
}
