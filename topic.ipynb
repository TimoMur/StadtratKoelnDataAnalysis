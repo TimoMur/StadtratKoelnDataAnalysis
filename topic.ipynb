{
 "cells": [
  {
   "cell_type": "code",
   "execution_count": 27,
   "metadata": {},
   "outputs": [
    {
     "name": "stdout",
     "output_type": "stream",
     "text": [
      "Requirement already satisfied: ipykernel in ./.venv/lib/python3.8/site-packages (6.29.3)\n",
      "Requirement already satisfied: appnope in ./.venv/lib/python3.8/site-packages (from ipykernel) (0.1.4)\n",
      "Requirement already satisfied: comm>=0.1.1 in ./.venv/lib/python3.8/site-packages (from ipykernel) (0.2.1)\n",
      "Requirement already satisfied: debugpy>=1.6.5 in ./.venv/lib/python3.8/site-packages (from ipykernel) (1.8.1)\n",
      "Requirement already satisfied: ipython>=7.23.1 in ./.venv/lib/python3.8/site-packages (from ipykernel) (8.12.3)\n",
      "Requirement already satisfied: jupyter-client>=6.1.12 in ./.venv/lib/python3.8/site-packages (from ipykernel) (8.6.0)\n",
      "Requirement already satisfied: jupyter-core!=5.0.*,>=4.12 in ./.venv/lib/python3.8/site-packages (from ipykernel) (5.7.1)\n",
      "Requirement already satisfied: matplotlib-inline>=0.1 in ./.venv/lib/python3.8/site-packages (from ipykernel) (0.1.6)\n",
      "Requirement already satisfied: nest-asyncio in ./.venv/lib/python3.8/site-packages (from ipykernel) (1.6.0)\n",
      "Requirement already satisfied: packaging in ./.venv/lib/python3.8/site-packages (from ipykernel) (24.0)\n",
      "Requirement already satisfied: psutil in ./.venv/lib/python3.8/site-packages (from ipykernel) (5.9.8)\n",
      "Requirement already satisfied: pyzmq>=24 in ./.venv/lib/python3.8/site-packages (from ipykernel) (25.1.2)\n",
      "Requirement already satisfied: tornado>=6.1 in ./.venv/lib/python3.8/site-packages (from ipykernel) (6.4)\n",
      "Requirement already satisfied: traitlets>=5.4.0 in ./.venv/lib/python3.8/site-packages (from ipykernel) (5.14.1)\n",
      "Requirement already satisfied: backcall in ./.venv/lib/python3.8/site-packages (from ipython>=7.23.1->ipykernel) (0.2.0)\n",
      "Requirement already satisfied: decorator in ./.venv/lib/python3.8/site-packages (from ipython>=7.23.1->ipykernel) (5.1.1)\n",
      "Requirement already satisfied: jedi>=0.16 in ./.venv/lib/python3.8/site-packages (from ipython>=7.23.1->ipykernel) (0.19.1)\n",
      "Requirement already satisfied: pickleshare in ./.venv/lib/python3.8/site-packages (from ipython>=7.23.1->ipykernel) (0.7.5)\n",
      "Requirement already satisfied: prompt-toolkit!=3.0.37,<3.1.0,>=3.0.30 in ./.venv/lib/python3.8/site-packages (from ipython>=7.23.1->ipykernel) (3.0.43)\n",
      "Requirement already satisfied: pygments>=2.4.0 in ./.venv/lib/python3.8/site-packages (from ipython>=7.23.1->ipykernel) (2.17.2)\n",
      "Requirement already satisfied: stack-data in ./.venv/lib/python3.8/site-packages (from ipython>=7.23.1->ipykernel) (0.6.3)\n",
      "Requirement already satisfied: typing-extensions in ./.venv/lib/python3.8/site-packages (from ipython>=7.23.1->ipykernel) (4.10.0)\n",
      "Requirement already satisfied: pexpect>4.3 in ./.venv/lib/python3.8/site-packages (from ipython>=7.23.1->ipykernel) (4.9.0)\n",
      "Requirement already satisfied: importlib-metadata>=4.8.3 in ./.venv/lib/python3.8/site-packages (from jupyter-client>=6.1.12->ipykernel) (7.0.2)\n",
      "Requirement already satisfied: python-dateutil>=2.8.2 in ./.venv/lib/python3.8/site-packages (from jupyter-client>=6.1.12->ipykernel) (2.9.0.post0)\n",
      "Requirement already satisfied: platformdirs>=2.5 in ./.venv/lib/python3.8/site-packages (from jupyter-core!=5.0.*,>=4.12->ipykernel) (4.2.0)\n",
      "Requirement already satisfied: zipp>=0.5 in ./.venv/lib/python3.8/site-packages (from importlib-metadata>=4.8.3->jupyter-client>=6.1.12->ipykernel) (3.17.0)\n",
      "Requirement already satisfied: parso<0.9.0,>=0.8.3 in ./.venv/lib/python3.8/site-packages (from jedi>=0.16->ipython>=7.23.1->ipykernel) (0.8.3)\n",
      "Requirement already satisfied: ptyprocess>=0.5 in ./.venv/lib/python3.8/site-packages (from pexpect>4.3->ipython>=7.23.1->ipykernel) (0.7.0)\n",
      "Requirement already satisfied: wcwidth in ./.venv/lib/python3.8/site-packages (from prompt-toolkit!=3.0.37,<3.1.0,>=3.0.30->ipython>=7.23.1->ipykernel) (0.2.13)\n",
      "Requirement already satisfied: six>=1.5 in ./.venv/lib/python3.8/site-packages (from python-dateutil>=2.8.2->jupyter-client>=6.1.12->ipykernel) (1.16.0)\n",
      "Requirement already satisfied: executing>=1.2.0 in ./.venv/lib/python3.8/site-packages (from stack-data->ipython>=7.23.1->ipykernel) (2.0.1)\n",
      "Requirement already satisfied: asttokens>=2.1.0 in ./.venv/lib/python3.8/site-packages (from stack-data->ipython>=7.23.1->ipykernel) (2.4.1)\n",
      "Requirement already satisfied: pure-eval in ./.venv/lib/python3.8/site-packages (from stack-data->ipython>=7.23.1->ipykernel) (0.2.2)\n",
      "Requirement already satisfied: nbformat in ./.venv/lib/python3.8/site-packages (5.9.2)\n",
      "Requirement already satisfied: fastjsonschema in ./.venv/lib/python3.8/site-packages (from nbformat) (2.19.1)\n",
      "Requirement already satisfied: jsonschema>=2.6 in ./.venv/lib/python3.8/site-packages (from nbformat) (4.21.1)\n",
      "Requirement already satisfied: jupyter-core in ./.venv/lib/python3.8/site-packages (from nbformat) (5.7.1)\n",
      "Requirement already satisfied: traitlets>=5.1 in ./.venv/lib/python3.8/site-packages (from nbformat) (5.14.1)\n",
      "Requirement already satisfied: attrs>=22.2.0 in ./.venv/lib/python3.8/site-packages (from jsonschema>=2.6->nbformat) (23.2.0)\n",
      "Requirement already satisfied: importlib-resources>=1.4.0 in ./.venv/lib/python3.8/site-packages (from jsonschema>=2.6->nbformat) (6.1.3)\n",
      "Requirement already satisfied: jsonschema-specifications>=2023.03.6 in ./.venv/lib/python3.8/site-packages (from jsonschema>=2.6->nbformat) (2023.12.1)\n",
      "Requirement already satisfied: pkgutil-resolve-name>=1.3.10 in ./.venv/lib/python3.8/site-packages (from jsonschema>=2.6->nbformat) (1.3.10)\n",
      "Requirement already satisfied: referencing>=0.28.4 in ./.venv/lib/python3.8/site-packages (from jsonschema>=2.6->nbformat) (0.33.0)\n",
      "Requirement already satisfied: rpds-py>=0.7.1 in ./.venv/lib/python3.8/site-packages (from jsonschema>=2.6->nbformat) (0.18.0)\n",
      "Requirement already satisfied: platformdirs>=2.5 in ./.venv/lib/python3.8/site-packages (from jupyter-core->nbformat) (4.2.0)\n",
      "Requirement already satisfied: zipp>=3.1.0 in ./.venv/lib/python3.8/site-packages (from importlib-resources>=1.4.0->jsonschema>=2.6->nbformat) (3.17.0)\n",
      "Requirement already satisfied: plotly in ./.venv/lib/python3.8/site-packages (5.19.0)\n",
      "Requirement already satisfied: tenacity>=6.2.0 in ./.venv/lib/python3.8/site-packages (from plotly) (8.2.3)\n",
      "Requirement already satisfied: packaging in ./.venv/lib/python3.8/site-packages (from plotly) (24.0)\n"
     ]
    }
   ],
   "source": [
    "! pip install bertopic pymupdf bertopic nltk\n",
    "! pip install ipykernel"
   ]
  },
  {
   "cell_type": "code",
   "execution_count": 28,
   "metadata": {},
   "outputs": [],
   "source": [
    "from bertopic import BERTopic\n",
    "from sklearn.datasets import fetch_20newsgroups\n",
    "from umap import UMAP\n",
    "from sklearn.feature_extraction.text import CountVectorizer\n",
    "\n",
    "# read pdfs (folder: Wortprotokolle) content to docs string list\n",
    "import os\n",
    "import fitz  # PyMuPDF\n",
    "import re\n",
    "from bertopic import BERTopic\n",
    "from sklearn.feature_extraction.text import CountVectorizer\n",
    "from nltk.corpus import stopwords\n",
    "import nltk"
   ]
  },
  {
   "cell_type": "code",
   "execution_count": 86,
   "metadata": {},
   "outputs": [
    {
     "name": "stderr",
     "output_type": "stream",
     "text": [
      "[nltk_data] Downloading package stopwords to\n",
      "[nltk_data]     /Users/timomurmann/nltk_data...\n",
      "[nltk_data]   Package stopwords is already up-to-date!\n"
     ]
    }
   ],
   "source": [
    "nltk.download('stopwords')\n",
    "\n",
    "german_stop_words = stopwords.words('german')\n",
    "# add stopwords from stopwords.txt\n",
    "with open('stopwords.txt', 'r') as file:\n",
    "    german_stop_words += file.read().splitlines()\n",
    "    \n",
    "german_stop_words += ['köln', 'schon', 'jahr', 'herr', 'frau', 'antrag', 'beifall', 'ja', 'top', 'seite', 'seiten', 'anlage', 'anlagen', 'drucksache', 'drucksachen', 'stadt', 'sitzung', 'ausschuss', 'ausschusses', 'ausschüsse']\n",
    "vectorizer_model = CountVectorizer(stop_words=german_stop_words)"
   ]
  },
  {
   "cell_type": "code",
   "execution_count": 80,
   "metadata": {},
   "outputs": [],
   "source": [
    "from bertopic.representation import ZeroShotClassification\n",
    "from bertopic import BERTopic\n",
    "\n",
    "# Create your representation model\n",
    "candidate_topics = [\"Wohnen\", \"Verkehr\", \"Sport\", \"Kultur\", \"Wirtschaft\", \"Gesundheit\", \"Umwelt\", \"Bildung\", \"Technologie\"]\n",
    "representation_model = ZeroShotClassification(candidate_topics, model=\"MoritzLaurer/mDeBERTa-v3-base-xnli-multilingual-nli-2mil7\")"
   ]
  },
  {
   "cell_type": "code",
   "execution_count": 68,
   "metadata": {},
   "outputs": [],
   "source": [
    "# get all pdfs in folder\n",
    "pdf_folder = \"Wortprotokolle\"\n",
    "pdf_files = [f for f in os.listdir(pdf_folder) if f.endswith(\".pdf\")]\n",
    "\n",
    "# read all pdfs\n",
    "docs = []\n",
    "\n",
    "for pdf_file in pdf_files:\n",
    "    # open pdf\n",
    "    pdf_path = os.path.join(pdf_folder, pdf_file)\n",
    "    doc = fitz.open(pdf_path)\n",
    "\n",
    "    # read all pages\n",
    "    for page in doc:\n",
    "        text = page.get_text()\n",
    "        docs.append(text)\n",
    "\n",
    "    doc.close()"
   ]
  },
  {
   "cell_type": "code",
   "execution_count": 87,
   "metadata": {},
   "outputs": [
    {
     "name": "stderr",
     "output_type": "stream",
     "text": [
      "2024-03-11 20:13:45,953 - BERTopic - Embedding - Transforming documents to embeddings.\n"
     ]
    },
    {
     "name": "stderr",
     "output_type": "stream",
     "text": [
      "Batches: 100%|██████████| 59/59 [00:34<00:00,  1.70it/s]\n",
      "2024-03-11 20:14:22,931 - BERTopic - Embedding - Completed ✓\n",
      "2024-03-11 20:14:22,931 - BERTopic - Dimensionality - Fitting the dimensionality reduction algorithm\n",
      "2024-03-11 20:14:26,366 - BERTopic - Dimensionality - Completed ✓\n",
      "2024-03-11 20:14:26,367 - BERTopic - Cluster - Start clustering the reduced embeddings\n",
      "2024-03-11 20:14:26,400 - BERTopic - Cluster - Completed ✓\n",
      "2024-03-11 20:14:26,401 - BERTopic - Representation - Extracting topics from clusters using representation models.\n",
      "2024-03-11 20:14:48,383 - BERTopic - Representation - Completed ✓\n"
     ]
    }
   ],
   "source": [
    "topic_model = BERTopic(language=\"german\", verbose=True,\n",
    "                        embedding_model=\"all-mpnet-base-v2\",\n",
    "                       vectorizer_model=vectorizer_model, representation_model=representation_model)\n",
    "\n",
    "topic, prob = topic_model.fit_transform(docs)"
   ]
  },
  {
   "cell_type": "code",
   "execution_count": 88,
   "metadata": {},
   "outputs": [
    {
     "data": {
      "text/html": [
       "<div>\n",
       "<style scoped>\n",
       "    .dataframe tbody tr th:only-of-type {\n",
       "        vertical-align: middle;\n",
       "    }\n",
       "\n",
       "    .dataframe tbody tr th {\n",
       "        vertical-align: top;\n",
       "    }\n",
       "\n",
       "    .dataframe thead th {\n",
       "        text-align: right;\n",
       "    }\n",
       "</style>\n",
       "<table border=\"1\" class=\"dataframe\">\n",
       "  <thead>\n",
       "    <tr style=\"text-align: right;\">\n",
       "      <th></th>\n",
       "      <th>Topic</th>\n",
       "      <th>Count</th>\n",
       "      <th>Name</th>\n",
       "      <th>Representation</th>\n",
       "      <th>Representative_Docs</th>\n",
       "    </tr>\n",
       "  </thead>\n",
       "  <tbody>\n",
       "    <tr>\n",
       "      <th>0</th>\n",
       "      <td>-1</td>\n",
       "      <td>776</td>\n",
       "      <td>-1_spd_reker_henriette_gibt</td>\n",
       "      <td>[spd, reker, henriette, gibt, fraktion, dank, ...</td>\n",
       "      <td>[Ó \\n \\n \\n \\n \\n \\n15. Sitzung vom 17. März 2...</td>\n",
       "    </tr>\n",
       "    <tr>\n",
       "      <th>1</th>\n",
       "      <td>0</td>\n",
       "      <td>293</td>\n",
       "      <td>0_rat_spd_grünen_90</td>\n",
       "      <td>[rat, spd, grünen, 90, liebe, 2023, reker, heu...</td>\n",
       "      <td>[ \\n \\n Rat der Stadt Köln \\n26. Sitzung vom 1...</td>\n",
       "    </tr>\n",
       "    <tr>\n",
       "      <th>2</th>\n",
       "      <td>1</td>\n",
       "      <td>138</td>\n",
       "      <td>1_enthaltungen_gegenstimmen_tagesordnungspunkt...</td>\n",
       "      <td>[enthaltungen, gegenstimmen, tagesordnungspunk...</td>\n",
       "      <td>[ \\n \\n10. Sitzung vom 16. September 2021   Se...</td>\n",
       "    </tr>\n",
       "    <tr>\n",
       "      <th>3</th>\n",
       "      <td>2</td>\n",
       "      <td>95</td>\n",
       "      <td>2_fraktion_enthaltungen_spd_gibt</td>\n",
       "      <td>[fraktion, enthaltungen, spd, gibt, afd, fdp, ...</td>\n",
       "      <td>[Ó \\n \\n \\n \\n \\n \\n15. Sitzung vom 17. März 2...</td>\n",
       "    </tr>\n",
       "    <tr>\n",
       "      <th>4</th>\n",
       "      <td>3</td>\n",
       "      <td>82</td>\n",
       "      <td>3_menschen_afd_spd_immer</td>\n",
       "      <td>[menschen, afd, spd, immer, deutschland, liebe...</td>\n",
       "      <td>[ \\n \\n \\n 9. Sitzung vom 23. August 2021 \\nSe...</td>\n",
       "    </tr>\n",
       "    <tr>\n",
       "      <th>5</th>\n",
       "      <td>4</td>\n",
       "      <td>54</td>\n",
       "      <td>4_schulen_kinder_schule_eltern</td>\n",
       "      <td>[schulen, kinder, schule, eltern, gesamtschule...</td>\n",
       "      <td>[ \\n \\n  Rat der Stadt Köln \\n21. Sitzung vom ...</td>\n",
       "    </tr>\n",
       "    <tr>\n",
       "      <th>6</th>\n",
       "      <td>5</td>\n",
       "      <td>47</td>\n",
       "      <td>5_spd_reker_90_grünen</td>\n",
       "      <td>[spd, reker, 90, grünen, bündnis, henriette, r...</td>\n",
       "      <td>[ \\n \\n Rat der Stadt Köln \\n29. Sitzung vom 7...</td>\n",
       "    </tr>\n",
       "    <tr>\n",
       "      <th>7</th>\n",
       "      <td>6</td>\n",
       "      <td>44</td>\n",
       "      <td>6_liebe_henriette_reker_kolleginnen</td>\n",
       "      <td>[liebe, henriette, reker, kolleginnen, kollege...</td>\n",
       "      <td>[ \\n \\n Rat der Stadt Köln \\n23. Sitzung vom 9...</td>\n",
       "    </tr>\n",
       "    <tr>\n",
       "      <th>8</th>\n",
       "      <td>7</td>\n",
       "      <td>37</td>\n",
       "      <td>7_Sport___</td>\n",
       "      <td>[Sport, , , , , , , , , ]</td>\n",
       "      <td>[ \\nÓ \\n \\n \\n \\n \\n \\n \\n 5. Sitzung vom 23. ...</td>\n",
       "    </tr>\n",
       "    <tr>\n",
       "      <th>9</th>\n",
       "      <td>8</td>\n",
       "      <td>30</td>\n",
       "      <td>8_rates_damen_heute_herren</td>\n",
       "      <td>[rates, damen, heute, herren, tagesordnung, he...</td>\n",
       "      <td>[Ó \\n \\n \\n \\n \\n \\n \\n16. Sitzung vom 5. Mai ...</td>\n",
       "    </tr>\n",
       "    <tr>\n",
       "      <th>10</th>\n",
       "      <td>9</td>\n",
       "      <td>27</td>\n",
       "      <td>9_vorschlag_gewählt_fraktion_vorschläge</td>\n",
       "      <td>[vorschlag, gewählt, fraktion, vorschläge, rat...</td>\n",
       "      <td>[ \\nÓ \\n \\n \\n \\n \\n \\n \\n 5. Sitzung vom 23. ...</td>\n",
       "    </tr>\n",
       "    <tr>\n",
       "      <th>11</th>\n",
       "      <td>10</td>\n",
       "      <td>25</td>\n",
       "      <td>10_henriette_reker_dank_grünen</td>\n",
       "      <td>[henriette, reker, dank, grünen, innen, spd, b...</td>\n",
       "      <td>[ \\n \\n10. Sitzung vom 16. September 2021   Se...</td>\n",
       "    </tr>\n",
       "    <tr>\n",
       "      <th>12</th>\n",
       "      <td>11</td>\n",
       "      <td>24</td>\n",
       "      <td>11_Umwelt___</td>\n",
       "      <td>[Umwelt, , , , , , , , , ]</td>\n",
       "      <td>[Ó \\n \\n \\n \\n \\n \\n15. Sitzung vom 17. März 2...</td>\n",
       "    </tr>\n",
       "    <tr>\n",
       "      <th>13</th>\n",
       "      <td>12</td>\n",
       "      <td>23</td>\n",
       "      <td>12_linken_rheinenergie_reker_henriette</td>\n",
       "      <td>[linken, rheinenergie, reker, henriette, spd, ...</td>\n",
       "      <td>[Ó \\n \\n \\n \\n \\n \\n \\n16. Sitzung vom 5. Mai ...</td>\n",
       "    </tr>\n",
       "    <tr>\n",
       "      <th>14</th>\n",
       "      <td>13</td>\n",
       "      <td>22</td>\n",
       "      <td>13_spd_chen_be_immer</td>\n",
       "      <td>[spd, chen, be, immer, haus, liebe, ge, dank, ...</td>\n",
       "      <td>[ \\n \\n 6. Sitzung vom 6. Mai 2021 \\nSeite 14 ...</td>\n",
       "    </tr>\n",
       "    <tr>\n",
       "      <th>15</th>\n",
       "      <td>14</td>\n",
       "      <td>22</td>\n",
       "      <td>14_corona_dank_gen_vielen</td>\n",
       "      <td>[corona, dank, gen, vielen, euro, millionen, r...</td>\n",
       "      <td>[ \\n \\n \\n \\n \\n 7. Sitzung vom 24. Juni 2021 ...</td>\n",
       "    </tr>\n",
       "    <tr>\n",
       "      <th>16</th>\n",
       "      <td>15</td>\n",
       "      <td>19</td>\n",
       "      <td>15_tagesordnung_gibt_reihenfolge_fall</td>\n",
       "      <td>[tagesordnung, gibt, reihenfolge, fall, frakti...</td>\n",
       "      <td>[Ó \\n \\n \\n \\n \\n \\n3. Sitzung vom 10. Dezembe...</td>\n",
       "    </tr>\n",
       "    <tr>\n",
       "      <th>17</th>\n",
       "      <td>16</td>\n",
       "      <td>18</td>\n",
       "      <td>16_geehrte_fdp_cdu_damen</td>\n",
       "      <td>[geehrte, fdp, cdu, damen, liebe, spd, herren,...</td>\n",
       "      <td>[Ó \\n \\n \\n \\n \\n \\n14. Sitzung vom 3. Februar...</td>\n",
       "    </tr>\n",
       "    <tr>\n",
       "      <th>18</th>\n",
       "      <td>17</td>\n",
       "      <td>17</td>\n",
       "      <td>17_reker_henriette_dank_liebe</td>\n",
       "      <td>[reker, henriette, dank, liebe, danke, gabrysc...</td>\n",
       "      <td>[ \\n \\n 6. Sitzung vom 6. Mai 2021 \\nSeite 20 ...</td>\n",
       "    </tr>\n",
       "    <tr>\n",
       "      <th>19</th>\n",
       "      <td>18</td>\n",
       "      <td>16</td>\n",
       "      <td>18_pv_klimaschutz_klima_energie</td>\n",
       "      <td>[pv, klimaschutz, klima, energie, ausbau, klim...</td>\n",
       "      <td>[ \\n \\n10. Sitzung vom 16. September 2021   Se...</td>\n",
       "    </tr>\n",
       "    <tr>\n",
       "      <th>20</th>\n",
       "      <td>19</td>\n",
       "      <td>15</td>\n",
       "      <td>19_gastronomie_gastronomen_außengastronomie_ge...</td>\n",
       "      <td>[gastronomie, gastronomen, außengastronomie, g...</td>\n",
       "      <td>[Ó \\n \\n \\n \\n \\n \\n \\n17. Sitzung vom 20. Jun...</td>\n",
       "    </tr>\n",
       "    <tr>\n",
       "      <th>21</th>\n",
       "      <td>20</td>\n",
       "      <td>13</td>\n",
       "      <td>20_müll_waste_zero_flächen</td>\n",
       "      <td>[müll, waste, zero, flächen, bündnis, konzept,...</td>\n",
       "      <td>[ \\n \\n 6. Sitzung vom 6. Mai 2021 \\nSeite 19 ...</td>\n",
       "    </tr>\n",
       "    <tr>\n",
       "      <th>22</th>\n",
       "      <td>21</td>\n",
       "      <td>11</td>\n",
       "      <td>21_gesagt_menschen_90_immer</td>\n",
       "      <td>[gesagt, menschen, 90, immer, grünen, ver, kol...</td>\n",
       "      <td>[Ó \\n \\n \\n \\n \\n \\n \\n17. Sitzung vom 20. Jun...</td>\n",
       "    </tr>\n",
       "    <tr>\n",
       "      <th>23</th>\n",
       "      <td>22</td>\n",
       "      <td>10</td>\n",
       "      <td>22_grün_hört_forderungen_90</td>\n",
       "      <td>[grün, hört, forderungen, 90, politischen, cdu...</td>\n",
       "      <td>[ \\n \\n  Rat der Stadt Köln \\n22. Sitzung vom ...</td>\n",
       "    </tr>\n",
       "  </tbody>\n",
       "</table>\n",
       "</div>"
      ],
      "text/plain": [
       "    Topic  Count                                               Name  \\\n",
       "0      -1    776                        -1_spd_reker_henriette_gibt   \n",
       "1       0    293                                0_rat_spd_grünen_90   \n",
       "2       1    138  1_enthaltungen_gegenstimmen_tagesordnungspunkt...   \n",
       "3       2     95                   2_fraktion_enthaltungen_spd_gibt   \n",
       "4       3     82                           3_menschen_afd_spd_immer   \n",
       "5       4     54                     4_schulen_kinder_schule_eltern   \n",
       "6       5     47                              5_spd_reker_90_grünen   \n",
       "7       6     44                6_liebe_henriette_reker_kolleginnen   \n",
       "8       7     37                                         7_Sport___   \n",
       "9       8     30                         8_rates_damen_heute_herren   \n",
       "10      9     27            9_vorschlag_gewählt_fraktion_vorschläge   \n",
       "11     10     25                     10_henriette_reker_dank_grünen   \n",
       "12     11     24                                       11_Umwelt___   \n",
       "13     12     23             12_linken_rheinenergie_reker_henriette   \n",
       "14     13     22                               13_spd_chen_be_immer   \n",
       "15     14     22                          14_corona_dank_gen_vielen   \n",
       "16     15     19              15_tagesordnung_gibt_reihenfolge_fall   \n",
       "17     16     18                           16_geehrte_fdp_cdu_damen   \n",
       "18     17     17                      17_reker_henriette_dank_liebe   \n",
       "19     18     16                    18_pv_klimaschutz_klima_energie   \n",
       "20     19     15  19_gastronomie_gastronomen_außengastronomie_ge...   \n",
       "21     20     13                         20_müll_waste_zero_flächen   \n",
       "22     21     11                        21_gesagt_menschen_90_immer   \n",
       "23     22     10                        22_grün_hört_forderungen_90   \n",
       "\n",
       "                                       Representation  \\\n",
       "0   [spd, reker, henriette, gibt, fraktion, dank, ...   \n",
       "1   [rat, spd, grünen, 90, liebe, 2023, reker, heu...   \n",
       "2   [enthaltungen, gegenstimmen, tagesordnungspunk...   \n",
       "3   [fraktion, enthaltungen, spd, gibt, afd, fdp, ...   \n",
       "4   [menschen, afd, spd, immer, deutschland, liebe...   \n",
       "5   [schulen, kinder, schule, eltern, gesamtschule...   \n",
       "6   [spd, reker, 90, grünen, bündnis, henriette, r...   \n",
       "7   [liebe, henriette, reker, kolleginnen, kollege...   \n",
       "8                           [Sport, , , , , , , , , ]   \n",
       "9   [rates, damen, heute, herren, tagesordnung, he...   \n",
       "10  [vorschlag, gewählt, fraktion, vorschläge, rat...   \n",
       "11  [henriette, reker, dank, grünen, innen, spd, b...   \n",
       "12                         [Umwelt, , , , , , , , , ]   \n",
       "13  [linken, rheinenergie, reker, henriette, spd, ...   \n",
       "14  [spd, chen, be, immer, haus, liebe, ge, dank, ...   \n",
       "15  [corona, dank, gen, vielen, euro, millionen, r...   \n",
       "16  [tagesordnung, gibt, reihenfolge, fall, frakti...   \n",
       "17  [geehrte, fdp, cdu, damen, liebe, spd, herren,...   \n",
       "18  [reker, henriette, dank, liebe, danke, gabrysc...   \n",
       "19  [pv, klimaschutz, klima, energie, ausbau, klim...   \n",
       "20  [gastronomie, gastronomen, außengastronomie, g...   \n",
       "21  [müll, waste, zero, flächen, bündnis, konzept,...   \n",
       "22  [gesagt, menschen, 90, immer, grünen, ver, kol...   \n",
       "23  [grün, hört, forderungen, 90, politischen, cdu...   \n",
       "\n",
       "                                  Representative_Docs  \n",
       "0   [Ó \\n \\n \\n \\n \\n \\n15. Sitzung vom 17. März 2...  \n",
       "1   [ \\n \\n Rat der Stadt Köln \\n26. Sitzung vom 1...  \n",
       "2   [ \\n \\n10. Sitzung vom 16. September 2021   Se...  \n",
       "3   [Ó \\n \\n \\n \\n \\n \\n15. Sitzung vom 17. März 2...  \n",
       "4   [ \\n \\n \\n 9. Sitzung vom 23. August 2021 \\nSe...  \n",
       "5   [ \\n \\n  Rat der Stadt Köln \\n21. Sitzung vom ...  \n",
       "6   [ \\n \\n Rat der Stadt Köln \\n29. Sitzung vom 7...  \n",
       "7   [ \\n \\n Rat der Stadt Köln \\n23. Sitzung vom 9...  \n",
       "8   [ \\nÓ \\n \\n \\n \\n \\n \\n \\n 5. Sitzung vom 23. ...  \n",
       "9   [Ó \\n \\n \\n \\n \\n \\n \\n16. Sitzung vom 5. Mai ...  \n",
       "10  [ \\nÓ \\n \\n \\n \\n \\n \\n \\n 5. Sitzung vom 23. ...  \n",
       "11  [ \\n \\n10. Sitzung vom 16. September 2021   Se...  \n",
       "12  [Ó \\n \\n \\n \\n \\n \\n15. Sitzung vom 17. März 2...  \n",
       "13  [Ó \\n \\n \\n \\n \\n \\n \\n16. Sitzung vom 5. Mai ...  \n",
       "14  [ \\n \\n 6. Sitzung vom 6. Mai 2021 \\nSeite 14 ...  \n",
       "15  [ \\n \\n \\n \\n \\n 7. Sitzung vom 24. Juni 2021 ...  \n",
       "16  [Ó \\n \\n \\n \\n \\n \\n3. Sitzung vom 10. Dezembe...  \n",
       "17  [Ó \\n \\n \\n \\n \\n \\n14. Sitzung vom 3. Februar...  \n",
       "18  [ \\n \\n 6. Sitzung vom 6. Mai 2021 \\nSeite 20 ...  \n",
       "19  [ \\n \\n10. Sitzung vom 16. September 2021   Se...  \n",
       "20  [Ó \\n \\n \\n \\n \\n \\n \\n17. Sitzung vom 20. Jun...  \n",
       "21  [ \\n \\n 6. Sitzung vom 6. Mai 2021 \\nSeite 19 ...  \n",
       "22  [Ó \\n \\n \\n \\n \\n \\n \\n17. Sitzung vom 20. Jun...  \n",
       "23  [ \\n \\n  Rat der Stadt Köln \\n22. Sitzung vom ...  "
      ]
     },
     "execution_count": 88,
     "metadata": {},
     "output_type": "execute_result"
    }
   ],
   "source": [
    "topic_model.get_topic_info()"
   ]
  },
  {
   "cell_type": "code",
   "execution_count": 89,
   "metadata": {},
   "outputs": [
    {
     "data": {
      "application/vnd.plotly.v1+json": {
       "config": {
        "plotlyServerURL": "https://plot.ly"
       },
       "data": [
        {
         "customdata": [
          [
           0,
           "rat | spd | grünen | 90 | liebe",
           293
          ],
          [
           1,
           "enthaltungen | gegenstimmen | tagesordnungspunkt | wortmeldungen | beschlossen",
           138
          ],
          [
           2,
           "fraktion | enthaltungen | spd | gibt | afd",
           95
          ],
          [
           3,
           "menschen | afd | spd | immer | deutschland",
           82
          ],
          [
           4,
           "schulen | kinder | schule | eltern | gesamtschulen",
           54
          ],
          [
           5,
           "spd | reker | 90 | grünen | bündnis",
           47
          ],
          [
           6,
           "liebe | henriette | reker | kolleginnen | kollegen",
           44
          ],
          [
           7,
           "Sport |  |  |  | ",
           37
          ],
          [
           8,
           "rates | damen | heute | herren | tagesordnung",
           30
          ],
          [
           9,
           "vorschlag | gewählt | fraktion | vorschläge | ratsgruppen",
           27
          ],
          [
           10,
           "henriette | reker | dank | grünen | innen",
           25
          ],
          [
           11,
           "Umwelt |  |  |  | ",
           24
          ],
          [
           12,
           "linken | rheinenergie | reker | henriette | spd",
           23
          ],
          [
           13,
           "spd | chen | be | immer | haus",
           22
          ],
          [
           14,
           "corona | dank | gen | vielen | euro",
           22
          ],
          [
           15,
           "tagesordnung | gibt | reihenfolge | fall | fraktion",
           19
          ],
          [
           16,
           "geehrte | fdp | cdu | damen | liebe",
           18
          ],
          [
           17,
           "reker | henriette | dank | liebe | danke",
           17
          ],
          [
           18,
           "pv | klimaschutz | klima | energie | ausbau",
           16
          ],
          [
           19,
           "gastronomie | gastronomen | außengastronomie | gebühren | mehr",
           15
          ],
          [
           20,
           "müll | waste | zero | flächen | bündnis",
           13
          ],
          [
           21,
           "gesagt | menschen | 90 | immer | grünen",
           11
          ],
          [
           22,
           "grün | hört | forderungen | 90 | politischen",
           10
          ]
         ],
         "hovertemplate": "<b>Topic %{customdata[0]}</b><br>%{customdata[1]}<br>Size: %{customdata[2]}",
         "legendgroup": "",
         "marker": {
          "color": "#B0BEC5",
          "line": {
           "color": "DarkSlateGrey",
           "width": 2
          },
          "size": [
           293,
           138,
           95,
           82,
           54,
           47,
           44,
           37,
           30,
           27,
           25,
           24,
           23,
           22,
           22,
           19,
           18,
           17,
           16,
           15,
           13,
           11,
           10
          ],
          "sizemode": "area",
          "sizeref": 0.183125,
          "symbol": "circle"
         },
         "mode": "markers",
         "name": "",
         "orientation": "v",
         "showlegend": false,
         "type": "scatter",
         "x": [
          8.930119514465332,
          8.548931121826172,
          13.068679809570312,
          8.451094627380371,
          8.92708683013916,
          8.438929557800293,
          1.411281704902649,
          8.672752380371094,
          0.9882795214653015,
          13.24516487121582,
          15.610394477844238,
          8.49422550201416,
          -3.3834149837493896,
          15.766729354858398,
          -3.264462947845459,
          13.03496265411377,
          1.1045267581939697,
          15.380742073059082,
          8.919198989868164,
          1.6340177059173584,
          8.985249519348145,
          9.103472709655762,
          9.009063720703125
         ],
         "xaxis": "x",
         "y": [
          -1.4725652933120728,
          -2.5630099773406982,
          -0.6576957702636719,
          -3.3439011573791504,
          -2.463536024093628,
          -2.7823643684387207,
          -0.8077118992805481,
          -1.3845700025558472,
          -0.3788960874080658,
          -0.6763392686843872,
          -6.271671295166016,
          -3.564680576324463,
          9.454035758972168,
          -6.4278950691223145,
          9.34011173248291,
          -0.8766924738883972,
          -0.49621817469596863,
          -6.042320728302002,
          -0.10845576226711273,
          -1.0309377908706665,
          -0.38801223039627075,
          -2.8458101749420166,
          -0.7419747114181519
         ],
         "yaxis": "y"
        }
       ],
       "layout": {
        "annotations": [
         {
          "showarrow": false,
          "text": "D1",
          "x": -3.890927231311798,
          "y": 1.740030896663666,
          "yshift": 10
         },
         {
          "showarrow": false,
          "text": "D2",
          "x": 7.120405763387681,
          "xshift": 10,
          "y": 10.872141122817993
         }
        ],
        "height": 650,
        "hoverlabel": {
         "bgcolor": "white",
         "font": {
          "family": "Rockwell",
          "size": 16
         }
        },
        "legend": {
         "itemsizing": "constant",
         "tracegroupgap": 0
        },
        "margin": {
         "t": 60
        },
        "shapes": [
         {
          "line": {
           "color": "#CFD8DC",
           "width": 2
          },
          "type": "line",
          "x0": 7.120405763387681,
          "x1": 7.120405763387681,
          "y0": -7.392079329490661,
          "y1": 10.872141122817993
         },
         {
          "line": {
           "color": "#9E9E9E",
           "width": 2
          },
          "type": "line",
          "x0": -3.890927231311798,
          "x1": 18.13173875808716,
          "y0": 1.740030896663666,
          "y1": 1.740030896663666
         }
        ],
        "sliders": [
         {
          "active": 0,
          "pad": {
           "t": 50
          },
          "steps": [
           {
            "args": [
             {
              "marker.color": [
               [
                "red",
                "#B0BEC5",
                "#B0BEC5",
                "#B0BEC5",
                "#B0BEC5",
                "#B0BEC5",
                "#B0BEC5",
                "#B0BEC5",
                "#B0BEC5",
                "#B0BEC5",
                "#B0BEC5",
                "#B0BEC5",
                "#B0BEC5",
                "#B0BEC5",
                "#B0BEC5",
                "#B0BEC5",
                "#B0BEC5",
                "#B0BEC5",
                "#B0BEC5",
                "#B0BEC5",
                "#B0BEC5",
                "#B0BEC5",
                "#B0BEC5"
               ]
              ]
             }
            ],
            "label": "Topic 0",
            "method": "update"
           },
           {
            "args": [
             {
              "marker.color": [
               [
                "#B0BEC5",
                "red",
                "#B0BEC5",
                "#B0BEC5",
                "#B0BEC5",
                "#B0BEC5",
                "#B0BEC5",
                "#B0BEC5",
                "#B0BEC5",
                "#B0BEC5",
                "#B0BEC5",
                "#B0BEC5",
                "#B0BEC5",
                "#B0BEC5",
                "#B0BEC5",
                "#B0BEC5",
                "#B0BEC5",
                "#B0BEC5",
                "#B0BEC5",
                "#B0BEC5",
                "#B0BEC5",
                "#B0BEC5",
                "#B0BEC5"
               ]
              ]
             }
            ],
            "label": "Topic 1",
            "method": "update"
           },
           {
            "args": [
             {
              "marker.color": [
               [
                "#B0BEC5",
                "#B0BEC5",
                "red",
                "#B0BEC5",
                "#B0BEC5",
                "#B0BEC5",
                "#B0BEC5",
                "#B0BEC5",
                "#B0BEC5",
                "#B0BEC5",
                "#B0BEC5",
                "#B0BEC5",
                "#B0BEC5",
                "#B0BEC5",
                "#B0BEC5",
                "#B0BEC5",
                "#B0BEC5",
                "#B0BEC5",
                "#B0BEC5",
                "#B0BEC5",
                "#B0BEC5",
                "#B0BEC5",
                "#B0BEC5"
               ]
              ]
             }
            ],
            "label": "Topic 2",
            "method": "update"
           },
           {
            "args": [
             {
              "marker.color": [
               [
                "#B0BEC5",
                "#B0BEC5",
                "#B0BEC5",
                "red",
                "#B0BEC5",
                "#B0BEC5",
                "#B0BEC5",
                "#B0BEC5",
                "#B0BEC5",
                "#B0BEC5",
                "#B0BEC5",
                "#B0BEC5",
                "#B0BEC5",
                "#B0BEC5",
                "#B0BEC5",
                "#B0BEC5",
                "#B0BEC5",
                "#B0BEC5",
                "#B0BEC5",
                "#B0BEC5",
                "#B0BEC5",
                "#B0BEC5",
                "#B0BEC5"
               ]
              ]
             }
            ],
            "label": "Topic 3",
            "method": "update"
           },
           {
            "args": [
             {
              "marker.color": [
               [
                "#B0BEC5",
                "#B0BEC5",
                "#B0BEC5",
                "#B0BEC5",
                "red",
                "#B0BEC5",
                "#B0BEC5",
                "#B0BEC5",
                "#B0BEC5",
                "#B0BEC5",
                "#B0BEC5",
                "#B0BEC5",
                "#B0BEC5",
                "#B0BEC5",
                "#B0BEC5",
                "#B0BEC5",
                "#B0BEC5",
                "#B0BEC5",
                "#B0BEC5",
                "#B0BEC5",
                "#B0BEC5",
                "#B0BEC5",
                "#B0BEC5"
               ]
              ]
             }
            ],
            "label": "Topic 4",
            "method": "update"
           },
           {
            "args": [
             {
              "marker.color": [
               [
                "#B0BEC5",
                "#B0BEC5",
                "#B0BEC5",
                "#B0BEC5",
                "#B0BEC5",
                "red",
                "#B0BEC5",
                "#B0BEC5",
                "#B0BEC5",
                "#B0BEC5",
                "#B0BEC5",
                "#B0BEC5",
                "#B0BEC5",
                "#B0BEC5",
                "#B0BEC5",
                "#B0BEC5",
                "#B0BEC5",
                "#B0BEC5",
                "#B0BEC5",
                "#B0BEC5",
                "#B0BEC5",
                "#B0BEC5",
                "#B0BEC5"
               ]
              ]
             }
            ],
            "label": "Topic 5",
            "method": "update"
           },
           {
            "args": [
             {
              "marker.color": [
               [
                "#B0BEC5",
                "#B0BEC5",
                "#B0BEC5",
                "#B0BEC5",
                "#B0BEC5",
                "#B0BEC5",
                "red",
                "#B0BEC5",
                "#B0BEC5",
                "#B0BEC5",
                "#B0BEC5",
                "#B0BEC5",
                "#B0BEC5",
                "#B0BEC5",
                "#B0BEC5",
                "#B0BEC5",
                "#B0BEC5",
                "#B0BEC5",
                "#B0BEC5",
                "#B0BEC5",
                "#B0BEC5",
                "#B0BEC5",
                "#B0BEC5"
               ]
              ]
             }
            ],
            "label": "Topic 6",
            "method": "update"
           },
           {
            "args": [
             {
              "marker.color": [
               [
                "#B0BEC5",
                "#B0BEC5",
                "#B0BEC5",
                "#B0BEC5",
                "#B0BEC5",
                "#B0BEC5",
                "#B0BEC5",
                "red",
                "#B0BEC5",
                "#B0BEC5",
                "#B0BEC5",
                "#B0BEC5",
                "#B0BEC5",
                "#B0BEC5",
                "#B0BEC5",
                "#B0BEC5",
                "#B0BEC5",
                "#B0BEC5",
                "#B0BEC5",
                "#B0BEC5",
                "#B0BEC5",
                "#B0BEC5",
                "#B0BEC5"
               ]
              ]
             }
            ],
            "label": "Topic 7",
            "method": "update"
           },
           {
            "args": [
             {
              "marker.color": [
               [
                "#B0BEC5",
                "#B0BEC5",
                "#B0BEC5",
                "#B0BEC5",
                "#B0BEC5",
                "#B0BEC5",
                "#B0BEC5",
                "#B0BEC5",
                "red",
                "#B0BEC5",
                "#B0BEC5",
                "#B0BEC5",
                "#B0BEC5",
                "#B0BEC5",
                "#B0BEC5",
                "#B0BEC5",
                "#B0BEC5",
                "#B0BEC5",
                "#B0BEC5",
                "#B0BEC5",
                "#B0BEC5",
                "#B0BEC5",
                "#B0BEC5"
               ]
              ]
             }
            ],
            "label": "Topic 8",
            "method": "update"
           },
           {
            "args": [
             {
              "marker.color": [
               [
                "#B0BEC5",
                "#B0BEC5",
                "#B0BEC5",
                "#B0BEC5",
                "#B0BEC5",
                "#B0BEC5",
                "#B0BEC5",
                "#B0BEC5",
                "#B0BEC5",
                "red",
                "#B0BEC5",
                "#B0BEC5",
                "#B0BEC5",
                "#B0BEC5",
                "#B0BEC5",
                "#B0BEC5",
                "#B0BEC5",
                "#B0BEC5",
                "#B0BEC5",
                "#B0BEC5",
                "#B0BEC5",
                "#B0BEC5",
                "#B0BEC5"
               ]
              ]
             }
            ],
            "label": "Topic 9",
            "method": "update"
           },
           {
            "args": [
             {
              "marker.color": [
               [
                "#B0BEC5",
                "#B0BEC5",
                "#B0BEC5",
                "#B0BEC5",
                "#B0BEC5",
                "#B0BEC5",
                "#B0BEC5",
                "#B0BEC5",
                "#B0BEC5",
                "#B0BEC5",
                "red",
                "#B0BEC5",
                "#B0BEC5",
                "#B0BEC5",
                "#B0BEC5",
                "#B0BEC5",
                "#B0BEC5",
                "#B0BEC5",
                "#B0BEC5",
                "#B0BEC5",
                "#B0BEC5",
                "#B0BEC5",
                "#B0BEC5"
               ]
              ]
             }
            ],
            "label": "Topic 10",
            "method": "update"
           },
           {
            "args": [
             {
              "marker.color": [
               [
                "#B0BEC5",
                "#B0BEC5",
                "#B0BEC5",
                "#B0BEC5",
                "#B0BEC5",
                "#B0BEC5",
                "#B0BEC5",
                "#B0BEC5",
                "#B0BEC5",
                "#B0BEC5",
                "#B0BEC5",
                "red",
                "#B0BEC5",
                "#B0BEC5",
                "#B0BEC5",
                "#B0BEC5",
                "#B0BEC5",
                "#B0BEC5",
                "#B0BEC5",
                "#B0BEC5",
                "#B0BEC5",
                "#B0BEC5",
                "#B0BEC5"
               ]
              ]
             }
            ],
            "label": "Topic 11",
            "method": "update"
           },
           {
            "args": [
             {
              "marker.color": [
               [
                "#B0BEC5",
                "#B0BEC5",
                "#B0BEC5",
                "#B0BEC5",
                "#B0BEC5",
                "#B0BEC5",
                "#B0BEC5",
                "#B0BEC5",
                "#B0BEC5",
                "#B0BEC5",
                "#B0BEC5",
                "#B0BEC5",
                "red",
                "#B0BEC5",
                "#B0BEC5",
                "#B0BEC5",
                "#B0BEC5",
                "#B0BEC5",
                "#B0BEC5",
                "#B0BEC5",
                "#B0BEC5",
                "#B0BEC5",
                "#B0BEC5"
               ]
              ]
             }
            ],
            "label": "Topic 12",
            "method": "update"
           },
           {
            "args": [
             {
              "marker.color": [
               [
                "#B0BEC5",
                "#B0BEC5",
                "#B0BEC5",
                "#B0BEC5",
                "#B0BEC5",
                "#B0BEC5",
                "#B0BEC5",
                "#B0BEC5",
                "#B0BEC5",
                "#B0BEC5",
                "#B0BEC5",
                "#B0BEC5",
                "#B0BEC5",
                "red",
                "#B0BEC5",
                "#B0BEC5",
                "#B0BEC5",
                "#B0BEC5",
                "#B0BEC5",
                "#B0BEC5",
                "#B0BEC5",
                "#B0BEC5",
                "#B0BEC5"
               ]
              ]
             }
            ],
            "label": "Topic 13",
            "method": "update"
           },
           {
            "args": [
             {
              "marker.color": [
               [
                "#B0BEC5",
                "#B0BEC5",
                "#B0BEC5",
                "#B0BEC5",
                "#B0BEC5",
                "#B0BEC5",
                "#B0BEC5",
                "#B0BEC5",
                "#B0BEC5",
                "#B0BEC5",
                "#B0BEC5",
                "#B0BEC5",
                "#B0BEC5",
                "#B0BEC5",
                "red",
                "#B0BEC5",
                "#B0BEC5",
                "#B0BEC5",
                "#B0BEC5",
                "#B0BEC5",
                "#B0BEC5",
                "#B0BEC5",
                "#B0BEC5"
               ]
              ]
             }
            ],
            "label": "Topic 14",
            "method": "update"
           },
           {
            "args": [
             {
              "marker.color": [
               [
                "#B0BEC5",
                "#B0BEC5",
                "#B0BEC5",
                "#B0BEC5",
                "#B0BEC5",
                "#B0BEC5",
                "#B0BEC5",
                "#B0BEC5",
                "#B0BEC5",
                "#B0BEC5",
                "#B0BEC5",
                "#B0BEC5",
                "#B0BEC5",
                "#B0BEC5",
                "#B0BEC5",
                "red",
                "#B0BEC5",
                "#B0BEC5",
                "#B0BEC5",
                "#B0BEC5",
                "#B0BEC5",
                "#B0BEC5",
                "#B0BEC5"
               ]
              ]
             }
            ],
            "label": "Topic 15",
            "method": "update"
           },
           {
            "args": [
             {
              "marker.color": [
               [
                "#B0BEC5",
                "#B0BEC5",
                "#B0BEC5",
                "#B0BEC5",
                "#B0BEC5",
                "#B0BEC5",
                "#B0BEC5",
                "#B0BEC5",
                "#B0BEC5",
                "#B0BEC5",
                "#B0BEC5",
                "#B0BEC5",
                "#B0BEC5",
                "#B0BEC5",
                "#B0BEC5",
                "#B0BEC5",
                "red",
                "#B0BEC5",
                "#B0BEC5",
                "#B0BEC5",
                "#B0BEC5",
                "#B0BEC5",
                "#B0BEC5"
               ]
              ]
             }
            ],
            "label": "Topic 16",
            "method": "update"
           },
           {
            "args": [
             {
              "marker.color": [
               [
                "#B0BEC5",
                "#B0BEC5",
                "#B0BEC5",
                "#B0BEC5",
                "#B0BEC5",
                "#B0BEC5",
                "#B0BEC5",
                "#B0BEC5",
                "#B0BEC5",
                "#B0BEC5",
                "#B0BEC5",
                "#B0BEC5",
                "#B0BEC5",
                "#B0BEC5",
                "#B0BEC5",
                "#B0BEC5",
                "#B0BEC5",
                "red",
                "#B0BEC5",
                "#B0BEC5",
                "#B0BEC5",
                "#B0BEC5",
                "#B0BEC5"
               ]
              ]
             }
            ],
            "label": "Topic 17",
            "method": "update"
           },
           {
            "args": [
             {
              "marker.color": [
               [
                "#B0BEC5",
                "#B0BEC5",
                "#B0BEC5",
                "#B0BEC5",
                "#B0BEC5",
                "#B0BEC5",
                "#B0BEC5",
                "#B0BEC5",
                "#B0BEC5",
                "#B0BEC5",
                "#B0BEC5",
                "#B0BEC5",
                "#B0BEC5",
                "#B0BEC5",
                "#B0BEC5",
                "#B0BEC5",
                "#B0BEC5",
                "#B0BEC5",
                "red",
                "#B0BEC5",
                "#B0BEC5",
                "#B0BEC5",
                "#B0BEC5"
               ]
              ]
             }
            ],
            "label": "Topic 18",
            "method": "update"
           },
           {
            "args": [
             {
              "marker.color": [
               [
                "#B0BEC5",
                "#B0BEC5",
                "#B0BEC5",
                "#B0BEC5",
                "#B0BEC5",
                "#B0BEC5",
                "#B0BEC5",
                "#B0BEC5",
                "#B0BEC5",
                "#B0BEC5",
                "#B0BEC5",
                "#B0BEC5",
                "#B0BEC5",
                "#B0BEC5",
                "#B0BEC5",
                "#B0BEC5",
                "#B0BEC5",
                "#B0BEC5",
                "#B0BEC5",
                "red",
                "#B0BEC5",
                "#B0BEC5",
                "#B0BEC5"
               ]
              ]
             }
            ],
            "label": "Topic 19",
            "method": "update"
           },
           {
            "args": [
             {
              "marker.color": [
               [
                "#B0BEC5",
                "#B0BEC5",
                "#B0BEC5",
                "#B0BEC5",
                "#B0BEC5",
                "#B0BEC5",
                "#B0BEC5",
                "#B0BEC5",
                "#B0BEC5",
                "#B0BEC5",
                "#B0BEC5",
                "#B0BEC5",
                "#B0BEC5",
                "#B0BEC5",
                "#B0BEC5",
                "#B0BEC5",
                "#B0BEC5",
                "#B0BEC5",
                "#B0BEC5",
                "#B0BEC5",
                "red",
                "#B0BEC5",
                "#B0BEC5"
               ]
              ]
             }
            ],
            "label": "Topic 20",
            "method": "update"
           },
           {
            "args": [
             {
              "marker.color": [
               [
                "#B0BEC5",
                "#B0BEC5",
                "#B0BEC5",
                "#B0BEC5",
                "#B0BEC5",
                "#B0BEC5",
                "#B0BEC5",
                "#B0BEC5",
                "#B0BEC5",
                "#B0BEC5",
                "#B0BEC5",
                "#B0BEC5",
                "#B0BEC5",
                "#B0BEC5",
                "#B0BEC5",
                "#B0BEC5",
                "#B0BEC5",
                "#B0BEC5",
                "#B0BEC5",
                "#B0BEC5",
                "#B0BEC5",
                "red",
                "#B0BEC5"
               ]
              ]
             }
            ],
            "label": "Topic 21",
            "method": "update"
           },
           {
            "args": [
             {
              "marker.color": [
               [
                "#B0BEC5",
                "#B0BEC5",
                "#B0BEC5",
                "#B0BEC5",
                "#B0BEC5",
                "#B0BEC5",
                "#B0BEC5",
                "#B0BEC5",
                "#B0BEC5",
                "#B0BEC5",
                "#B0BEC5",
                "#B0BEC5",
                "#B0BEC5",
                "#B0BEC5",
                "#B0BEC5",
                "#B0BEC5",
                "#B0BEC5",
                "#B0BEC5",
                "#B0BEC5",
                "#B0BEC5",
                "#B0BEC5",
                "#B0BEC5",
                "red"
               ]
              ]
             }
            ],
            "label": "Topic 22",
            "method": "update"
           }
          ]
         }
        ],
        "template": {
         "data": {
          "bar": [
           {
            "error_x": {
             "color": "rgb(36,36,36)"
            },
            "error_y": {
             "color": "rgb(36,36,36)"
            },
            "marker": {
             "line": {
              "color": "white",
              "width": 0.5
             },
             "pattern": {
              "fillmode": "overlay",
              "size": 10,
              "solidity": 0.2
             }
            },
            "type": "bar"
           }
          ],
          "barpolar": [
           {
            "marker": {
             "line": {
              "color": "white",
              "width": 0.5
             },
             "pattern": {
              "fillmode": "overlay",
              "size": 10,
              "solidity": 0.2
             }
            },
            "type": "barpolar"
           }
          ],
          "carpet": [
           {
            "aaxis": {
             "endlinecolor": "rgb(36,36,36)",
             "gridcolor": "white",
             "linecolor": "white",
             "minorgridcolor": "white",
             "startlinecolor": "rgb(36,36,36)"
            },
            "baxis": {
             "endlinecolor": "rgb(36,36,36)",
             "gridcolor": "white",
             "linecolor": "white",
             "minorgridcolor": "white",
             "startlinecolor": "rgb(36,36,36)"
            },
            "type": "carpet"
           }
          ],
          "choropleth": [
           {
            "colorbar": {
             "outlinewidth": 1,
             "tickcolor": "rgb(36,36,36)",
             "ticks": "outside"
            },
            "type": "choropleth"
           }
          ],
          "contour": [
           {
            "colorbar": {
             "outlinewidth": 1,
             "tickcolor": "rgb(36,36,36)",
             "ticks": "outside"
            },
            "colorscale": [
             [
              0,
              "#440154"
             ],
             [
              0.1111111111111111,
              "#482878"
             ],
             [
              0.2222222222222222,
              "#3e4989"
             ],
             [
              0.3333333333333333,
              "#31688e"
             ],
             [
              0.4444444444444444,
              "#26828e"
             ],
             [
              0.5555555555555556,
              "#1f9e89"
             ],
             [
              0.6666666666666666,
              "#35b779"
             ],
             [
              0.7777777777777778,
              "#6ece58"
             ],
             [
              0.8888888888888888,
              "#b5de2b"
             ],
             [
              1,
              "#fde725"
             ]
            ],
            "type": "contour"
           }
          ],
          "contourcarpet": [
           {
            "colorbar": {
             "outlinewidth": 1,
             "tickcolor": "rgb(36,36,36)",
             "ticks": "outside"
            },
            "type": "contourcarpet"
           }
          ],
          "heatmap": [
           {
            "colorbar": {
             "outlinewidth": 1,
             "tickcolor": "rgb(36,36,36)",
             "ticks": "outside"
            },
            "colorscale": [
             [
              0,
              "#440154"
             ],
             [
              0.1111111111111111,
              "#482878"
             ],
             [
              0.2222222222222222,
              "#3e4989"
             ],
             [
              0.3333333333333333,
              "#31688e"
             ],
             [
              0.4444444444444444,
              "#26828e"
             ],
             [
              0.5555555555555556,
              "#1f9e89"
             ],
             [
              0.6666666666666666,
              "#35b779"
             ],
             [
              0.7777777777777778,
              "#6ece58"
             ],
             [
              0.8888888888888888,
              "#b5de2b"
             ],
             [
              1,
              "#fde725"
             ]
            ],
            "type": "heatmap"
           }
          ],
          "heatmapgl": [
           {
            "colorbar": {
             "outlinewidth": 1,
             "tickcolor": "rgb(36,36,36)",
             "ticks": "outside"
            },
            "colorscale": [
             [
              0,
              "#440154"
             ],
             [
              0.1111111111111111,
              "#482878"
             ],
             [
              0.2222222222222222,
              "#3e4989"
             ],
             [
              0.3333333333333333,
              "#31688e"
             ],
             [
              0.4444444444444444,
              "#26828e"
             ],
             [
              0.5555555555555556,
              "#1f9e89"
             ],
             [
              0.6666666666666666,
              "#35b779"
             ],
             [
              0.7777777777777778,
              "#6ece58"
             ],
             [
              0.8888888888888888,
              "#b5de2b"
             ],
             [
              1,
              "#fde725"
             ]
            ],
            "type": "heatmapgl"
           }
          ],
          "histogram": [
           {
            "marker": {
             "line": {
              "color": "white",
              "width": 0.6
             }
            },
            "type": "histogram"
           }
          ],
          "histogram2d": [
           {
            "colorbar": {
             "outlinewidth": 1,
             "tickcolor": "rgb(36,36,36)",
             "ticks": "outside"
            },
            "colorscale": [
             [
              0,
              "#440154"
             ],
             [
              0.1111111111111111,
              "#482878"
             ],
             [
              0.2222222222222222,
              "#3e4989"
             ],
             [
              0.3333333333333333,
              "#31688e"
             ],
             [
              0.4444444444444444,
              "#26828e"
             ],
             [
              0.5555555555555556,
              "#1f9e89"
             ],
             [
              0.6666666666666666,
              "#35b779"
             ],
             [
              0.7777777777777778,
              "#6ece58"
             ],
             [
              0.8888888888888888,
              "#b5de2b"
             ],
             [
              1,
              "#fde725"
             ]
            ],
            "type": "histogram2d"
           }
          ],
          "histogram2dcontour": [
           {
            "colorbar": {
             "outlinewidth": 1,
             "tickcolor": "rgb(36,36,36)",
             "ticks": "outside"
            },
            "colorscale": [
             [
              0,
              "#440154"
             ],
             [
              0.1111111111111111,
              "#482878"
             ],
             [
              0.2222222222222222,
              "#3e4989"
             ],
             [
              0.3333333333333333,
              "#31688e"
             ],
             [
              0.4444444444444444,
              "#26828e"
             ],
             [
              0.5555555555555556,
              "#1f9e89"
             ],
             [
              0.6666666666666666,
              "#35b779"
             ],
             [
              0.7777777777777778,
              "#6ece58"
             ],
             [
              0.8888888888888888,
              "#b5de2b"
             ],
             [
              1,
              "#fde725"
             ]
            ],
            "type": "histogram2dcontour"
           }
          ],
          "mesh3d": [
           {
            "colorbar": {
             "outlinewidth": 1,
             "tickcolor": "rgb(36,36,36)",
             "ticks": "outside"
            },
            "type": "mesh3d"
           }
          ],
          "parcoords": [
           {
            "line": {
             "colorbar": {
              "outlinewidth": 1,
              "tickcolor": "rgb(36,36,36)",
              "ticks": "outside"
             }
            },
            "type": "parcoords"
           }
          ],
          "pie": [
           {
            "automargin": true,
            "type": "pie"
           }
          ],
          "scatter": [
           {
            "fillpattern": {
             "fillmode": "overlay",
             "size": 10,
             "solidity": 0.2
            },
            "type": "scatter"
           }
          ],
          "scatter3d": [
           {
            "line": {
             "colorbar": {
              "outlinewidth": 1,
              "tickcolor": "rgb(36,36,36)",
              "ticks": "outside"
             }
            },
            "marker": {
             "colorbar": {
              "outlinewidth": 1,
              "tickcolor": "rgb(36,36,36)",
              "ticks": "outside"
             }
            },
            "type": "scatter3d"
           }
          ],
          "scattercarpet": [
           {
            "marker": {
             "colorbar": {
              "outlinewidth": 1,
              "tickcolor": "rgb(36,36,36)",
              "ticks": "outside"
             }
            },
            "type": "scattercarpet"
           }
          ],
          "scattergeo": [
           {
            "marker": {
             "colorbar": {
              "outlinewidth": 1,
              "tickcolor": "rgb(36,36,36)",
              "ticks": "outside"
             }
            },
            "type": "scattergeo"
           }
          ],
          "scattergl": [
           {
            "marker": {
             "colorbar": {
              "outlinewidth": 1,
              "tickcolor": "rgb(36,36,36)",
              "ticks": "outside"
             }
            },
            "type": "scattergl"
           }
          ],
          "scattermapbox": [
           {
            "marker": {
             "colorbar": {
              "outlinewidth": 1,
              "tickcolor": "rgb(36,36,36)",
              "ticks": "outside"
             }
            },
            "type": "scattermapbox"
           }
          ],
          "scatterpolar": [
           {
            "marker": {
             "colorbar": {
              "outlinewidth": 1,
              "tickcolor": "rgb(36,36,36)",
              "ticks": "outside"
             }
            },
            "type": "scatterpolar"
           }
          ],
          "scatterpolargl": [
           {
            "marker": {
             "colorbar": {
              "outlinewidth": 1,
              "tickcolor": "rgb(36,36,36)",
              "ticks": "outside"
             }
            },
            "type": "scatterpolargl"
           }
          ],
          "scatterternary": [
           {
            "marker": {
             "colorbar": {
              "outlinewidth": 1,
              "tickcolor": "rgb(36,36,36)",
              "ticks": "outside"
             }
            },
            "type": "scatterternary"
           }
          ],
          "surface": [
           {
            "colorbar": {
             "outlinewidth": 1,
             "tickcolor": "rgb(36,36,36)",
             "ticks": "outside"
            },
            "colorscale": [
             [
              0,
              "#440154"
             ],
             [
              0.1111111111111111,
              "#482878"
             ],
             [
              0.2222222222222222,
              "#3e4989"
             ],
             [
              0.3333333333333333,
              "#31688e"
             ],
             [
              0.4444444444444444,
              "#26828e"
             ],
             [
              0.5555555555555556,
              "#1f9e89"
             ],
             [
              0.6666666666666666,
              "#35b779"
             ],
             [
              0.7777777777777778,
              "#6ece58"
             ],
             [
              0.8888888888888888,
              "#b5de2b"
             ],
             [
              1,
              "#fde725"
             ]
            ],
            "type": "surface"
           }
          ],
          "table": [
           {
            "cells": {
             "fill": {
              "color": "rgb(237,237,237)"
             },
             "line": {
              "color": "white"
             }
            },
            "header": {
             "fill": {
              "color": "rgb(217,217,217)"
             },
             "line": {
              "color": "white"
             }
            },
            "type": "table"
           }
          ]
         },
         "layout": {
          "annotationdefaults": {
           "arrowhead": 0,
           "arrowwidth": 1
          },
          "autotypenumbers": "strict",
          "coloraxis": {
           "colorbar": {
            "outlinewidth": 1,
            "tickcolor": "rgb(36,36,36)",
            "ticks": "outside"
           }
          },
          "colorscale": {
           "diverging": [
            [
             0,
             "rgb(103,0,31)"
            ],
            [
             0.1,
             "rgb(178,24,43)"
            ],
            [
             0.2,
             "rgb(214,96,77)"
            ],
            [
             0.3,
             "rgb(244,165,130)"
            ],
            [
             0.4,
             "rgb(253,219,199)"
            ],
            [
             0.5,
             "rgb(247,247,247)"
            ],
            [
             0.6,
             "rgb(209,229,240)"
            ],
            [
             0.7,
             "rgb(146,197,222)"
            ],
            [
             0.8,
             "rgb(67,147,195)"
            ],
            [
             0.9,
             "rgb(33,102,172)"
            ],
            [
             1,
             "rgb(5,48,97)"
            ]
           ],
           "sequential": [
            [
             0,
             "#440154"
            ],
            [
             0.1111111111111111,
             "#482878"
            ],
            [
             0.2222222222222222,
             "#3e4989"
            ],
            [
             0.3333333333333333,
             "#31688e"
            ],
            [
             0.4444444444444444,
             "#26828e"
            ],
            [
             0.5555555555555556,
             "#1f9e89"
            ],
            [
             0.6666666666666666,
             "#35b779"
            ],
            [
             0.7777777777777778,
             "#6ece58"
            ],
            [
             0.8888888888888888,
             "#b5de2b"
            ],
            [
             1,
             "#fde725"
            ]
           ],
           "sequentialminus": [
            [
             0,
             "#440154"
            ],
            [
             0.1111111111111111,
             "#482878"
            ],
            [
             0.2222222222222222,
             "#3e4989"
            ],
            [
             0.3333333333333333,
             "#31688e"
            ],
            [
             0.4444444444444444,
             "#26828e"
            ],
            [
             0.5555555555555556,
             "#1f9e89"
            ],
            [
             0.6666666666666666,
             "#35b779"
            ],
            [
             0.7777777777777778,
             "#6ece58"
            ],
            [
             0.8888888888888888,
             "#b5de2b"
            ],
            [
             1,
             "#fde725"
            ]
           ]
          },
          "colorway": [
           "#1F77B4",
           "#FF7F0E",
           "#2CA02C",
           "#D62728",
           "#9467BD",
           "#8C564B",
           "#E377C2",
           "#7F7F7F",
           "#BCBD22",
           "#17BECF"
          ],
          "font": {
           "color": "rgb(36,36,36)"
          },
          "geo": {
           "bgcolor": "white",
           "lakecolor": "white",
           "landcolor": "white",
           "showlakes": true,
           "showland": true,
           "subunitcolor": "white"
          },
          "hoverlabel": {
           "align": "left"
          },
          "hovermode": "closest",
          "mapbox": {
           "style": "light"
          },
          "paper_bgcolor": "white",
          "plot_bgcolor": "white",
          "polar": {
           "angularaxis": {
            "gridcolor": "rgb(232,232,232)",
            "linecolor": "rgb(36,36,36)",
            "showgrid": false,
            "showline": true,
            "ticks": "outside"
           },
           "bgcolor": "white",
           "radialaxis": {
            "gridcolor": "rgb(232,232,232)",
            "linecolor": "rgb(36,36,36)",
            "showgrid": false,
            "showline": true,
            "ticks": "outside"
           }
          },
          "scene": {
           "xaxis": {
            "backgroundcolor": "white",
            "gridcolor": "rgb(232,232,232)",
            "gridwidth": 2,
            "linecolor": "rgb(36,36,36)",
            "showbackground": true,
            "showgrid": false,
            "showline": true,
            "ticks": "outside",
            "zeroline": false,
            "zerolinecolor": "rgb(36,36,36)"
           },
           "yaxis": {
            "backgroundcolor": "white",
            "gridcolor": "rgb(232,232,232)",
            "gridwidth": 2,
            "linecolor": "rgb(36,36,36)",
            "showbackground": true,
            "showgrid": false,
            "showline": true,
            "ticks": "outside",
            "zeroline": false,
            "zerolinecolor": "rgb(36,36,36)"
           },
           "zaxis": {
            "backgroundcolor": "white",
            "gridcolor": "rgb(232,232,232)",
            "gridwidth": 2,
            "linecolor": "rgb(36,36,36)",
            "showbackground": true,
            "showgrid": false,
            "showline": true,
            "ticks": "outside",
            "zeroline": false,
            "zerolinecolor": "rgb(36,36,36)"
           }
          },
          "shapedefaults": {
           "fillcolor": "black",
           "line": {
            "width": 0
           },
           "opacity": 0.3
          },
          "ternary": {
           "aaxis": {
            "gridcolor": "rgb(232,232,232)",
            "linecolor": "rgb(36,36,36)",
            "showgrid": false,
            "showline": true,
            "ticks": "outside"
           },
           "baxis": {
            "gridcolor": "rgb(232,232,232)",
            "linecolor": "rgb(36,36,36)",
            "showgrid": false,
            "showline": true,
            "ticks": "outside"
           },
           "bgcolor": "white",
           "caxis": {
            "gridcolor": "rgb(232,232,232)",
            "linecolor": "rgb(36,36,36)",
            "showgrid": false,
            "showline": true,
            "ticks": "outside"
           }
          },
          "title": {
           "x": 0.05
          },
          "xaxis": {
           "automargin": true,
           "gridcolor": "rgb(232,232,232)",
           "linecolor": "rgb(36,36,36)",
           "showgrid": false,
           "showline": true,
           "ticks": "outside",
           "title": {
            "standoff": 15
           },
           "zeroline": false,
           "zerolinecolor": "rgb(36,36,36)"
          },
          "yaxis": {
           "automargin": true,
           "gridcolor": "rgb(232,232,232)",
           "linecolor": "rgb(36,36,36)",
           "showgrid": false,
           "showline": true,
           "ticks": "outside",
           "title": {
            "standoff": 15
           },
           "zeroline": false,
           "zerolinecolor": "rgb(36,36,36)"
          }
         }
        },
        "title": {
         "font": {
          "color": "Black",
          "size": 22
         },
         "text": "<b>Intertopic Distance Map</b>",
         "x": 0.5,
         "xanchor": "center",
         "y": 0.95,
         "yanchor": "top"
        },
        "width": 650,
        "xaxis": {
         "anchor": "y",
         "domain": [
          0,
          1
         ],
         "range": [
          -3.890927231311798,
          18.13173875808716
         ],
         "title": {
          "text": ""
         },
         "visible": false
        },
        "yaxis": {
         "anchor": "x",
         "domain": [
          0,
          1
         ],
         "range": [
          -7.392079329490661,
          10.872141122817993
         ],
         "title": {
          "text": ""
         },
         "visible": false
        }
       }
      }
     },
     "metadata": {},
     "output_type": "display_data"
    }
   ],
   "source": [
    "topic_model.visualize_topics()"
   ]
  },
  {
   "cell_type": "code",
   "execution_count": 90,
   "metadata": {},
   "outputs": [
    {
     "data": {
      "application/vnd.plotly.v1+json": {
       "config": {
        "plotlyServerURL": "https://plot.ly"
       },
       "data": [
        {
         "marker": {
          "color": "#D55E00"
         },
         "orientation": "h",
         "type": "bar",
         "x": [
          0.01058440955683114,
          0.01059041972945027,
          0.010676069462374333,
          0.012196456080907307,
          0.014332859942979295
         ],
         "xaxis": "x",
         "y": [
          "liebe  ",
          "90  ",
          "grünen  ",
          "spd  ",
          "rat  "
         ],
         "yaxis": "y"
        },
        {
         "marker": {
          "color": "#0072B2"
         },
         "orientation": "h",
         "type": "bar",
         "x": [
          0.04636907573102892,
          0.04727249280626049,
          0.04987757338748589,
          0.05340033412377298,
          0.05514308591925299
         ],
         "xaxis": "x2",
         "y": [
          "beschlossen  ",
          "wortmeldungen  ",
          "tagesordnungspunkt  ",
          "gegenstimmen  ",
          "enthaltungen  "
         ],
         "yaxis": "y2"
        },
        {
         "marker": {
          "color": "#CC79A7"
         },
         "orientation": "h",
         "type": "bar",
         "x": [
          0.021123977600016684,
          0.02155769037720936,
          0.021917783594514555,
          0.022850881088978557,
          0.03338672831101294
         ],
         "xaxis": "x3",
         "y": [
          "afd  ",
          "gibt  ",
          "spd  ",
          "enthaltungen  ",
          "fraktion  "
         ],
         "yaxis": "y3"
        },
        {
         "marker": {
          "color": "#E69F00"
         },
         "orientation": "h",
         "type": "bar",
         "x": [
          0.010884741008840904,
          0.011009259391680853,
          0.011530787033151068,
          0.01546022215503681,
          0.01884083894396004
         ],
         "xaxis": "x4",
         "y": [
          "deutschland  ",
          "immer  ",
          "spd  ",
          "afd  ",
          "menschen  "
         ],
         "yaxis": "y4"
        },
        {
         "marker": {
          "color": "#56B4E9"
         },
         "orientation": "h",
         "type": "bar",
         "x": [
          0.017647294465067482,
          0.01854808507389987,
          0.021102553421732603,
          0.022856575192430957,
          0.02692532033819765
         ],
         "xaxis": "x5",
         "y": [
          "gesamtschulen  ",
          "eltern  ",
          "schule  ",
          "kinder  ",
          "schulen  "
         ],
         "yaxis": "y5"
        },
        {
         "marker": {
          "color": "#009E73"
         },
         "orientation": "h",
         "type": "bar",
         "x": [
          0.010160654744872882,
          0.010544521538336469,
          0.01086707719051299,
          0.011086156891041185,
          0.013652469553298758
         ],
         "xaxis": "x6",
         "y": [
          "bündnis  ",
          "grünen  ",
          "90  ",
          "reker  ",
          "spd  "
         ],
         "yaxis": "y6"
        },
        {
         "marker": {
          "color": "#F0E442"
         },
         "orientation": "h",
         "type": "bar",
         "x": [
          0.014847594832041372,
          0.015628452602049665,
          0.016374615835573602,
          0.016559445322225155,
          0.017283140675119494
         ],
         "xaxis": "x7",
         "y": [
          "kollegen  ",
          "kolleginnen  ",
          "reker  ",
          "henriette  ",
          "liebe  "
         ],
         "yaxis": "y7"
        },
        {
         "marker": {
          "color": "#D55E00"
         },
         "orientation": "h",
         "type": "bar",
         "x": [
          0,
          0,
          0,
          0,
          0.9496393799781799
         ],
         "xaxis": "x8",
         "y": [
          "  ",
          "  ",
          "  ",
          "  ",
          "Sport  "
         ],
         "yaxis": "y8"
        }
       ],
       "layout": {
        "annotations": [
         {
          "font": {
           "size": 16
          },
          "showarrow": false,
          "text": "Topic 0",
          "x": 0.0875,
          "xanchor": "center",
          "xref": "paper",
          "y": 1,
          "yanchor": "bottom",
          "yref": "paper"
         },
         {
          "font": {
           "size": 16
          },
          "showarrow": false,
          "text": "Topic 1",
          "x": 0.36250000000000004,
          "xanchor": "center",
          "xref": "paper",
          "y": 1,
          "yanchor": "bottom",
          "yref": "paper"
         },
         {
          "font": {
           "size": 16
          },
          "showarrow": false,
          "text": "Topic 2",
          "x": 0.6375000000000001,
          "xanchor": "center",
          "xref": "paper",
          "y": 1,
          "yanchor": "bottom",
          "yref": "paper"
         },
         {
          "font": {
           "size": 16
          },
          "showarrow": false,
          "text": "Topic 3",
          "x": 0.9125,
          "xanchor": "center",
          "xref": "paper",
          "y": 1,
          "yanchor": "bottom",
          "yref": "paper"
         },
         {
          "font": {
           "size": 16
          },
          "showarrow": false,
          "text": "Topic 4",
          "x": 0.0875,
          "xanchor": "center",
          "xref": "paper",
          "y": 0.4,
          "yanchor": "bottom",
          "yref": "paper"
         },
         {
          "font": {
           "size": 16
          },
          "showarrow": false,
          "text": "Topic 5",
          "x": 0.36250000000000004,
          "xanchor": "center",
          "xref": "paper",
          "y": 0.4,
          "yanchor": "bottom",
          "yref": "paper"
         },
         {
          "font": {
           "size": 16
          },
          "showarrow": false,
          "text": "Topic 6",
          "x": 0.6375000000000001,
          "xanchor": "center",
          "xref": "paper",
          "y": 0.4,
          "yanchor": "bottom",
          "yref": "paper"
         },
         {
          "font": {
           "size": 16
          },
          "showarrow": false,
          "text": "Topic 7",
          "x": 0.9125,
          "xanchor": "center",
          "xref": "paper",
          "y": 0.4,
          "yanchor": "bottom",
          "yref": "paper"
         }
        ],
        "height": 500,
        "hoverlabel": {
         "bgcolor": "white",
         "font": {
          "family": "Rockwell",
          "size": 16
         }
        },
        "showlegend": false,
        "template": {
         "data": {
          "bar": [
           {
            "error_x": {
             "color": "#2a3f5f"
            },
            "error_y": {
             "color": "#2a3f5f"
            },
            "marker": {
             "line": {
              "color": "white",
              "width": 0.5
             },
             "pattern": {
              "fillmode": "overlay",
              "size": 10,
              "solidity": 0.2
             }
            },
            "type": "bar"
           }
          ],
          "barpolar": [
           {
            "marker": {
             "line": {
              "color": "white",
              "width": 0.5
             },
             "pattern": {
              "fillmode": "overlay",
              "size": 10,
              "solidity": 0.2
             }
            },
            "type": "barpolar"
           }
          ],
          "carpet": [
           {
            "aaxis": {
             "endlinecolor": "#2a3f5f",
             "gridcolor": "#C8D4E3",
             "linecolor": "#C8D4E3",
             "minorgridcolor": "#C8D4E3",
             "startlinecolor": "#2a3f5f"
            },
            "baxis": {
             "endlinecolor": "#2a3f5f",
             "gridcolor": "#C8D4E3",
             "linecolor": "#C8D4E3",
             "minorgridcolor": "#C8D4E3",
             "startlinecolor": "#2a3f5f"
            },
            "type": "carpet"
           }
          ],
          "choropleth": [
           {
            "colorbar": {
             "outlinewidth": 0,
             "ticks": ""
            },
            "type": "choropleth"
           }
          ],
          "contour": [
           {
            "colorbar": {
             "outlinewidth": 0,
             "ticks": ""
            },
            "colorscale": [
             [
              0,
              "#0d0887"
             ],
             [
              0.1111111111111111,
              "#46039f"
             ],
             [
              0.2222222222222222,
              "#7201a8"
             ],
             [
              0.3333333333333333,
              "#9c179e"
             ],
             [
              0.4444444444444444,
              "#bd3786"
             ],
             [
              0.5555555555555556,
              "#d8576b"
             ],
             [
              0.6666666666666666,
              "#ed7953"
             ],
             [
              0.7777777777777778,
              "#fb9f3a"
             ],
             [
              0.8888888888888888,
              "#fdca26"
             ],
             [
              1,
              "#f0f921"
             ]
            ],
            "type": "contour"
           }
          ],
          "contourcarpet": [
           {
            "colorbar": {
             "outlinewidth": 0,
             "ticks": ""
            },
            "type": "contourcarpet"
           }
          ],
          "heatmap": [
           {
            "colorbar": {
             "outlinewidth": 0,
             "ticks": ""
            },
            "colorscale": [
             [
              0,
              "#0d0887"
             ],
             [
              0.1111111111111111,
              "#46039f"
             ],
             [
              0.2222222222222222,
              "#7201a8"
             ],
             [
              0.3333333333333333,
              "#9c179e"
             ],
             [
              0.4444444444444444,
              "#bd3786"
             ],
             [
              0.5555555555555556,
              "#d8576b"
             ],
             [
              0.6666666666666666,
              "#ed7953"
             ],
             [
              0.7777777777777778,
              "#fb9f3a"
             ],
             [
              0.8888888888888888,
              "#fdca26"
             ],
             [
              1,
              "#f0f921"
             ]
            ],
            "type": "heatmap"
           }
          ],
          "heatmapgl": [
           {
            "colorbar": {
             "outlinewidth": 0,
             "ticks": ""
            },
            "colorscale": [
             [
              0,
              "#0d0887"
             ],
             [
              0.1111111111111111,
              "#46039f"
             ],
             [
              0.2222222222222222,
              "#7201a8"
             ],
             [
              0.3333333333333333,
              "#9c179e"
             ],
             [
              0.4444444444444444,
              "#bd3786"
             ],
             [
              0.5555555555555556,
              "#d8576b"
             ],
             [
              0.6666666666666666,
              "#ed7953"
             ],
             [
              0.7777777777777778,
              "#fb9f3a"
             ],
             [
              0.8888888888888888,
              "#fdca26"
             ],
             [
              1,
              "#f0f921"
             ]
            ],
            "type": "heatmapgl"
           }
          ],
          "histogram": [
           {
            "marker": {
             "pattern": {
              "fillmode": "overlay",
              "size": 10,
              "solidity": 0.2
             }
            },
            "type": "histogram"
           }
          ],
          "histogram2d": [
           {
            "colorbar": {
             "outlinewidth": 0,
             "ticks": ""
            },
            "colorscale": [
             [
              0,
              "#0d0887"
             ],
             [
              0.1111111111111111,
              "#46039f"
             ],
             [
              0.2222222222222222,
              "#7201a8"
             ],
             [
              0.3333333333333333,
              "#9c179e"
             ],
             [
              0.4444444444444444,
              "#bd3786"
             ],
             [
              0.5555555555555556,
              "#d8576b"
             ],
             [
              0.6666666666666666,
              "#ed7953"
             ],
             [
              0.7777777777777778,
              "#fb9f3a"
             ],
             [
              0.8888888888888888,
              "#fdca26"
             ],
             [
              1,
              "#f0f921"
             ]
            ],
            "type": "histogram2d"
           }
          ],
          "histogram2dcontour": [
           {
            "colorbar": {
             "outlinewidth": 0,
             "ticks": ""
            },
            "colorscale": [
             [
              0,
              "#0d0887"
             ],
             [
              0.1111111111111111,
              "#46039f"
             ],
             [
              0.2222222222222222,
              "#7201a8"
             ],
             [
              0.3333333333333333,
              "#9c179e"
             ],
             [
              0.4444444444444444,
              "#bd3786"
             ],
             [
              0.5555555555555556,
              "#d8576b"
             ],
             [
              0.6666666666666666,
              "#ed7953"
             ],
             [
              0.7777777777777778,
              "#fb9f3a"
             ],
             [
              0.8888888888888888,
              "#fdca26"
             ],
             [
              1,
              "#f0f921"
             ]
            ],
            "type": "histogram2dcontour"
           }
          ],
          "mesh3d": [
           {
            "colorbar": {
             "outlinewidth": 0,
             "ticks": ""
            },
            "type": "mesh3d"
           }
          ],
          "parcoords": [
           {
            "line": {
             "colorbar": {
              "outlinewidth": 0,
              "ticks": ""
             }
            },
            "type": "parcoords"
           }
          ],
          "pie": [
           {
            "automargin": true,
            "type": "pie"
           }
          ],
          "scatter": [
           {
            "fillpattern": {
             "fillmode": "overlay",
             "size": 10,
             "solidity": 0.2
            },
            "type": "scatter"
           }
          ],
          "scatter3d": [
           {
            "line": {
             "colorbar": {
              "outlinewidth": 0,
              "ticks": ""
             }
            },
            "marker": {
             "colorbar": {
              "outlinewidth": 0,
              "ticks": ""
             }
            },
            "type": "scatter3d"
           }
          ],
          "scattercarpet": [
           {
            "marker": {
             "colorbar": {
              "outlinewidth": 0,
              "ticks": ""
             }
            },
            "type": "scattercarpet"
           }
          ],
          "scattergeo": [
           {
            "marker": {
             "colorbar": {
              "outlinewidth": 0,
              "ticks": ""
             }
            },
            "type": "scattergeo"
           }
          ],
          "scattergl": [
           {
            "marker": {
             "colorbar": {
              "outlinewidth": 0,
              "ticks": ""
             }
            },
            "type": "scattergl"
           }
          ],
          "scattermapbox": [
           {
            "marker": {
             "colorbar": {
              "outlinewidth": 0,
              "ticks": ""
             }
            },
            "type": "scattermapbox"
           }
          ],
          "scatterpolar": [
           {
            "marker": {
             "colorbar": {
              "outlinewidth": 0,
              "ticks": ""
             }
            },
            "type": "scatterpolar"
           }
          ],
          "scatterpolargl": [
           {
            "marker": {
             "colorbar": {
              "outlinewidth": 0,
              "ticks": ""
             }
            },
            "type": "scatterpolargl"
           }
          ],
          "scatterternary": [
           {
            "marker": {
             "colorbar": {
              "outlinewidth": 0,
              "ticks": ""
             }
            },
            "type": "scatterternary"
           }
          ],
          "surface": [
           {
            "colorbar": {
             "outlinewidth": 0,
             "ticks": ""
            },
            "colorscale": [
             [
              0,
              "#0d0887"
             ],
             [
              0.1111111111111111,
              "#46039f"
             ],
             [
              0.2222222222222222,
              "#7201a8"
             ],
             [
              0.3333333333333333,
              "#9c179e"
             ],
             [
              0.4444444444444444,
              "#bd3786"
             ],
             [
              0.5555555555555556,
              "#d8576b"
             ],
             [
              0.6666666666666666,
              "#ed7953"
             ],
             [
              0.7777777777777778,
              "#fb9f3a"
             ],
             [
              0.8888888888888888,
              "#fdca26"
             ],
             [
              1,
              "#f0f921"
             ]
            ],
            "type": "surface"
           }
          ],
          "table": [
           {
            "cells": {
             "fill": {
              "color": "#EBF0F8"
             },
             "line": {
              "color": "white"
             }
            },
            "header": {
             "fill": {
              "color": "#C8D4E3"
             },
             "line": {
              "color": "white"
             }
            },
            "type": "table"
           }
          ]
         },
         "layout": {
          "annotationdefaults": {
           "arrowcolor": "#2a3f5f",
           "arrowhead": 0,
           "arrowwidth": 1
          },
          "autotypenumbers": "strict",
          "coloraxis": {
           "colorbar": {
            "outlinewidth": 0,
            "ticks": ""
           }
          },
          "colorscale": {
           "diverging": [
            [
             0,
             "#8e0152"
            ],
            [
             0.1,
             "#c51b7d"
            ],
            [
             0.2,
             "#de77ae"
            ],
            [
             0.3,
             "#f1b6da"
            ],
            [
             0.4,
             "#fde0ef"
            ],
            [
             0.5,
             "#f7f7f7"
            ],
            [
             0.6,
             "#e6f5d0"
            ],
            [
             0.7,
             "#b8e186"
            ],
            [
             0.8,
             "#7fbc41"
            ],
            [
             0.9,
             "#4d9221"
            ],
            [
             1,
             "#276419"
            ]
           ],
           "sequential": [
            [
             0,
             "#0d0887"
            ],
            [
             0.1111111111111111,
             "#46039f"
            ],
            [
             0.2222222222222222,
             "#7201a8"
            ],
            [
             0.3333333333333333,
             "#9c179e"
            ],
            [
             0.4444444444444444,
             "#bd3786"
            ],
            [
             0.5555555555555556,
             "#d8576b"
            ],
            [
             0.6666666666666666,
             "#ed7953"
            ],
            [
             0.7777777777777778,
             "#fb9f3a"
            ],
            [
             0.8888888888888888,
             "#fdca26"
            ],
            [
             1,
             "#f0f921"
            ]
           ],
           "sequentialminus": [
            [
             0,
             "#0d0887"
            ],
            [
             0.1111111111111111,
             "#46039f"
            ],
            [
             0.2222222222222222,
             "#7201a8"
            ],
            [
             0.3333333333333333,
             "#9c179e"
            ],
            [
             0.4444444444444444,
             "#bd3786"
            ],
            [
             0.5555555555555556,
             "#d8576b"
            ],
            [
             0.6666666666666666,
             "#ed7953"
            ],
            [
             0.7777777777777778,
             "#fb9f3a"
            ],
            [
             0.8888888888888888,
             "#fdca26"
            ],
            [
             1,
             "#f0f921"
            ]
           ]
          },
          "colorway": [
           "#636efa",
           "#EF553B",
           "#00cc96",
           "#ab63fa",
           "#FFA15A",
           "#19d3f3",
           "#FF6692",
           "#B6E880",
           "#FF97FF",
           "#FECB52"
          ],
          "font": {
           "color": "#2a3f5f"
          },
          "geo": {
           "bgcolor": "white",
           "lakecolor": "white",
           "landcolor": "white",
           "showlakes": true,
           "showland": true,
           "subunitcolor": "#C8D4E3"
          },
          "hoverlabel": {
           "align": "left"
          },
          "hovermode": "closest",
          "mapbox": {
           "style": "light"
          },
          "paper_bgcolor": "white",
          "plot_bgcolor": "white",
          "polar": {
           "angularaxis": {
            "gridcolor": "#EBF0F8",
            "linecolor": "#EBF0F8",
            "ticks": ""
           },
           "bgcolor": "white",
           "radialaxis": {
            "gridcolor": "#EBF0F8",
            "linecolor": "#EBF0F8",
            "ticks": ""
           }
          },
          "scene": {
           "xaxis": {
            "backgroundcolor": "white",
            "gridcolor": "#DFE8F3",
            "gridwidth": 2,
            "linecolor": "#EBF0F8",
            "showbackground": true,
            "ticks": "",
            "zerolinecolor": "#EBF0F8"
           },
           "yaxis": {
            "backgroundcolor": "white",
            "gridcolor": "#DFE8F3",
            "gridwidth": 2,
            "linecolor": "#EBF0F8",
            "showbackground": true,
            "ticks": "",
            "zerolinecolor": "#EBF0F8"
           },
           "zaxis": {
            "backgroundcolor": "white",
            "gridcolor": "#DFE8F3",
            "gridwidth": 2,
            "linecolor": "#EBF0F8",
            "showbackground": true,
            "ticks": "",
            "zerolinecolor": "#EBF0F8"
           }
          },
          "shapedefaults": {
           "line": {
            "color": "#2a3f5f"
           }
          },
          "ternary": {
           "aaxis": {
            "gridcolor": "#DFE8F3",
            "linecolor": "#A2B1C6",
            "ticks": ""
           },
           "baxis": {
            "gridcolor": "#DFE8F3",
            "linecolor": "#A2B1C6",
            "ticks": ""
           },
           "bgcolor": "white",
           "caxis": {
            "gridcolor": "#DFE8F3",
            "linecolor": "#A2B1C6",
            "ticks": ""
           }
          },
          "title": {
           "x": 0.05
          },
          "xaxis": {
           "automargin": true,
           "gridcolor": "#EBF0F8",
           "linecolor": "#EBF0F8",
           "ticks": "",
           "title": {
            "standoff": 15
           },
           "zerolinecolor": "#EBF0F8",
           "zerolinewidth": 2
          },
          "yaxis": {
           "automargin": true,
           "gridcolor": "#EBF0F8",
           "linecolor": "#EBF0F8",
           "ticks": "",
           "title": {
            "standoff": 15
           },
           "zerolinecolor": "#EBF0F8",
           "zerolinewidth": 2
          }
         }
        },
        "title": {
         "font": {
          "color": "Black",
          "size": 22
         },
         "text": "Topic Word Scores",
         "x": 0.5,
         "xanchor": "center",
         "yanchor": "top"
        },
        "width": 1000,
        "xaxis": {
         "anchor": "y",
         "domain": [
          0,
          0.175
         ],
         "showgrid": true
        },
        "xaxis2": {
         "anchor": "y2",
         "domain": [
          0.275,
          0.45
         ],
         "showgrid": true
        },
        "xaxis3": {
         "anchor": "y3",
         "domain": [
          0.55,
          0.7250000000000001
         ],
         "showgrid": true
        },
        "xaxis4": {
         "anchor": "y4",
         "domain": [
          0.825,
          1
         ],
         "showgrid": true
        },
        "xaxis5": {
         "anchor": "y5",
         "domain": [
          0,
          0.175
         ],
         "showgrid": true
        },
        "xaxis6": {
         "anchor": "y6",
         "domain": [
          0.275,
          0.45
         ],
         "showgrid": true
        },
        "xaxis7": {
         "anchor": "y7",
         "domain": [
          0.55,
          0.7250000000000001
         ],
         "showgrid": true
        },
        "xaxis8": {
         "anchor": "y8",
         "domain": [
          0.825,
          1
         ],
         "showgrid": true
        },
        "yaxis": {
         "anchor": "x",
         "domain": [
          0.6000000000000001,
          1
         ],
         "showgrid": true
        },
        "yaxis2": {
         "anchor": "x2",
         "domain": [
          0.6000000000000001,
          1
         ],
         "showgrid": true
        },
        "yaxis3": {
         "anchor": "x3",
         "domain": [
          0.6000000000000001,
          1
         ],
         "showgrid": true
        },
        "yaxis4": {
         "anchor": "x4",
         "domain": [
          0.6000000000000001,
          1
         ],
         "showgrid": true
        },
        "yaxis5": {
         "anchor": "x5",
         "domain": [
          0,
          0.4
         ],
         "showgrid": true
        },
        "yaxis6": {
         "anchor": "x6",
         "domain": [
          0,
          0.4
         ],
         "showgrid": true
        },
        "yaxis7": {
         "anchor": "x7",
         "domain": [
          0,
          0.4
         ],
         "showgrid": true
        },
        "yaxis8": {
         "anchor": "x8",
         "domain": [
          0,
          0.4
         ],
         "showgrid": true
        }
       }
      }
     },
     "metadata": {},
     "output_type": "display_data"
    }
   ],
   "source": [
    "topic_model.visualize_barchart()\n"
   ]
  },
  {
   "cell_type": "code",
   "execution_count": 91,
   "metadata": {},
   "outputs": [
    {
     "data": {
      "application/vnd.plotly.v1+json": {
       "config": {
        "plotlyServerURL": "https://plot.ly"
       },
       "data": [
        {
         "coloraxis": "coloraxis",
         "hovertemplate": "x: %{x}<br>y: %{y}<br>Similarity Score: %{z}<extra></extra>",
         "name": "0",
         "type": "heatmap",
         "x": [
          "0_rat_spd_grünen",
          "1_enthaltungen_gegenstimmen...",
          "2_fraktion_enthaltungen_spd",
          "3_menschen_afd_spd",
          "4_schulen_kinder_schule",
          "5_spd_reker_90",
          "6_liebe_henriette_reker",
          "7_Sport__",
          "8_rates_damen_heute",
          "9_vorschlag_gewählt_fraktion",
          "10_henriette_reker_dank",
          "11_Umwelt__",
          "12_linken_rheinenergie_reker",
          "13_spd_chen_be",
          "14_corona_dank_gen",
          "15_tagesordnung_gibt_reihen...",
          "16_geehrte_fdp_cdu",
          "17_reker_henriette_dank",
          "18_pv_klimaschutz_klima",
          "19_gastronomie_gastronomen_...",
          "20_müll_waste_zero",
          "21_gesagt_menschen_90",
          "22_grün_hört_forderungen"
         ],
         "xaxis": "x",
         "y": [
          "0_rat_spd_grünen",
          "1_enthaltungen_gegenstimmen...",
          "2_fraktion_enthaltungen_spd",
          "3_menschen_afd_spd",
          "4_schulen_kinder_schule",
          "5_spd_reker_90",
          "6_liebe_henriette_reker",
          "7_Sport__",
          "8_rates_damen_heute",
          "9_vorschlag_gewählt_fraktion",
          "10_henriette_reker_dank",
          "11_Umwelt__",
          "12_linken_rheinenergie_reker",
          "13_spd_chen_be",
          "14_corona_dank_gen",
          "15_tagesordnung_gibt_reihen...",
          "16_geehrte_fdp_cdu",
          "17_reker_henriette_dank",
          "18_pv_klimaschutz_klima",
          "19_gastronomie_gastronomen_...",
          "20_müll_waste_zero",
          "21_gesagt_menschen_90",
          "22_grün_hört_forderungen"
         ],
         "yaxis": "y",
         "z": [
          [
           1,
           0.8506555557250977,
           0.760622501373291,
           0.8789515495300293,
           0.8611410856246948,
           0.9542214870452881,
           0.8369149565696716,
           0.8796141147613525,
           0.8209419250488281,
           0.7809531688690186,
           0.8538166880607605,
           0.8114569783210754,
           0.7847467660903931,
           0.7630942463874817,
           0.7856752872467041,
           0.7284425497055054,
           0.77286696434021,
           0.7229189276695251,
           0.7227987051010132,
           0.7362363338470459,
           0.8806648254394531,
           0.8372608423233032,
           0.9252579808235168
          ],
          [
           0.8506555557250977,
           1.000000238418579,
           0.8552943468093872,
           0.8450794816017151,
           0.8066138029098511,
           0.8790302872657776,
           0.8319063186645508,
           0.8062576055526733,
           0.8074964880943298,
           0.8399484753608704,
           0.8239308595657349,
           0.8076872825622559,
           0.8099770545959473,
           0.792251706123352,
           0.8130345344543457,
           0.8585306406021118,
           0.7789283394813538,
           0.7724846005439758,
           0.7455210089683533,
           0.7417214512825012,
           0.8488790988922119,
           0.840151309967041,
           0.8511122465133667
          ],
          [
           0.760622501373291,
           0.8552943468093872,
           1.0000001192092896,
           0.8035995960235596,
           0.7714781761169434,
           0.8576319813728333,
           0.8907216787338257,
           0.7451991438865662,
           0.8347132802009583,
           0.859990119934082,
           0.8759078979492188,
           0.7837448716163635,
           0.8828362226486206,
           0.8758995532989502,
           0.8534963130950928,
           0.9019678235054016,
           0.8813585042953491,
           0.8888038396835327,
           0.6796494126319885,
           0.7776744961738586,
           0.7750980854034424,
           0.8263633847236633,
           0.7646462917327881
          ],
          [
           0.8789515495300293,
           0.8450794816017151,
           0.8035995960235596,
           1.000000238418579,
           0.8294099569320679,
           0.9043131470680237,
           0.8451709747314453,
           0.8145462274551392,
           0.7772268056869507,
           0.7816328406333923,
           0.8596841096878052,
           0.8584737777709961,
           0.8759047389030457,
           0.809496283531189,
           0.8246832489967346,
           0.7712942957878113,
           0.8364191055297852,
           0.7629339694976807,
           0.7441199421882629,
           0.7136604189872742,
           0.8836781978607178,
           0.8781585693359375,
           0.8971012830734253
          ],
          [
           0.8611410856246948,
           0.8066138029098511,
           0.7714781761169434,
           0.8294099569320679,
           1,
           0.8989179134368896,
           0.8438347578048706,
           0.8296368718147278,
           0.7780832052230835,
           0.7606396079063416,
           0.8248688578605652,
           0.8072282075881958,
           0.8286478519439697,
           0.7997804880142212,
           0.8157871961593628,
           0.7265385389328003,
           0.8000515103340149,
           0.7445576786994934,
           0.6997153759002686,
           0.7306325435638428,
           0.8447228670120239,
           0.8314328193664551,
           0.8457031846046448
          ],
          [
           0.9542214870452881,
           0.8790302872657776,
           0.8576319813728333,
           0.9043131470680237,
           0.8989179134368896,
           0.9999997615814209,
           0.8896732330322266,
           0.8777132034301758,
           0.8559530377388,
           0.8255990743637085,
           0.9133954048156738,
           0.844101071357727,
           0.8756234645843506,
           0.8690850138664246,
           0.8697428703308105,
           0.8028749823570251,
           0.8431375622749329,
           0.8150935769081116,
           0.7484097480773926,
           0.7805560231208801,
           0.900092363357544,
           0.9005581736564636,
           0.9207818508148193
          ],
          [
           0.8369149565696716,
           0.8319063186645508,
           0.8907216787338257,
           0.8451709747314453,
           0.8438347578048706,
           0.8896732330322266,
           0.9999997615814209,
           0.8111262321472168,
           0.851423978805542,
           0.8143314719200134,
           0.9010186791419983,
           0.8421454429626465,
           0.8648220896720886,
           0.8588002920150757,
           0.8374878764152527,
           0.827366292476654,
           0.9150431752204895,
           0.8948404788970947,
           0.705243706703186,
           0.8229185938835144,
           0.8260338306427002,
           0.8479991555213928,
           0.8155559301376343
          ],
          [
           0.8796141147613525,
           0.8062576055526733,
           0.7451991438865662,
           0.8145462274551392,
           0.8296368718147278,
           0.8777132034301758,
           0.8111262321472168,
           0.9999999403953552,
           0.7780636548995972,
           0.74224853515625,
           0.7997080683708191,
           0.747417688369751,
           0.7496865391731262,
           0.7432537078857422,
           0.7566136717796326,
           0.7137715220451355,
           0.7616548538208008,
           0.7160191535949707,
           0.6758556962013245,
           0.6908507347106934,
           0.8290112018585205,
           0.8120644092559814,
           0.8409683704376221
          ],
          [
           0.8209419250488281,
           0.8074964880943298,
           0.8347132802009583,
           0.7772268056869507,
           0.7780832052230835,
           0.8559530377388,
           0.851423978805542,
           0.7780636548995972,
           0.9999997615814209,
           0.8113746643066406,
           0.842657208442688,
           0.7601860165596008,
           0.8041934967041016,
           0.8027817010879517,
           0.8066011667251587,
           0.7909564971923828,
           0.8620954155921936,
           0.7971304655075073,
           0.6802995800971985,
           0.7702389359474182,
           0.7734552621841431,
           0.7602071762084961,
           0.7653436660766602
          ],
          [
           0.7809531688690186,
           0.8399484753608704,
           0.859990119934082,
           0.7816328406333923,
           0.7606396079063416,
           0.8255990743637085,
           0.8143314719200134,
           0.74224853515625,
           0.8113746643066406,
           1.0000001192092896,
           0.8058950901031494,
           0.7544755339622498,
           0.81903076171875,
           0.7774481177330017,
           0.8204950094223022,
           0.8338264226913452,
           0.7809237837791443,
           0.7854102849960327,
           0.6688081622123718,
           0.7070053815841675,
           0.7819329500198364,
           0.7898027896881104,
           0.7688632011413574
          ],
          [
           0.8538166880607605,
           0.8239308595657349,
           0.8759078979492188,
           0.8596841096878052,
           0.8248688578605652,
           0.9133954048156738,
           0.9010186791419983,
           0.7997080683708191,
           0.842657208442688,
           0.8058950901031494,
           0.9999998807907104,
           0.8129081726074219,
           0.8235839605331421,
           0.9066869020462036,
           0.8426226377487183,
           0.7895582914352417,
           0.8824951648712158,
           0.9228055477142334,
           0.6885402202606201,
           0.7973012924194336,
           0.8203246593475342,
           0.853350818157196,
           0.7979779839515686
          ],
          [
           0.8114569783210754,
           0.8076872825622559,
           0.7837448716163635,
           0.8584737777709961,
           0.8072282075881958,
           0.844101071357727,
           0.8421454429626465,
           0.747417688369751,
           0.7601860165596008,
           0.7544755339622498,
           0.8129081726074219,
           1.000000238418579,
           0.8243086338043213,
           0.7966470122337341,
           0.8125686645507812,
           0.7501883506774902,
           0.7815012335777283,
           0.7534297704696655,
           0.7729546427726746,
           0.697728157043457,
           0.8297029733657837,
           0.8027302622795105,
           0.829687237739563
          ],
          [
           0.7847467660903931,
           0.8099770545959473,
           0.8828362226486206,
           0.8759047389030457,
           0.8286478519439697,
           0.8756234645843506,
           0.8648220896720886,
           0.7496865391731262,
           0.8041934967041016,
           0.81903076171875,
           0.8235839605331421,
           0.8243086338043213,
           1,
           0.8781793713569641,
           0.8980564475059509,
           0.8218601942062378,
           0.868907630443573,
           0.7887808084487915,
           0.7298589944839478,
           0.7661318778991699,
           0.8490822911262512,
           0.8737053871154785,
           0.8393956422805786
          ],
          [
           0.7630942463874817,
           0.792251706123352,
           0.8758995532989502,
           0.809496283531189,
           0.7997804880142212,
           0.8690850138664246,
           0.8588002920150757,
           0.7432537078857422,
           0.8027817010879517,
           0.7774481177330017,
           0.9066869020462036,
           0.7966470122337341,
           0.8781793713569641,
           1.0000001192092896,
           0.8978703618049622,
           0.7933096885681152,
           0.8518471717834473,
           0.8911164999008179,
           0.7159813642501831,
           0.809040367603302,
           0.818402111530304,
           0.8293631076812744,
           0.7442770600318909
          ],
          [
           0.7856752872467041,
           0.8130345344543457,
           0.8534963130950928,
           0.8246832489967346,
           0.8157871961593628,
           0.8697428703308105,
           0.8374878764152527,
           0.7566136717796326,
           0.8066011667251587,
           0.8204950094223022,
           0.8426226377487183,
           0.8125686645507812,
           0.8980564475059509,
           0.8978703618049622,
           0.9999998807907104,
           0.821659505367279,
           0.8162686228752136,
           0.8081669211387634,
           0.770108699798584,
           0.7789456844329834,
           0.8644700646400452,
           0.8866026997566223,
           0.8162240982055664
          ],
          [
           0.7284425497055054,
           0.8585306406021118,
           0.9019678235054016,
           0.7712942957878113,
           0.7265385389328003,
           0.8028749823570251,
           0.827366292476654,
           0.7137715220451355,
           0.7909564971923828,
           0.8338264226913452,
           0.7895582914352417,
           0.7501883506774902,
           0.8218601942062378,
           0.7933096885681152,
           0.821659505367279,
           1.0000001192092896,
           0.79937744140625,
           0.7898672819137573,
           0.6576833724975586,
           0.7156681418418884,
           0.7395915985107422,
           0.7803175449371338,
           0.7355161905288696
          ],
          [
           0.77286696434021,
           0.7789283394813538,
           0.8813585042953491,
           0.8364191055297852,
           0.8000515103340149,
           0.8431375622749329,
           0.9150431752204895,
           0.7616548538208008,
           0.8620954155921936,
           0.7809237837791443,
           0.8824951648712158,
           0.7815012335777283,
           0.868907630443573,
           0.8518471717834473,
           0.8162686228752136,
           0.79937744140625,
           1,
           0.865059494972229,
           0.672085702419281,
           0.799669086933136,
           0.7732911705970764,
           0.7960119247436523,
           0.7429286241531372
          ],
          [
           0.7229189276695251,
           0.7724846005439758,
           0.8888038396835327,
           0.7629339694976807,
           0.7445576786994934,
           0.8150935769081116,
           0.8948404788970947,
           0.7160191535949707,
           0.7971304655075073,
           0.7854102849960327,
           0.9228055477142334,
           0.7534297704696655,
           0.7887808084487915,
           0.8911164999008179,
           0.8081669211387634,
           0.7898672819137573,
           0.865059494972229,
           1,
           0.6268703937530518,
           0.7608925104141235,
           0.7306618690490723,
           0.7725813388824463,
           0.6867006421089172
          ],
          [
           0.7227987051010132,
           0.7455210089683533,
           0.6796494126319885,
           0.7441199421882629,
           0.6997153759002686,
           0.7484097480773926,
           0.705243706703186,
           0.6758556962013245,
           0.6802995800971985,
           0.6688081622123718,
           0.6885402202606201,
           0.7729546427726746,
           0.7298589944839478,
           0.7159813642501831,
           0.770108699798584,
           0.6576833724975586,
           0.672085702419281,
           0.6268703937530518,
           0.9999997615814209,
           0.7106884717941284,
           0.8358386158943176,
           0.726263165473938,
           0.7616534233093262
          ],
          [
           0.7362363338470459,
           0.7417214512825012,
           0.7776744961738586,
           0.7136604189872742,
           0.7306325435638428,
           0.7805560231208801,
           0.8229185938835144,
           0.6908507347106934,
           0.7702389359474182,
           0.7070053815841675,
           0.7973012924194336,
           0.697728157043457,
           0.7661318778991699,
           0.809040367603302,
           0.7789456844329834,
           0.7156681418418884,
           0.799669086933136,
           0.7608925104141235,
           0.7106884717941284,
           0.9999999403953552,
           0.7819827795028687,
           0.7412735223770142,
           0.7205151915550232
          ],
          [
           0.8806648254394531,
           0.8488790988922119,
           0.7750980854034424,
           0.8836781978607178,
           0.8447228670120239,
           0.900092363357544,
           0.8260338306427002,
           0.8290112018585205,
           0.7734552621841431,
           0.7819329500198364,
           0.8203246593475342,
           0.8297029733657837,
           0.8490822911262512,
           0.818402111530304,
           0.8644700646400452,
           0.7395915985107422,
           0.7732911705970764,
           0.7306618690490723,
           0.8358386158943176,
           0.7819827795028687,
           1.000000238418579,
           0.8730595111846924,
           0.9165962934494019
          ],
          [
           0.8372608423233032,
           0.840151309967041,
           0.8263633847236633,
           0.8781585693359375,
           0.8314328193664551,
           0.9005581736564636,
           0.8479991555213928,
           0.8120644092559814,
           0.7602071762084961,
           0.7898027896881104,
           0.853350818157196,
           0.8027302622795105,
           0.8737053871154785,
           0.8293631076812744,
           0.8866026997566223,
           0.7803175449371338,
           0.7960119247436523,
           0.7725813388824463,
           0.726263165473938,
           0.7412735223770142,
           0.8730595111846924,
           1.0000003576278687,
           0.8920118808746338
          ],
          [
           0.9252579808235168,
           0.8511122465133667,
           0.7646462917327881,
           0.8971012830734253,
           0.8457031846046448,
           0.9207818508148193,
           0.8155559301376343,
           0.8409683704376221,
           0.7653436660766602,
           0.7688632011413574,
           0.7979779839515686,
           0.829687237739563,
           0.8393956422805786,
           0.7442770600318909,
           0.8162240982055664,
           0.7355161905288696,
           0.7429286241531372,
           0.6867006421089172,
           0.7616534233093262,
           0.7205151915550232,
           0.9165962934494019,
           0.8920118808746338,
           1
          ]
         ]
        }
       ],
       "layout": {
        "coloraxis": {
         "colorbar": {
          "title": {
           "text": "Similarity Score"
          }
         },
         "colorscale": [
          [
           0,
           "rgb(247,252,240)"
          ],
          [
           0.125,
           "rgb(224,243,219)"
          ],
          [
           0.25,
           "rgb(204,235,197)"
          ],
          [
           0.375,
           "rgb(168,221,181)"
          ],
          [
           0.5,
           "rgb(123,204,196)"
          ],
          [
           0.625,
           "rgb(78,179,211)"
          ],
          [
           0.75,
           "rgb(43,140,190)"
          ],
          [
           0.875,
           "rgb(8,104,172)"
          ],
          [
           1,
           "rgb(8,64,129)"
          ]
         ]
        },
        "height": 800,
        "hoverlabel": {
         "bgcolor": "white",
         "font": {
          "family": "Rockwell",
          "size": 16
         }
        },
        "legend": {
         "title": {
          "text": "Trend"
         }
        },
        "margin": {
         "t": 60
        },
        "showlegend": true,
        "template": {
         "data": {
          "bar": [
           {
            "error_x": {
             "color": "#2a3f5f"
            },
            "error_y": {
             "color": "#2a3f5f"
            },
            "marker": {
             "line": {
              "color": "#E5ECF6",
              "width": 0.5
             },
             "pattern": {
              "fillmode": "overlay",
              "size": 10,
              "solidity": 0.2
             }
            },
            "type": "bar"
           }
          ],
          "barpolar": [
           {
            "marker": {
             "line": {
              "color": "#E5ECF6",
              "width": 0.5
             },
             "pattern": {
              "fillmode": "overlay",
              "size": 10,
              "solidity": 0.2
             }
            },
            "type": "barpolar"
           }
          ],
          "carpet": [
           {
            "aaxis": {
             "endlinecolor": "#2a3f5f",
             "gridcolor": "white",
             "linecolor": "white",
             "minorgridcolor": "white",
             "startlinecolor": "#2a3f5f"
            },
            "baxis": {
             "endlinecolor": "#2a3f5f",
             "gridcolor": "white",
             "linecolor": "white",
             "minorgridcolor": "white",
             "startlinecolor": "#2a3f5f"
            },
            "type": "carpet"
           }
          ],
          "choropleth": [
           {
            "colorbar": {
             "outlinewidth": 0,
             "ticks": ""
            },
            "type": "choropleth"
           }
          ],
          "contour": [
           {
            "colorbar": {
             "outlinewidth": 0,
             "ticks": ""
            },
            "colorscale": [
             [
              0,
              "#0d0887"
             ],
             [
              0.1111111111111111,
              "#46039f"
             ],
             [
              0.2222222222222222,
              "#7201a8"
             ],
             [
              0.3333333333333333,
              "#9c179e"
             ],
             [
              0.4444444444444444,
              "#bd3786"
             ],
             [
              0.5555555555555556,
              "#d8576b"
             ],
             [
              0.6666666666666666,
              "#ed7953"
             ],
             [
              0.7777777777777778,
              "#fb9f3a"
             ],
             [
              0.8888888888888888,
              "#fdca26"
             ],
             [
              1,
              "#f0f921"
             ]
            ],
            "type": "contour"
           }
          ],
          "contourcarpet": [
           {
            "colorbar": {
             "outlinewidth": 0,
             "ticks": ""
            },
            "type": "contourcarpet"
           }
          ],
          "heatmap": [
           {
            "colorbar": {
             "outlinewidth": 0,
             "ticks": ""
            },
            "colorscale": [
             [
              0,
              "#0d0887"
             ],
             [
              0.1111111111111111,
              "#46039f"
             ],
             [
              0.2222222222222222,
              "#7201a8"
             ],
             [
              0.3333333333333333,
              "#9c179e"
             ],
             [
              0.4444444444444444,
              "#bd3786"
             ],
             [
              0.5555555555555556,
              "#d8576b"
             ],
             [
              0.6666666666666666,
              "#ed7953"
             ],
             [
              0.7777777777777778,
              "#fb9f3a"
             ],
             [
              0.8888888888888888,
              "#fdca26"
             ],
             [
              1,
              "#f0f921"
             ]
            ],
            "type": "heatmap"
           }
          ],
          "heatmapgl": [
           {
            "colorbar": {
             "outlinewidth": 0,
             "ticks": ""
            },
            "colorscale": [
             [
              0,
              "#0d0887"
             ],
             [
              0.1111111111111111,
              "#46039f"
             ],
             [
              0.2222222222222222,
              "#7201a8"
             ],
             [
              0.3333333333333333,
              "#9c179e"
             ],
             [
              0.4444444444444444,
              "#bd3786"
             ],
             [
              0.5555555555555556,
              "#d8576b"
             ],
             [
              0.6666666666666666,
              "#ed7953"
             ],
             [
              0.7777777777777778,
              "#fb9f3a"
             ],
             [
              0.8888888888888888,
              "#fdca26"
             ],
             [
              1,
              "#f0f921"
             ]
            ],
            "type": "heatmapgl"
           }
          ],
          "histogram": [
           {
            "marker": {
             "pattern": {
              "fillmode": "overlay",
              "size": 10,
              "solidity": 0.2
             }
            },
            "type": "histogram"
           }
          ],
          "histogram2d": [
           {
            "colorbar": {
             "outlinewidth": 0,
             "ticks": ""
            },
            "colorscale": [
             [
              0,
              "#0d0887"
             ],
             [
              0.1111111111111111,
              "#46039f"
             ],
             [
              0.2222222222222222,
              "#7201a8"
             ],
             [
              0.3333333333333333,
              "#9c179e"
             ],
             [
              0.4444444444444444,
              "#bd3786"
             ],
             [
              0.5555555555555556,
              "#d8576b"
             ],
             [
              0.6666666666666666,
              "#ed7953"
             ],
             [
              0.7777777777777778,
              "#fb9f3a"
             ],
             [
              0.8888888888888888,
              "#fdca26"
             ],
             [
              1,
              "#f0f921"
             ]
            ],
            "type": "histogram2d"
           }
          ],
          "histogram2dcontour": [
           {
            "colorbar": {
             "outlinewidth": 0,
             "ticks": ""
            },
            "colorscale": [
             [
              0,
              "#0d0887"
             ],
             [
              0.1111111111111111,
              "#46039f"
             ],
             [
              0.2222222222222222,
              "#7201a8"
             ],
             [
              0.3333333333333333,
              "#9c179e"
             ],
             [
              0.4444444444444444,
              "#bd3786"
             ],
             [
              0.5555555555555556,
              "#d8576b"
             ],
             [
              0.6666666666666666,
              "#ed7953"
             ],
             [
              0.7777777777777778,
              "#fb9f3a"
             ],
             [
              0.8888888888888888,
              "#fdca26"
             ],
             [
              1,
              "#f0f921"
             ]
            ],
            "type": "histogram2dcontour"
           }
          ],
          "mesh3d": [
           {
            "colorbar": {
             "outlinewidth": 0,
             "ticks": ""
            },
            "type": "mesh3d"
           }
          ],
          "parcoords": [
           {
            "line": {
             "colorbar": {
              "outlinewidth": 0,
              "ticks": ""
             }
            },
            "type": "parcoords"
           }
          ],
          "pie": [
           {
            "automargin": true,
            "type": "pie"
           }
          ],
          "scatter": [
           {
            "fillpattern": {
             "fillmode": "overlay",
             "size": 10,
             "solidity": 0.2
            },
            "type": "scatter"
           }
          ],
          "scatter3d": [
           {
            "line": {
             "colorbar": {
              "outlinewidth": 0,
              "ticks": ""
             }
            },
            "marker": {
             "colorbar": {
              "outlinewidth": 0,
              "ticks": ""
             }
            },
            "type": "scatter3d"
           }
          ],
          "scattercarpet": [
           {
            "marker": {
             "colorbar": {
              "outlinewidth": 0,
              "ticks": ""
             }
            },
            "type": "scattercarpet"
           }
          ],
          "scattergeo": [
           {
            "marker": {
             "colorbar": {
              "outlinewidth": 0,
              "ticks": ""
             }
            },
            "type": "scattergeo"
           }
          ],
          "scattergl": [
           {
            "marker": {
             "colorbar": {
              "outlinewidth": 0,
              "ticks": ""
             }
            },
            "type": "scattergl"
           }
          ],
          "scattermapbox": [
           {
            "marker": {
             "colorbar": {
              "outlinewidth": 0,
              "ticks": ""
             }
            },
            "type": "scattermapbox"
           }
          ],
          "scatterpolar": [
           {
            "marker": {
             "colorbar": {
              "outlinewidth": 0,
              "ticks": ""
             }
            },
            "type": "scatterpolar"
           }
          ],
          "scatterpolargl": [
           {
            "marker": {
             "colorbar": {
              "outlinewidth": 0,
              "ticks": ""
             }
            },
            "type": "scatterpolargl"
           }
          ],
          "scatterternary": [
           {
            "marker": {
             "colorbar": {
              "outlinewidth": 0,
              "ticks": ""
             }
            },
            "type": "scatterternary"
           }
          ],
          "surface": [
           {
            "colorbar": {
             "outlinewidth": 0,
             "ticks": ""
            },
            "colorscale": [
             [
              0,
              "#0d0887"
             ],
             [
              0.1111111111111111,
              "#46039f"
             ],
             [
              0.2222222222222222,
              "#7201a8"
             ],
             [
              0.3333333333333333,
              "#9c179e"
             ],
             [
              0.4444444444444444,
              "#bd3786"
             ],
             [
              0.5555555555555556,
              "#d8576b"
             ],
             [
              0.6666666666666666,
              "#ed7953"
             ],
             [
              0.7777777777777778,
              "#fb9f3a"
             ],
             [
              0.8888888888888888,
              "#fdca26"
             ],
             [
              1,
              "#f0f921"
             ]
            ],
            "type": "surface"
           }
          ],
          "table": [
           {
            "cells": {
             "fill": {
              "color": "#EBF0F8"
             },
             "line": {
              "color": "white"
             }
            },
            "header": {
             "fill": {
              "color": "#C8D4E3"
             },
             "line": {
              "color": "white"
             }
            },
            "type": "table"
           }
          ]
         },
         "layout": {
          "annotationdefaults": {
           "arrowcolor": "#2a3f5f",
           "arrowhead": 0,
           "arrowwidth": 1
          },
          "autotypenumbers": "strict",
          "coloraxis": {
           "colorbar": {
            "outlinewidth": 0,
            "ticks": ""
           }
          },
          "colorscale": {
           "diverging": [
            [
             0,
             "#8e0152"
            ],
            [
             0.1,
             "#c51b7d"
            ],
            [
             0.2,
             "#de77ae"
            ],
            [
             0.3,
             "#f1b6da"
            ],
            [
             0.4,
             "#fde0ef"
            ],
            [
             0.5,
             "#f7f7f7"
            ],
            [
             0.6,
             "#e6f5d0"
            ],
            [
             0.7,
             "#b8e186"
            ],
            [
             0.8,
             "#7fbc41"
            ],
            [
             0.9,
             "#4d9221"
            ],
            [
             1,
             "#276419"
            ]
           ],
           "sequential": [
            [
             0,
             "#0d0887"
            ],
            [
             0.1111111111111111,
             "#46039f"
            ],
            [
             0.2222222222222222,
             "#7201a8"
            ],
            [
             0.3333333333333333,
             "#9c179e"
            ],
            [
             0.4444444444444444,
             "#bd3786"
            ],
            [
             0.5555555555555556,
             "#d8576b"
            ],
            [
             0.6666666666666666,
             "#ed7953"
            ],
            [
             0.7777777777777778,
             "#fb9f3a"
            ],
            [
             0.8888888888888888,
             "#fdca26"
            ],
            [
             1,
             "#f0f921"
            ]
           ],
           "sequentialminus": [
            [
             0,
             "#0d0887"
            ],
            [
             0.1111111111111111,
             "#46039f"
            ],
            [
             0.2222222222222222,
             "#7201a8"
            ],
            [
             0.3333333333333333,
             "#9c179e"
            ],
            [
             0.4444444444444444,
             "#bd3786"
            ],
            [
             0.5555555555555556,
             "#d8576b"
            ],
            [
             0.6666666666666666,
             "#ed7953"
            ],
            [
             0.7777777777777778,
             "#fb9f3a"
            ],
            [
             0.8888888888888888,
             "#fdca26"
            ],
            [
             1,
             "#f0f921"
            ]
           ]
          },
          "colorway": [
           "#636efa",
           "#EF553B",
           "#00cc96",
           "#ab63fa",
           "#FFA15A",
           "#19d3f3",
           "#FF6692",
           "#B6E880",
           "#FF97FF",
           "#FECB52"
          ],
          "font": {
           "color": "#2a3f5f"
          },
          "geo": {
           "bgcolor": "white",
           "lakecolor": "white",
           "landcolor": "#E5ECF6",
           "showlakes": true,
           "showland": true,
           "subunitcolor": "white"
          },
          "hoverlabel": {
           "align": "left"
          },
          "hovermode": "closest",
          "mapbox": {
           "style": "light"
          },
          "paper_bgcolor": "white",
          "plot_bgcolor": "#E5ECF6",
          "polar": {
           "angularaxis": {
            "gridcolor": "white",
            "linecolor": "white",
            "ticks": ""
           },
           "bgcolor": "#E5ECF6",
           "radialaxis": {
            "gridcolor": "white",
            "linecolor": "white",
            "ticks": ""
           }
          },
          "scene": {
           "xaxis": {
            "backgroundcolor": "#E5ECF6",
            "gridcolor": "white",
            "gridwidth": 2,
            "linecolor": "white",
            "showbackground": true,
            "ticks": "",
            "zerolinecolor": "white"
           },
           "yaxis": {
            "backgroundcolor": "#E5ECF6",
            "gridcolor": "white",
            "gridwidth": 2,
            "linecolor": "white",
            "showbackground": true,
            "ticks": "",
            "zerolinecolor": "white"
           },
           "zaxis": {
            "backgroundcolor": "#E5ECF6",
            "gridcolor": "white",
            "gridwidth": 2,
            "linecolor": "white",
            "showbackground": true,
            "ticks": "",
            "zerolinecolor": "white"
           }
          },
          "shapedefaults": {
           "line": {
            "color": "#2a3f5f"
           }
          },
          "ternary": {
           "aaxis": {
            "gridcolor": "white",
            "linecolor": "white",
            "ticks": ""
           },
           "baxis": {
            "gridcolor": "white",
            "linecolor": "white",
            "ticks": ""
           },
           "bgcolor": "#E5ECF6",
           "caxis": {
            "gridcolor": "white",
            "linecolor": "white",
            "ticks": ""
           }
          },
          "title": {
           "x": 0.05
          },
          "xaxis": {
           "automargin": true,
           "gridcolor": "white",
           "linecolor": "white",
           "ticks": "",
           "title": {
            "standoff": 15
           },
           "zerolinecolor": "white",
           "zerolinewidth": 2
          },
          "yaxis": {
           "automargin": true,
           "gridcolor": "white",
           "linecolor": "white",
           "ticks": "",
           "title": {
            "standoff": 15
           },
           "zerolinecolor": "white",
           "zerolinewidth": 2
          }
         }
        },
        "title": {
         "font": {
          "color": "Black",
          "size": 22
         },
         "text": "<b>Similarity Matrix</b>",
         "x": 0.55,
         "xanchor": "center",
         "y": 0.95,
         "yanchor": "top"
        },
        "width": 800,
        "xaxis": {
         "anchor": "y",
         "constrain": "domain",
         "domain": [
          0,
          1
         ],
         "scaleanchor": "y"
        },
        "yaxis": {
         "anchor": "x",
         "autorange": "reversed",
         "constrain": "domain",
         "domain": [
          0,
          1
         ]
        }
       }
      }
     },
     "metadata": {},
     "output_type": "display_data"
    }
   ],
   "source": [
    "topic_model.visualize_heatmap()"
   ]
  },
  {
   "cell_type": "code",
   "execution_count": 75,
   "metadata": {},
   "outputs": [
    {
     "data": {
      "application/vnd.plotly.v1+json": {
       "config": {
        "plotlyServerURL": "https://plot.ly"
       },
       "data": [
        {
         "hovertext": "<b>Topic -1</b>:oberbürgermeisterin_spd_reker_gibt",
         "line": {
          "color": "black",
          "width": 1.5
         },
         "mode": "lines+lines",
         "name": "",
         "opacity": 0.1,
         "type": "scatter",
         "x": [
          1,
          2,
          3,
          4,
          5,
          6,
          7,
          8,
          9,
          10
         ],
         "y": [
          -1.8490861496352258,
          -1.9038776492739922,
          -1.9349333007841134,
          -1.9451861682022487,
          -1.9545786296353471,
          -1.9952583182612549,
          -2.003943766012635,
          -2.0060890267766975,
          -2.0155335623038906,
          -2.017854588704553
         ]
        },
        {
         "hovertext": "<b>Topic 0</b>:rat_oberbürgermeisterin_spd_90_heut",
         "line": {
          "color": "black",
          "width": 1.5
         },
         "mode": "lines+lines",
         "name": "",
         "opacity": 0.1,
         "type": "scatter",
         "x": [
          1,
          2,
          3,
          4,
          5,
          6,
          7,
          8,
          9,
          10
         ],
         "y": [
          -1.8286221582529845,
          -1.9573540620186567,
          -1.9601445195507217,
          -1.978374019426593,
          -1.9806766212719742,
          -1.9809885563844798,
          -1.9811834462898459,
          -1.9878940210419558,
          -2.0114701819699192,
          -2.021247902041708
         ]
        },
        {
         "hovertext": "<b>Topic 1</b>:enthaltungen_gegenstimmen_tagesordn",
         "line": {
          "color": "black",
          "width": 1.5
         },
         "mode": "lines+lines",
         "name": "",
         "opacity": 0.1,
         "type": "scatter",
         "x": [
          1,
          2,
          3,
          4,
          5,
          6,
          7,
          8,
          9,
          10
         ],
         "y": [
          -1.286369734095084,
          -1.2948960277510133,
          -1.334698984998552,
          -1.3516073919520692,
          -1.3575451282175737,
          -1.4184708310661582,
          -1.5014412491970053,
          -1.511727128768988,
          -1.5468424466255073,
          -1.5609493840520001
         ]
        },
        {
         "hovertext": "<b>Topic 2</b>:menschen_afd_oberbürgermeisterin_sp",
         "line": {
          "color": "black",
          "width": 1.5
         },
         "mode": "lines+lines",
         "name": "",
         "opacity": 0.1,
         "type": "scatter",
         "x": [
          1,
          2,
          3,
          4,
          5,
          6,
          7,
          8,
          9,
          10
         ],
         "y": [
          -1.779298834986366,
          -1.8570940699670146,
          -1.9346826557120032,
          -1.9830813440816477,
          -1.9874164136812447,
          -1.9890486014469375,
          -2.001593757388101,
          -2.0066724779007785,
          -2.013514455053663,
          -2.015952414145703
         ]
        },
        {
         "hovertext": "<b>Topic 3</b>:schulen_kinder_schule_eltern_gesamt",
         "line": {
          "color": "black",
          "width": 1.5
         },
         "mode": "lines+lines",
         "name": "",
         "opacity": 0.1,
         "type": "scatter",
         "x": [
          1,
          2,
          3,
          4,
          5,
          6,
          7,
          8,
          9,
          10
         ],
         "y": [
          -1.601498637306644,
          -1.6467142902722578,
          -1.6679649471736455,
          -1.7267455231317073,
          -1.7692634308049857,
          -1.799693822536967,
          -1.8308873543872772,
          -1.8551332453231588,
          -1.8727153129349938,
          -1.8891799825343225
         ]
        },
        {
         "hovertext": "<b>Topic 4</b>:fraktion_2021_enthaltungen_gibt_abs",
         "line": {
          "color": "black",
          "width": 1.5
         },
         "mode": "lines+lines",
         "name": "",
         "opacity": 0.1,
         "type": "scatter",
         "x": [
          1,
          2,
          3,
          4,
          5,
          6,
          7,
          8,
          9,
          10
         ],
         "y": [
          -1.3760648588225952,
          -1.515084617005943,
          -1.523726254611504,
          -1.6262313826751935,
          -1.6572016045934168,
          -1.6593884322685502,
          -1.6690241278161602,
          -1.6799371545672037,
          -1.6894735711247728,
          -1.7003665422581704
         ]
        },
        {
         "hovertext": "<b>Topic 5</b>:oberbürgermeisterin_liebe_henriette",
         "line": {
          "color": "black",
          "width": 1.5
         },
         "mode": "lines+lines",
         "name": "",
         "opacity": 0.1,
         "type": "scatter",
         "x": [
          1,
          2,
          3,
          4,
          5,
          6,
          7,
          8,
          9,
          10
         ],
         "y": [
          -1.7016530645555787,
          -1.7702313255991393,
          -1.8359900432348932,
          -1.839118736842126,
          -1.8443095518690122,
          -1.8445423239199352,
          -1.8604471914780418,
          -1.9004589186701237,
          -1.9385748351675467,
          -1.9397036638571117
         ]
        },
        {
         "hovertext": "<b>Topic 6</b>:Sport_________",
         "line": {
          "color": "black",
          "width": 1.5
         },
         "mode": "lines+lines",
         "name": "",
         "opacity": 0.1,
         "type": "scatter",
         "x": [
          1,
          2,
          3,
          4,
          5,
          6,
          7,
          8,
          9,
          10
         ],
         "y": [
          -0.024864573806139236,
          -2.0109929032008127,
          -2.0109929032008127,
          -2.0109929032008127,
          -2.0109929032008127,
          -2.0109929032008127,
          -2.0109929032008127,
          -2.0109929032008127,
          -2.0109929032008127,
          -2.0109929032008127
         ]
        },
        {
         "hovertext": "<b>Topic 7</b>:uhr_rates_damen_heute_herren_tageso",
         "line": {
          "color": "black",
          "width": 1.5
         },
         "mode": "lines+lines",
         "name": "",
         "opacity": 0.1,
         "type": "scatter",
         "x": [
          1,
          2,
          3,
          4,
          5,
          6,
          7,
          8,
          9,
          10
         ],
         "y": [
          -1.5818943035759299,
          -1.6090919816143678,
          -1.6412931720334736,
          -1.6623674410715155,
          -1.6654828818305953,
          -1.6708111977495446,
          -1.6849594748647079,
          -1.687721875935528,
          -1.7484076539431233,
          -1.7505583627944836
         ]
        },
        {
         "hovertext": "<b>Topic 8</b>:oberbürgermeisterin_dank_henriette_",
         "line": {
          "color": "black",
          "width": 1.5
         },
         "mode": "lines+lines",
         "name": "",
         "opacity": 0.1,
         "type": "scatter",
         "x": [
          1,
          2,
          3,
          4,
          5,
          6,
          7,
          8,
          9,
          10
         ],
         "y": [
          -1.803200426966961,
          -1.8891216754439095,
          -1.9092054549942425,
          -1.9113063044350902,
          -1.9236151590111643,
          -1.9256248608810411,
          -1.9484890078901766,
          -1.9527881132948477,
          -1.9587140440285842,
          -1.9724502186568553
         ]
        },
        {
         "hovertext": "<b>Topic 9</b>:spd_90_grünen_oberbürgermeisterin_r",
         "line": {
          "color": "black",
          "width": 1.5
         },
         "mode": "lines+lines",
         "name": "",
         "opacity": 0.1,
         "type": "scatter",
         "x": [
          1,
          2,
          3,
          4,
          5,
          6,
          7,
          8,
          9,
          10
         ],
         "y": [
          -1.8583974426728358,
          -1.8712339006431546,
          -1.8917096593432092,
          -1.896883873875992,
          -1.898025924394132,
          -1.924211090192769,
          -1.9357497081971125,
          -1.9519521400396438,
          -1.9582763934264846,
          -1.9638484489443147
         ]
        },
        {
         "hovertext": "<b>Topic 10</b>:oberbürgermeisterin_afd_henriette_",
         "line": {
          "color": "black",
          "width": 1.5
         },
         "mode": "lines+lines",
         "name": "",
         "opacity": 0.1,
         "type": "scatter",
         "x": [
          1,
          2,
          3,
          4,
          5,
          6,
          7,
          8,
          9,
          10
         ],
         "y": [
          -1.606004913809596,
          -1.651331235845911,
          -1.6634524432208706,
          -1.671871783548605,
          -1.7101859861751714,
          -1.7388519112717964,
          -1.7619359715220206,
          -1.799845322689072,
          -1.8274838589388702,
          -1.8862149614471349
         ]
        },
        {
         "hovertext": "<b>Topic 11</b>:Bildung_________",
         "line": {
          "color": "black",
          "width": 1.5
         },
         "mode": "lines+lines",
         "name": "",
         "opacity": 0.1,
         "type": "scatter",
         "x": [
          1,
          2,
          3,
          4,
          5,
          6,
          7,
          8,
          9,
          10
         ],
         "y": [
          -0.06519399873197179,
          -2.0109929032008127,
          -2.0109929032008127,
          -2.0109929032008127,
          -2.0109929032008127,
          -2.0109929032008127,
          -2.0109929032008127,
          -2.0109929032008127,
          -2.0109929032008127,
          -2.0109929032008127
         ]
        },
        {
         "hovertext": "<b>Topic 12</b>:linken_rheinenergie_oberbürgermeis",
         "line": {
          "color": "black",
          "width": 1.5
         },
         "mode": "lines+lines",
         "name": "",
         "opacity": 0.1,
         "type": "scatter",
         "x": [
          1,
          2,
          3,
          4,
          5,
          6,
          7,
          8,
          9,
          10
         ],
         "y": [
          -1.7535287567076276,
          -1.8393221093066736,
          -1.858224346222914,
          -1.8989060889634324,
          -1.9105453290409604,
          -1.929078517599251,
          -1.939346116316841,
          -1.9773809408680363,
          -1.9873952529561585,
          -1.9942308735611805
         ]
        },
        {
         "hovertext": "<b>Topic 13</b>:geehrte_damen_liebe_ukraine_fdp_ob",
         "line": {
          "color": "black",
          "width": 1.5
         },
         "mode": "lines+lines",
         "name": "",
         "opacity": 0.1,
         "type": "scatter",
         "x": [
          1,
          2,
          3,
          4,
          5,
          6,
          7,
          8,
          9,
          10
         ],
         "y": [
          -1.7030163550241202,
          -1.8522121663524227,
          -1.8765416159525905,
          -1.8931078495025364,
          -1.8935687305700424,
          -1.8973385157251295,
          -1.9206528654527277,
          -1.9406405051507296,
          -1.95900456173408,
          -1.9809316392134217
         ]
        },
        {
         "hovertext": "<b>Topic 14</b>:grünen_oberbürgermeisterin_gesagt_",
         "line": {
          "color": "black",
          "width": 1.5
         },
         "mode": "lines+lines",
         "name": "",
         "opacity": 0.1,
         "type": "scatter",
         "x": [
          1,
          2,
          3,
          4,
          5,
          6,
          7,
          8,
          9,
          10
         ],
         "y": [
          -1.8601381841829485,
          -1.861806148991371,
          -1.8629318333515408,
          -1.8645055282729004,
          -1.881429720100085,
          -1.8896364004447324,
          -1.897025558081919,
          -1.9149178331704713,
          -1.923122877768511,
          -1.9414809515266893
         ]
        },
        {
         "hovertext": "<b>Topic 15</b>:klimaschutz_2035_müssen_klima_klim",
         "line": {
          "color": "black",
          "width": 1.5
         },
         "mode": "lines+lines",
         "name": "",
         "opacity": 0.1,
         "type": "scatter",
         "x": [
          1,
          2,
          3,
          4,
          5,
          6,
          7,
          8,
          9,
          10
         ],
         "y": [
          -1.6612000751793847,
          -1.7466739024206548,
          -1.8026434023211353,
          -1.8371897738539322,
          -1.8565484997576875,
          -1.8899899296542773,
          -1.904440928679331,
          -1.914737051845862,
          -1.9529826343796148,
          -1.955483610734625
         ]
        },
        {
         "hovertext": "<b>Topic 16</b>:corona_verwaltung_gen_dank_vielen_",
         "line": {
          "color": "black",
          "width": 1.5
         },
         "mode": "lines+lines",
         "name": "",
         "opacity": 0.1,
         "type": "scatter",
         "x": [
          1,
          2,
          3,
          4,
          5,
          6,
          7,
          8,
          9,
          10
         ],
         "y": [
          -1.5832268681852961,
          -1.7618538696961303,
          -1.865645440868034,
          -1.8660727155715238,
          -1.9016939715007306,
          -1.9761906701653331,
          -1.9797489908273072,
          -1.9876186957419806,
          -2.002161036739395,
          -2.0109929032008127
         ]
        },
        {
         "hovertext": "<b>Topic 17</b>:oberbürgermeisterin_spd_fdp_reker_",
         "line": {
          "color": "black",
          "width": 1.5
         },
         "mode": "lines+lines",
         "name": "",
         "opacity": 0.1,
         "type": "scatter",
         "x": [
          1,
          2,
          3,
          4,
          5,
          6,
          7,
          8,
          9,
          10
         ],
         "y": [
          -1.8055717240523965,
          -1.810119925074442,
          -1.8383888145717686,
          -1.846253466792915,
          -1.8764258954287336,
          -1.8839521040570506,
          -1.898496294606231,
          -1.900508517465116,
          -1.9097836027368542,
          -1.9191161196063302
         ]
        },
        {
         "hovertext": "<b>Topic 18</b>:euro_millionen_haushalt_zahlen_202",
         "line": {
          "color": "black",
          "width": 1.5
         },
         "mode": "lines+lines",
         "name": "",
         "opacity": 0.1,
         "type": "scatter",
         "x": [
          1,
          2,
          3,
          4,
          5,
          6,
          7,
          8,
          9,
          10
         ],
         "y": [
          -1.3385807575286741,
          -1.5113767853402964,
          -1.5832602583404571,
          -1.848167293280074,
          -1.8552690493286739,
          -1.8645517855935274,
          -1.8686948981378797,
          -1.8974755117018733,
          -1.9036684308984726,
          -1.9267655054974835
         ]
        },
        {
         "hovertext": "<b>Topic 19</b>:tagesordnung_gibt_oberbürgermeiste",
         "line": {
          "color": "black",
          "width": 1.5
         },
         "mode": "lines+lines",
         "name": "",
         "opacity": 0.1,
         "type": "scatter",
         "x": [
          1,
          2,
          3,
          4,
          5,
          6,
          7,
          8,
          9,
          10
         ],
         "y": [
          -1.224358762796334,
          -1.4837277801101298,
          -1.6394988909763086,
          -1.649004535196782,
          -1.6643599704080245,
          -1.6936066081734953,
          -1.6988901062965651,
          -1.7219169969319505,
          -1.7325587807961487,
          -1.7333145565213142
         ]
        },
        {
         "hovertext": "<b>Topic 20</b>:haus_müssen_sagen_spd_be_chen_lieb",
         "line": {
          "color": "black",
          "width": 1.5
         },
         "mode": "lines+lines",
         "name": "",
         "opacity": 0.1,
         "type": "scatter",
         "x": [
          1,
          2,
          3,
          4,
          5,
          6,
          7,
          8,
          9,
          10
         ],
         "y": [
          -1.9163989167494775,
          -1.9194199234768978,
          -1.9272458668556818,
          -1.9347465311465426,
          -1.9403544417361602,
          -1.962358447606653,
          -1.9736253616470978,
          -1.9761408676238525,
          -1.9911522537416473,
          -1.9951719001597732
         ]
        },
        {
         "hovertext": "<b>Topic 21</b>:gastronomie_gastronomen_außengastr",
         "line": {
          "color": "black",
          "width": 1.5
         },
         "mode": "lines+lines",
         "name": "",
         "opacity": 0.1,
         "type": "scatter",
         "x": [
          1,
          2,
          3,
          4,
          5,
          6,
          7,
          8,
          9,
          10
         ],
         "y": [
          -1.3937551346003911,
          -1.566865953019057,
          -1.6912180505740142,
          -1.7175234120849563,
          -1.7394576692231576,
          -1.7590308407323214,
          -1.8281598995242954,
          -1.8822106446877063,
          -1.8895092136869558,
          -1.9044819636550687
         ]
        },
        {
         "hovertext": "<b>Topic 22</b>:pv_klimaschutz_klima_energie_ausba",
         "line": {
          "color": "black",
          "width": 1.5
         },
         "mode": "lines+lines",
         "name": "",
         "opacity": 0.1,
         "type": "scatter",
         "x": [
          1,
          2,
          3,
          4,
          5,
          6,
          7,
          8,
          9,
          10
         ],
         "y": [
          -1.621449096511632,
          -1.7916204791014008,
          -1.8178478574426162,
          -1.8472337421418714,
          -1.8568147062861737,
          -1.861237578380052,
          -1.8699957253947566,
          -1.8779746833765594,
          -1.9198271644669227,
          -1.937535696415765
         ]
        },
        {
         "hovertext": "<b>Topic 23</b>:verfahren_weisenstein_linken_linke",
         "line": {
          "color": "black",
          "width": 1.5
         },
         "mode": "lines+lines",
         "name": "",
         "opacity": 0.1,
         "type": "scatter",
         "x": [
          1,
          2,
          3,
          4,
          5,
          6,
          7,
          8,
          9,
          10
         ],
         "y": [
          -1.7559771252205856,
          -1.8085367415386215,
          -1.8160857310081122,
          -1.8493993801947206,
          -1.8534127550260528,
          -1.8656132937722694,
          -1.8915510951674857,
          -1.9084952278829934,
          -1.9098341402823549,
          -1.9143586319931876
         ]
        },
        {
         "hovertext": "<b>Topic 24</b>:fraktionen_2020_stimmen_mitglieder",
         "line": {
          "color": "black",
          "width": 1.5
         },
         "mode": "lines+lines",
         "name": "",
         "opacity": 0.1,
         "type": "scatter",
         "x": [
          1,
          2,
          3,
          4,
          5,
          6,
          7,
          8,
          9,
          10
         ],
         "y": [
          -1.6590075159821684,
          -1.664525696726581,
          -1.7395696966325886,
          -1.7406901899645788,
          -1.7436270587988296,
          -1.8080806708721042,
          -1.8200498601461355,
          -1.8234538554956945,
          -1.8379874571423986,
          -1.8431821386523977
         ]
        },
        {
         "hovertext": "<b>Topic 25</b>:ganz_müll_menschen_90_vielen_bündn",
         "line": {
          "color": "black",
          "width": 1.5
         },
         "mode": "lines+lines",
         "name": "",
         "opacity": 0.1,
         "type": "scatter",
         "x": [
          1,
          2,
          3,
          4,
          5,
          6,
          7,
          8,
          9,
          10
         ],
         "y": [
          -1.7865397105850052,
          -1.8281709100436665,
          -1.8347686006056176,
          -1.835020161794168,
          -1.8355063790150212,
          -1.843835819150024,
          -1.8555086733955644,
          -1.8783342414463082,
          -1.8789770163437456,
          -1.890669106295335
         ]
        }
       ],
       "layout": {
        "height": 500,
        "hoverlabel": {
         "bgcolor": "white",
         "font": {
          "family": "Rockwell",
          "size": 16
         }
        },
        "showlegend": false,
        "template": {
         "data": {
          "bar": [
           {
            "error_x": {
             "color": "#2a3f5f"
            },
            "error_y": {
             "color": "#2a3f5f"
            },
            "marker": {
             "line": {
              "color": "white",
              "width": 0.5
             },
             "pattern": {
              "fillmode": "overlay",
              "size": 10,
              "solidity": 0.2
             }
            },
            "type": "bar"
           }
          ],
          "barpolar": [
           {
            "marker": {
             "line": {
              "color": "white",
              "width": 0.5
             },
             "pattern": {
              "fillmode": "overlay",
              "size": 10,
              "solidity": 0.2
             }
            },
            "type": "barpolar"
           }
          ],
          "carpet": [
           {
            "aaxis": {
             "endlinecolor": "#2a3f5f",
             "gridcolor": "#C8D4E3",
             "linecolor": "#C8D4E3",
             "minorgridcolor": "#C8D4E3",
             "startlinecolor": "#2a3f5f"
            },
            "baxis": {
             "endlinecolor": "#2a3f5f",
             "gridcolor": "#C8D4E3",
             "linecolor": "#C8D4E3",
             "minorgridcolor": "#C8D4E3",
             "startlinecolor": "#2a3f5f"
            },
            "type": "carpet"
           }
          ],
          "choropleth": [
           {
            "colorbar": {
             "outlinewidth": 0,
             "ticks": ""
            },
            "type": "choropleth"
           }
          ],
          "contour": [
           {
            "colorbar": {
             "outlinewidth": 0,
             "ticks": ""
            },
            "colorscale": [
             [
              0,
              "#0d0887"
             ],
             [
              0.1111111111111111,
              "#46039f"
             ],
             [
              0.2222222222222222,
              "#7201a8"
             ],
             [
              0.3333333333333333,
              "#9c179e"
             ],
             [
              0.4444444444444444,
              "#bd3786"
             ],
             [
              0.5555555555555556,
              "#d8576b"
             ],
             [
              0.6666666666666666,
              "#ed7953"
             ],
             [
              0.7777777777777778,
              "#fb9f3a"
             ],
             [
              0.8888888888888888,
              "#fdca26"
             ],
             [
              1,
              "#f0f921"
             ]
            ],
            "type": "contour"
           }
          ],
          "contourcarpet": [
           {
            "colorbar": {
             "outlinewidth": 0,
             "ticks": ""
            },
            "type": "contourcarpet"
           }
          ],
          "heatmap": [
           {
            "colorbar": {
             "outlinewidth": 0,
             "ticks": ""
            },
            "colorscale": [
             [
              0,
              "#0d0887"
             ],
             [
              0.1111111111111111,
              "#46039f"
             ],
             [
              0.2222222222222222,
              "#7201a8"
             ],
             [
              0.3333333333333333,
              "#9c179e"
             ],
             [
              0.4444444444444444,
              "#bd3786"
             ],
             [
              0.5555555555555556,
              "#d8576b"
             ],
             [
              0.6666666666666666,
              "#ed7953"
             ],
             [
              0.7777777777777778,
              "#fb9f3a"
             ],
             [
              0.8888888888888888,
              "#fdca26"
             ],
             [
              1,
              "#f0f921"
             ]
            ],
            "type": "heatmap"
           }
          ],
          "heatmapgl": [
           {
            "colorbar": {
             "outlinewidth": 0,
             "ticks": ""
            },
            "colorscale": [
             [
              0,
              "#0d0887"
             ],
             [
              0.1111111111111111,
              "#46039f"
             ],
             [
              0.2222222222222222,
              "#7201a8"
             ],
             [
              0.3333333333333333,
              "#9c179e"
             ],
             [
              0.4444444444444444,
              "#bd3786"
             ],
             [
              0.5555555555555556,
              "#d8576b"
             ],
             [
              0.6666666666666666,
              "#ed7953"
             ],
             [
              0.7777777777777778,
              "#fb9f3a"
             ],
             [
              0.8888888888888888,
              "#fdca26"
             ],
             [
              1,
              "#f0f921"
             ]
            ],
            "type": "heatmapgl"
           }
          ],
          "histogram": [
           {
            "marker": {
             "pattern": {
              "fillmode": "overlay",
              "size": 10,
              "solidity": 0.2
             }
            },
            "type": "histogram"
           }
          ],
          "histogram2d": [
           {
            "colorbar": {
             "outlinewidth": 0,
             "ticks": ""
            },
            "colorscale": [
             [
              0,
              "#0d0887"
             ],
             [
              0.1111111111111111,
              "#46039f"
             ],
             [
              0.2222222222222222,
              "#7201a8"
             ],
             [
              0.3333333333333333,
              "#9c179e"
             ],
             [
              0.4444444444444444,
              "#bd3786"
             ],
             [
              0.5555555555555556,
              "#d8576b"
             ],
             [
              0.6666666666666666,
              "#ed7953"
             ],
             [
              0.7777777777777778,
              "#fb9f3a"
             ],
             [
              0.8888888888888888,
              "#fdca26"
             ],
             [
              1,
              "#f0f921"
             ]
            ],
            "type": "histogram2d"
           }
          ],
          "histogram2dcontour": [
           {
            "colorbar": {
             "outlinewidth": 0,
             "ticks": ""
            },
            "colorscale": [
             [
              0,
              "#0d0887"
             ],
             [
              0.1111111111111111,
              "#46039f"
             ],
             [
              0.2222222222222222,
              "#7201a8"
             ],
             [
              0.3333333333333333,
              "#9c179e"
             ],
             [
              0.4444444444444444,
              "#bd3786"
             ],
             [
              0.5555555555555556,
              "#d8576b"
             ],
             [
              0.6666666666666666,
              "#ed7953"
             ],
             [
              0.7777777777777778,
              "#fb9f3a"
             ],
             [
              0.8888888888888888,
              "#fdca26"
             ],
             [
              1,
              "#f0f921"
             ]
            ],
            "type": "histogram2dcontour"
           }
          ],
          "mesh3d": [
           {
            "colorbar": {
             "outlinewidth": 0,
             "ticks": ""
            },
            "type": "mesh3d"
           }
          ],
          "parcoords": [
           {
            "line": {
             "colorbar": {
              "outlinewidth": 0,
              "ticks": ""
             }
            },
            "type": "parcoords"
           }
          ],
          "pie": [
           {
            "automargin": true,
            "type": "pie"
           }
          ],
          "scatter": [
           {
            "fillpattern": {
             "fillmode": "overlay",
             "size": 10,
             "solidity": 0.2
            },
            "type": "scatter"
           }
          ],
          "scatter3d": [
           {
            "line": {
             "colorbar": {
              "outlinewidth": 0,
              "ticks": ""
             }
            },
            "marker": {
             "colorbar": {
              "outlinewidth": 0,
              "ticks": ""
             }
            },
            "type": "scatter3d"
           }
          ],
          "scattercarpet": [
           {
            "marker": {
             "colorbar": {
              "outlinewidth": 0,
              "ticks": ""
             }
            },
            "type": "scattercarpet"
           }
          ],
          "scattergeo": [
           {
            "marker": {
             "colorbar": {
              "outlinewidth": 0,
              "ticks": ""
             }
            },
            "type": "scattergeo"
           }
          ],
          "scattergl": [
           {
            "marker": {
             "colorbar": {
              "outlinewidth": 0,
              "ticks": ""
             }
            },
            "type": "scattergl"
           }
          ],
          "scattermapbox": [
           {
            "marker": {
             "colorbar": {
              "outlinewidth": 0,
              "ticks": ""
             }
            },
            "type": "scattermapbox"
           }
          ],
          "scatterpolar": [
           {
            "marker": {
             "colorbar": {
              "outlinewidth": 0,
              "ticks": ""
             }
            },
            "type": "scatterpolar"
           }
          ],
          "scatterpolargl": [
           {
            "marker": {
             "colorbar": {
              "outlinewidth": 0,
              "ticks": ""
             }
            },
            "type": "scatterpolargl"
           }
          ],
          "scatterternary": [
           {
            "marker": {
             "colorbar": {
              "outlinewidth": 0,
              "ticks": ""
             }
            },
            "type": "scatterternary"
           }
          ],
          "surface": [
           {
            "colorbar": {
             "outlinewidth": 0,
             "ticks": ""
            },
            "colorscale": [
             [
              0,
              "#0d0887"
             ],
             [
              0.1111111111111111,
              "#46039f"
             ],
             [
              0.2222222222222222,
              "#7201a8"
             ],
             [
              0.3333333333333333,
              "#9c179e"
             ],
             [
              0.4444444444444444,
              "#bd3786"
             ],
             [
              0.5555555555555556,
              "#d8576b"
             ],
             [
              0.6666666666666666,
              "#ed7953"
             ],
             [
              0.7777777777777778,
              "#fb9f3a"
             ],
             [
              0.8888888888888888,
              "#fdca26"
             ],
             [
              1,
              "#f0f921"
             ]
            ],
            "type": "surface"
           }
          ],
          "table": [
           {
            "cells": {
             "fill": {
              "color": "#EBF0F8"
             },
             "line": {
              "color": "white"
             }
            },
            "header": {
             "fill": {
              "color": "#C8D4E3"
             },
             "line": {
              "color": "white"
             }
            },
            "type": "table"
           }
          ]
         },
         "layout": {
          "annotationdefaults": {
           "arrowcolor": "#2a3f5f",
           "arrowhead": 0,
           "arrowwidth": 1
          },
          "autotypenumbers": "strict",
          "coloraxis": {
           "colorbar": {
            "outlinewidth": 0,
            "ticks": ""
           }
          },
          "colorscale": {
           "diverging": [
            [
             0,
             "#8e0152"
            ],
            [
             0.1,
             "#c51b7d"
            ],
            [
             0.2,
             "#de77ae"
            ],
            [
             0.3,
             "#f1b6da"
            ],
            [
             0.4,
             "#fde0ef"
            ],
            [
             0.5,
             "#f7f7f7"
            ],
            [
             0.6,
             "#e6f5d0"
            ],
            [
             0.7,
             "#b8e186"
            ],
            [
             0.8,
             "#7fbc41"
            ],
            [
             0.9,
             "#4d9221"
            ],
            [
             1,
             "#276419"
            ]
           ],
           "sequential": [
            [
             0,
             "#0d0887"
            ],
            [
             0.1111111111111111,
             "#46039f"
            ],
            [
             0.2222222222222222,
             "#7201a8"
            ],
            [
             0.3333333333333333,
             "#9c179e"
            ],
            [
             0.4444444444444444,
             "#bd3786"
            ],
            [
             0.5555555555555556,
             "#d8576b"
            ],
            [
             0.6666666666666666,
             "#ed7953"
            ],
            [
             0.7777777777777778,
             "#fb9f3a"
            ],
            [
             0.8888888888888888,
             "#fdca26"
            ],
            [
             1,
             "#f0f921"
            ]
           ],
           "sequentialminus": [
            [
             0,
             "#0d0887"
            ],
            [
             0.1111111111111111,
             "#46039f"
            ],
            [
             0.2222222222222222,
             "#7201a8"
            ],
            [
             0.3333333333333333,
             "#9c179e"
            ],
            [
             0.4444444444444444,
             "#bd3786"
            ],
            [
             0.5555555555555556,
             "#d8576b"
            ],
            [
             0.6666666666666666,
             "#ed7953"
            ],
            [
             0.7777777777777778,
             "#fb9f3a"
            ],
            [
             0.8888888888888888,
             "#fdca26"
            ],
            [
             1,
             "#f0f921"
            ]
           ]
          },
          "colorway": [
           "#636efa",
           "#EF553B",
           "#00cc96",
           "#ab63fa",
           "#FFA15A",
           "#19d3f3",
           "#FF6692",
           "#B6E880",
           "#FF97FF",
           "#FECB52"
          ],
          "font": {
           "color": "#2a3f5f"
          },
          "geo": {
           "bgcolor": "white",
           "lakecolor": "white",
           "landcolor": "white",
           "showlakes": true,
           "showland": true,
           "subunitcolor": "#C8D4E3"
          },
          "hoverlabel": {
           "align": "left"
          },
          "hovermode": "closest",
          "mapbox": {
           "style": "light"
          },
          "paper_bgcolor": "white",
          "plot_bgcolor": "white",
          "polar": {
           "angularaxis": {
            "gridcolor": "#EBF0F8",
            "linecolor": "#EBF0F8",
            "ticks": ""
           },
           "bgcolor": "white",
           "radialaxis": {
            "gridcolor": "#EBF0F8",
            "linecolor": "#EBF0F8",
            "ticks": ""
           }
          },
          "scene": {
           "xaxis": {
            "backgroundcolor": "white",
            "gridcolor": "#DFE8F3",
            "gridwidth": 2,
            "linecolor": "#EBF0F8",
            "showbackground": true,
            "ticks": "",
            "zerolinecolor": "#EBF0F8"
           },
           "yaxis": {
            "backgroundcolor": "white",
            "gridcolor": "#DFE8F3",
            "gridwidth": 2,
            "linecolor": "#EBF0F8",
            "showbackground": true,
            "ticks": "",
            "zerolinecolor": "#EBF0F8"
           },
           "zaxis": {
            "backgroundcolor": "white",
            "gridcolor": "#DFE8F3",
            "gridwidth": 2,
            "linecolor": "#EBF0F8",
            "showbackground": true,
            "ticks": "",
            "zerolinecolor": "#EBF0F8"
           }
          },
          "shapedefaults": {
           "line": {
            "color": "#2a3f5f"
           }
          },
          "ternary": {
           "aaxis": {
            "gridcolor": "#DFE8F3",
            "linecolor": "#A2B1C6",
            "ticks": ""
           },
           "baxis": {
            "gridcolor": "#DFE8F3",
            "linecolor": "#A2B1C6",
            "ticks": ""
           },
           "bgcolor": "white",
           "caxis": {
            "gridcolor": "#DFE8F3",
            "linecolor": "#A2B1C6",
            "ticks": ""
           }
          },
          "title": {
           "x": 0.05
          },
          "xaxis": {
           "automargin": true,
           "gridcolor": "#EBF0F8",
           "linecolor": "#EBF0F8",
           "ticks": "",
           "title": {
            "standoff": 15
           },
           "zerolinecolor": "#EBF0F8",
           "zerolinewidth": 2
          },
          "yaxis": {
           "automargin": true,
           "gridcolor": "#EBF0F8",
           "linecolor": "#EBF0F8",
           "ticks": "",
           "title": {
            "standoff": 15
           },
           "zerolinecolor": "#EBF0F8",
           "zerolinewidth": 2
          }
         }
        },
        "title": {
         "font": {
          "color": "Black",
          "size": 22
         },
         "text": "<b>Term score decline per Topic</b>",
         "x": 0.5,
         "xanchor": "center",
         "y": 0.9,
         "yanchor": "top"
        },
        "width": 800,
        "xaxis": {
         "dtick": 2,
         "range": [
          0,
          10
         ],
         "tick0": 1,
         "title": {
          "text": "Term Rank"
         }
        },
        "yaxis": {
         "title": {
          "text": "c-TF-IDF score (log scale)"
         }
        }
       }
      }
     },
     "metadata": {},
     "output_type": "display_data"
    }
   ],
   "source": [
    "topic_model.visualize_term_rank(log_scale=True)"
   ]
  }
 ],
 "metadata": {
  "kernelspec": {
   "display_name": ".venv",
   "language": "python",
   "name": "python3"
  },
  "language_info": {
   "codemirror_mode": {
    "name": "ipython",
    "version": 3
   },
   "file_extension": ".py",
   "mimetype": "text/x-python",
   "name": "python",
   "nbconvert_exporter": "python",
   "pygments_lexer": "ipython3",
   "version": "3.8.17"
  }
 },
 "nbformat": 4,
 "nbformat_minor": 2
}
